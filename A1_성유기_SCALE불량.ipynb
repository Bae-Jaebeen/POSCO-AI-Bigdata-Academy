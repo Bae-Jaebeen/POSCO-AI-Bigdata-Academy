{
 "cells": [
  {
   "cell_type": "code",
   "execution_count": 1,
   "metadata": {
    "id": "7Lsria8dtTF1"
   },
   "outputs": [],
   "source": [
    "#Step 0 : 패키지 불러오기\n",
    "import pandas as pd\n",
    "import numpy as np\n",
    "import matplotlib\n",
    "import matplotlib.pyplot as plt\n",
    "\n",
    "#export_graphviz: 나무구조 생성및 저장\n",
    "from sklearn.tree import export_graphviz\n",
    "import graphviz\n",
    "from sklearn.model_selection import train_test_split\n",
    "from sklearn.tree import DecisionTreeClassifier as DTC\n",
    "from sklearn.ensemble import RandomForestClassifier\n",
    "from sklearn.ensemble import GradientBoostingClassifier as GBC\n",
    "from sklearn.neural_network import MLPClassifier\n",
    "\n",
    "#로지스틱 회귀분석\n",
    "from statsmodels.api import Logit\n",
    "from sklearn.metrics import accuracy_score\n",
    "\n",
    "#분류SVM\n",
    "from sklearn.svm import SVC\n",
    "\n",
    "from sklearn.model_selection import GridSearchCV\n",
    "from sklearn.preprocessing import StandardScaler\n",
    "from sklearn.metrics import confusion_matrix\n",
    "\n",
    "import matplotlib.font_manager as fm\n",
    "\n",
    "fm._rebuild()\n",
    "\n",
    "matplotlib.rc('font', family = 'NanumSquare')\n",
    "plt.rc('font', family = 'NanumSquare')\n"
   ]
  },
  {
   "cell_type": "markdown",
   "metadata": {
    "id": "NNYK5cC4tYTs"
   },
   "source": [
    "# 데이터 불러오기"
   ]
  },
  {
   "cell_type": "code",
   "execution_count": 2,
   "metadata": {
    "colab": {
     "base_uri": "https://localhost:8080/",
     "height": 309
    },
    "executionInfo": {
     "elapsed": 3862,
     "status": "ok",
     "timestamp": 1605980249604,
     "user": {
      "displayName": "성유기",
      "photoUrl": "",
      "userId": "01978674342265104944"
     },
     "user_tz": -540
    },
    "id": "q3aRiOyptGgd",
    "outputId": "530ec502-858a-49ec-bc8a-9f83e3a6936c"
   },
   "outputs": [
    {
     "data": {
      "text/html": [
       "<div>\n",
       "<style scoped>\n",
       "    .dataframe tbody tr th:only-of-type {\n",
       "        vertical-align: middle;\n",
       "    }\n",
       "\n",
       "    .dataframe tbody tr th {\n",
       "        vertical-align: top;\n",
       "    }\n",
       "\n",
       "    .dataframe thead th {\n",
       "        text-align: right;\n",
       "    }\n",
       "</style>\n",
       "<table border=\"1\" class=\"dataframe\">\n",
       "  <thead>\n",
       "    <tr style=\"text-align: right;\">\n",
       "      <th></th>\n",
       "      <th>PLATE_NO</th>\n",
       "      <th>ROLLING_DATE</th>\n",
       "      <th>SCALE</th>\n",
       "      <th>SPEC</th>\n",
       "      <th>STEEL_KIND</th>\n",
       "      <th>PT_THK</th>\n",
       "      <th>PT_WDTH</th>\n",
       "      <th>PT_LTH</th>\n",
       "      <th>PT_WGT</th>\n",
       "      <th>FUR_NO</th>\n",
       "      <th>...</th>\n",
       "      <th>FUR_HZ_TEMP</th>\n",
       "      <th>FUR_HZ_TIME</th>\n",
       "      <th>FUR_SZ_TEMP</th>\n",
       "      <th>FUR_SZ_TIME</th>\n",
       "      <th>FUR_TIME</th>\n",
       "      <th>FUR_EXTEMP</th>\n",
       "      <th>ROLLING_TEMP_T5</th>\n",
       "      <th>HSB</th>\n",
       "      <th>ROLLING_DESCALING</th>\n",
       "      <th>WORK_GR</th>\n",
       "    </tr>\n",
       "  </thead>\n",
       "  <tbody>\n",
       "    <tr>\n",
       "      <th>0</th>\n",
       "      <td>PB562774</td>\n",
       "      <td>2008-08-01:00:00:15</td>\n",
       "      <td>양품</td>\n",
       "      <td>AB/EH32-TM</td>\n",
       "      <td>T1</td>\n",
       "      <td>32.25</td>\n",
       "      <td>3707</td>\n",
       "      <td>15109</td>\n",
       "      <td>14180</td>\n",
       "      <td>1호기</td>\n",
       "      <td>...</td>\n",
       "      <td>1144</td>\n",
       "      <td>116</td>\n",
       "      <td>1133</td>\n",
       "      <td>59</td>\n",
       "      <td>282</td>\n",
       "      <td>1133</td>\n",
       "      <td>934</td>\n",
       "      <td>적용</td>\n",
       "      <td>8</td>\n",
       "      <td>2조</td>\n",
       "    </tr>\n",
       "    <tr>\n",
       "      <th>1</th>\n",
       "      <td>PB562775</td>\n",
       "      <td>2008-08-01:00:00:16</td>\n",
       "      <td>양품</td>\n",
       "      <td>AB/EH32-TM</td>\n",
       "      <td>T1</td>\n",
       "      <td>32.25</td>\n",
       "      <td>3707</td>\n",
       "      <td>15109</td>\n",
       "      <td>14180</td>\n",
       "      <td>1호기</td>\n",
       "      <td>...</td>\n",
       "      <td>1144</td>\n",
       "      <td>122</td>\n",
       "      <td>1135</td>\n",
       "      <td>53</td>\n",
       "      <td>283</td>\n",
       "      <td>1135</td>\n",
       "      <td>937</td>\n",
       "      <td>적용</td>\n",
       "      <td>8</td>\n",
       "      <td>2조</td>\n",
       "    </tr>\n",
       "    <tr>\n",
       "      <th>2</th>\n",
       "      <td>PB562776</td>\n",
       "      <td>2008-08-01:00:00:59</td>\n",
       "      <td>양품</td>\n",
       "      <td>NV-E36-TM</td>\n",
       "      <td>T8</td>\n",
       "      <td>33.27</td>\n",
       "      <td>3619</td>\n",
       "      <td>19181</td>\n",
       "      <td>18130</td>\n",
       "      <td>2호기</td>\n",
       "      <td>...</td>\n",
       "      <td>1129</td>\n",
       "      <td>116</td>\n",
       "      <td>1121</td>\n",
       "      <td>55</td>\n",
       "      <td>282</td>\n",
       "      <td>1121</td>\n",
       "      <td>889</td>\n",
       "      <td>적용</td>\n",
       "      <td>8</td>\n",
       "      <td>3조</td>\n",
       "    </tr>\n",
       "    <tr>\n",
       "      <th>3</th>\n",
       "      <td>PB562777</td>\n",
       "      <td>2008-08-01:00:01:24</td>\n",
       "      <td>양품</td>\n",
       "      <td>NV-E36-TM</td>\n",
       "      <td>T8</td>\n",
       "      <td>33.27</td>\n",
       "      <td>3619</td>\n",
       "      <td>19181</td>\n",
       "      <td>18130</td>\n",
       "      <td>2호기</td>\n",
       "      <td>...</td>\n",
       "      <td>1152</td>\n",
       "      <td>125</td>\n",
       "      <td>1127</td>\n",
       "      <td>68</td>\n",
       "      <td>316</td>\n",
       "      <td>1127</td>\n",
       "      <td>885</td>\n",
       "      <td>적용</td>\n",
       "      <td>8</td>\n",
       "      <td>3조</td>\n",
       "    </tr>\n",
       "    <tr>\n",
       "      <th>4</th>\n",
       "      <td>PB562778</td>\n",
       "      <td>2008-08-01:00:01:44</td>\n",
       "      <td>양품</td>\n",
       "      <td>BV-EH36-TM</td>\n",
       "      <td>T8</td>\n",
       "      <td>38.33</td>\n",
       "      <td>3098</td>\n",
       "      <td>13334</td>\n",
       "      <td>12430</td>\n",
       "      <td>3호기</td>\n",
       "      <td>...</td>\n",
       "      <td>1140</td>\n",
       "      <td>134</td>\n",
       "      <td>1128</td>\n",
       "      <td>48</td>\n",
       "      <td>314</td>\n",
       "      <td>1128</td>\n",
       "      <td>873</td>\n",
       "      <td>적용</td>\n",
       "      <td>8</td>\n",
       "      <td>1조</td>\n",
       "    </tr>\n",
       "  </tbody>\n",
       "</table>\n",
       "<p>5 rows × 21 columns</p>\n",
       "</div>"
      ],
      "text/plain": [
       "   PLATE_NO         ROLLING_DATE SCALE        SPEC STEEL_KIND  PT_THK  \\\n",
       "0  PB562774  2008-08-01:00:00:15    양품  AB/EH32-TM         T1   32.25   \n",
       "1  PB562775  2008-08-01:00:00:16    양품  AB/EH32-TM         T1   32.25   \n",
       "2  PB562776  2008-08-01:00:00:59    양품   NV-E36-TM         T8   33.27   \n",
       "3  PB562777  2008-08-01:00:01:24    양품   NV-E36-TM         T8   33.27   \n",
       "4  PB562778  2008-08-01:00:01:44    양품  BV-EH36-TM         T8   38.33   \n",
       "\n",
       "   PT_WDTH  PT_LTH  PT_WGT FUR_NO  ...  FUR_HZ_TEMP  FUR_HZ_TIME  FUR_SZ_TEMP  \\\n",
       "0     3707   15109   14180    1호기  ...         1144          116         1133   \n",
       "1     3707   15109   14180    1호기  ...         1144          122         1135   \n",
       "2     3619   19181   18130    2호기  ...         1129          116         1121   \n",
       "3     3619   19181   18130    2호기  ...         1152          125         1127   \n",
       "4     3098   13334   12430    3호기  ...         1140          134         1128   \n",
       "\n",
       "   FUR_SZ_TIME  FUR_TIME  FUR_EXTEMP  ROLLING_TEMP_T5  HSB ROLLING_DESCALING  \\\n",
       "0           59       282        1133              934   적용                 8   \n",
       "1           53       283        1135              937   적용                 8   \n",
       "2           55       282        1121              889   적용                 8   \n",
       "3           68       316        1127              885   적용                 8   \n",
       "4           48       314        1128              873   적용                 8   \n",
       "\n",
       "   WORK_GR  \n",
       "0       2조  \n",
       "1       2조  \n",
       "2       3조  \n",
       "3       3조  \n",
       "4       1조  \n",
       "\n",
       "[5 rows x 21 columns]"
      ]
     },
     "execution_count": 2,
     "metadata": {},
     "output_type": "execute_result"
    }
   ],
   "source": [
    "df_raw = pd.read_csv(\"SCALE불량.csv\", engine = 'python',encoding = 'cp949')\n",
    "df_raw.head()"
   ]
  },
  {
   "cell_type": "markdown",
   "metadata": {},
   "source": [
    "사전적정의   \n",
    "후판 : 열간압연 강판으로 두께가 6mm이상인 것  \n",
    "박판 : 3mm이하인 강판"
   ]
  },
  {
   "cell_type": "code",
   "execution_count": 3,
   "metadata": {
    "colab": {
     "base_uri": "https://localhost:8080/"
    },
    "executionInfo": {
     "elapsed": 3847,
     "status": "ok",
     "timestamp": 1605980249604,
     "user": {
      "displayName": "성유기",
      "photoUrl": "",
      "userId": "01978674342265104944"
     },
     "user_tz": -540
    },
    "id": "mm3_5JqstGgf",
    "outputId": "d955192f-f72d-4a4a-9da8-7d8b6489fd2c"
   },
   "outputs": [
    {
     "data": {
      "text/plain": [
       "PLATE_NO             0\n",
       "ROLLING_DATE         0\n",
       "SCALE                0\n",
       "SPEC                 0\n",
       "STEEL_KIND           0\n",
       "PT_THK               0\n",
       "PT_WDTH              0\n",
       "PT_LTH               0\n",
       "PT_WGT               0\n",
       "FUR_NO               0\n",
       "FUR_NO_ROW           0\n",
       "FUR_HZ_TEMP          0\n",
       "FUR_HZ_TIME          0\n",
       "FUR_SZ_TEMP          0\n",
       "FUR_SZ_TIME          0\n",
       "FUR_TIME             0\n",
       "FUR_EXTEMP           0\n",
       "ROLLING_TEMP_T5      0\n",
       "HSB                  0\n",
       "ROLLING_DESCALING    0\n",
       "WORK_GR              0\n",
       "dtype: int64"
      ]
     },
     "execution_count": 3,
     "metadata": {},
     "output_type": "execute_result"
    }
   ],
   "source": [
    "df_raw.isnull().sum(axis = 0)"
   ]
  },
  {
   "cell_type": "code",
   "execution_count": 4,
   "metadata": {
    "colab": {
     "base_uri": "https://localhost:8080/"
    },
    "executionInfo": {
     "elapsed": 3834,
     "status": "ok",
     "timestamp": 1605980249605,
     "user": {
      "displayName": "성유기",
      "photoUrl": "",
      "userId": "01978674342265104944"
     },
     "user_tz": -540
    },
    "id": "Sv34paeMtGgg",
    "outputId": "896abb59-3c65-445c-ed6f-6c67d83fef59"
   },
   "outputs": [
    {
     "data": {
      "text/plain": [
       "PLATE_NO              object\n",
       "ROLLING_DATE          object\n",
       "SCALE                 object\n",
       "SPEC                  object\n",
       "STEEL_KIND            object\n",
       "PT_THK               float64\n",
       "PT_WDTH                int64\n",
       "PT_LTH                 int64\n",
       "PT_WGT                 int64\n",
       "FUR_NO                object\n",
       "FUR_NO_ROW             int64\n",
       "FUR_HZ_TEMP            int64\n",
       "FUR_HZ_TIME            int64\n",
       "FUR_SZ_TEMP            int64\n",
       "FUR_SZ_TIME            int64\n",
       "FUR_TIME               int64\n",
       "FUR_EXTEMP             int64\n",
       "ROLLING_TEMP_T5        int64\n",
       "HSB                   object\n",
       "ROLLING_DESCALING      int64\n",
       "WORK_GR               object\n",
       "dtype: object"
      ]
     },
     "execution_count": 4,
     "metadata": {},
     "output_type": "execute_result"
    }
   ],
   "source": [
    "df_raw.dtypes"
   ]
  },
  {
   "cell_type": "code",
   "execution_count": 5,
   "metadata": {
    "scrolled": true
   },
   "outputs": [
    {
     "data": {
      "text/plain": [
       "Index(['PLATE_NO', 'ROLLING_DATE', 'SCALE', 'SPEC', 'STEEL_KIND', 'PT_THK',\n",
       "       'PT_WDTH', 'PT_LTH', 'PT_WGT', 'FUR_NO', 'FUR_NO_ROW', 'FUR_HZ_TEMP',\n",
       "       'FUR_HZ_TIME', 'FUR_SZ_TEMP', 'FUR_SZ_TIME', 'FUR_TIME', 'FUR_EXTEMP',\n",
       "       'ROLLING_TEMP_T5', 'HSB', 'ROLLING_DESCALING', 'WORK_GR'],\n",
       "      dtype='object')"
      ]
     },
     "execution_count": 5,
     "metadata": {},
     "output_type": "execute_result"
    }
   ],
   "source": [
    "df_raw.columns"
   ]
  },
  {
   "cell_type": "markdown",
   "metadata": {},
   "source": [
    "양품 : 0, 불량 :1"
   ]
  },
  {
   "cell_type": "code",
   "execution_count": 6,
   "metadata": {},
   "outputs": [
    {
     "data": {
      "text/html": [
       "<div>\n",
       "<style scoped>\n",
       "    .dataframe tbody tr th:only-of-type {\n",
       "        vertical-align: middle;\n",
       "    }\n",
       "\n",
       "    .dataframe tbody tr th {\n",
       "        vertical-align: top;\n",
       "    }\n",
       "\n",
       "    .dataframe thead th {\n",
       "        text-align: right;\n",
       "    }\n",
       "</style>\n",
       "<table border=\"1\" class=\"dataframe\">\n",
       "  <thead>\n",
       "    <tr style=\"text-align: right;\">\n",
       "      <th></th>\n",
       "      <th>PLATE_NO</th>\n",
       "      <th>ROLLING_DATE</th>\n",
       "      <th>SCALE</th>\n",
       "      <th>SPEC</th>\n",
       "      <th>STEEL_KIND</th>\n",
       "      <th>PT_THK</th>\n",
       "      <th>PT_WDTH</th>\n",
       "      <th>PT_LTH</th>\n",
       "      <th>PT_WGT</th>\n",
       "      <th>FUR_NO</th>\n",
       "      <th>...</th>\n",
       "      <th>FUR_HZ_TEMP</th>\n",
       "      <th>FUR_HZ_TIME</th>\n",
       "      <th>FUR_SZ_TEMP</th>\n",
       "      <th>FUR_SZ_TIME</th>\n",
       "      <th>FUR_TIME</th>\n",
       "      <th>FUR_EXTEMP</th>\n",
       "      <th>ROLLING_TEMP_T5</th>\n",
       "      <th>HSB</th>\n",
       "      <th>ROLLING_DESCALING</th>\n",
       "      <th>WORK_GR</th>\n",
       "    </tr>\n",
       "  </thead>\n",
       "  <tbody>\n",
       "    <tr>\n",
       "      <th>0</th>\n",
       "      <td>PB562774</td>\n",
       "      <td>2008-08-01:00:00:15</td>\n",
       "      <td>양품</td>\n",
       "      <td>AB/EH32-TM</td>\n",
       "      <td>T1</td>\n",
       "      <td>32.25</td>\n",
       "      <td>3707</td>\n",
       "      <td>15109</td>\n",
       "      <td>14180</td>\n",
       "      <td>1호기</td>\n",
       "      <td>...</td>\n",
       "      <td>1144</td>\n",
       "      <td>116</td>\n",
       "      <td>1133</td>\n",
       "      <td>59</td>\n",
       "      <td>282</td>\n",
       "      <td>1133</td>\n",
       "      <td>934</td>\n",
       "      <td>적용</td>\n",
       "      <td>8</td>\n",
       "      <td>2조</td>\n",
       "    </tr>\n",
       "    <tr>\n",
       "      <th>1</th>\n",
       "      <td>PB562775</td>\n",
       "      <td>2008-08-01:00:00:16</td>\n",
       "      <td>양품</td>\n",
       "      <td>AB/EH32-TM</td>\n",
       "      <td>T1</td>\n",
       "      <td>32.25</td>\n",
       "      <td>3707</td>\n",
       "      <td>15109</td>\n",
       "      <td>14180</td>\n",
       "      <td>1호기</td>\n",
       "      <td>...</td>\n",
       "      <td>1144</td>\n",
       "      <td>122</td>\n",
       "      <td>1135</td>\n",
       "      <td>53</td>\n",
       "      <td>283</td>\n",
       "      <td>1135</td>\n",
       "      <td>937</td>\n",
       "      <td>적용</td>\n",
       "      <td>8</td>\n",
       "      <td>2조</td>\n",
       "    </tr>\n",
       "    <tr>\n",
       "      <th>2</th>\n",
       "      <td>PB562776</td>\n",
       "      <td>2008-08-01:00:00:59</td>\n",
       "      <td>양품</td>\n",
       "      <td>NV-E36-TM</td>\n",
       "      <td>T8</td>\n",
       "      <td>33.27</td>\n",
       "      <td>3619</td>\n",
       "      <td>19181</td>\n",
       "      <td>18130</td>\n",
       "      <td>2호기</td>\n",
       "      <td>...</td>\n",
       "      <td>1129</td>\n",
       "      <td>116</td>\n",
       "      <td>1121</td>\n",
       "      <td>55</td>\n",
       "      <td>282</td>\n",
       "      <td>1121</td>\n",
       "      <td>889</td>\n",
       "      <td>적용</td>\n",
       "      <td>8</td>\n",
       "      <td>3조</td>\n",
       "    </tr>\n",
       "    <tr>\n",
       "      <th>3</th>\n",
       "      <td>PB562777</td>\n",
       "      <td>2008-08-01:00:01:24</td>\n",
       "      <td>양품</td>\n",
       "      <td>NV-E36-TM</td>\n",
       "      <td>T8</td>\n",
       "      <td>33.27</td>\n",
       "      <td>3619</td>\n",
       "      <td>19181</td>\n",
       "      <td>18130</td>\n",
       "      <td>2호기</td>\n",
       "      <td>...</td>\n",
       "      <td>1152</td>\n",
       "      <td>125</td>\n",
       "      <td>1127</td>\n",
       "      <td>68</td>\n",
       "      <td>316</td>\n",
       "      <td>1127</td>\n",
       "      <td>885</td>\n",
       "      <td>적용</td>\n",
       "      <td>8</td>\n",
       "      <td>3조</td>\n",
       "    </tr>\n",
       "    <tr>\n",
       "      <th>4</th>\n",
       "      <td>PB562778</td>\n",
       "      <td>2008-08-01:00:01:44</td>\n",
       "      <td>양품</td>\n",
       "      <td>BV-EH36-TM</td>\n",
       "      <td>T8</td>\n",
       "      <td>38.33</td>\n",
       "      <td>3098</td>\n",
       "      <td>13334</td>\n",
       "      <td>12430</td>\n",
       "      <td>3호기</td>\n",
       "      <td>...</td>\n",
       "      <td>1140</td>\n",
       "      <td>134</td>\n",
       "      <td>1128</td>\n",
       "      <td>48</td>\n",
       "      <td>314</td>\n",
       "      <td>1128</td>\n",
       "      <td>873</td>\n",
       "      <td>적용</td>\n",
       "      <td>8</td>\n",
       "      <td>1조</td>\n",
       "    </tr>\n",
       "    <tr>\n",
       "      <th>...</th>\n",
       "      <td>...</td>\n",
       "      <td>...</td>\n",
       "      <td>...</td>\n",
       "      <td>...</td>\n",
       "      <td>...</td>\n",
       "      <td>...</td>\n",
       "      <td>...</td>\n",
       "      <td>...</td>\n",
       "      <td>...</td>\n",
       "      <td>...</td>\n",
       "      <td>...</td>\n",
       "      <td>...</td>\n",
       "      <td>...</td>\n",
       "      <td>...</td>\n",
       "      <td>...</td>\n",
       "      <td>...</td>\n",
       "      <td>...</td>\n",
       "      <td>...</td>\n",
       "      <td>...</td>\n",
       "      <td>...</td>\n",
       "      <td>...</td>\n",
       "    </tr>\n",
       "    <tr>\n",
       "      <th>715</th>\n",
       "      <td>PB563502</td>\n",
       "      <td>2008-08-02:13:35:36</td>\n",
       "      <td>불량</td>\n",
       "      <td>NK-KA</td>\n",
       "      <td>C0</td>\n",
       "      <td>20.14</td>\n",
       "      <td>3580</td>\n",
       "      <td>38639</td>\n",
       "      <td>21870</td>\n",
       "      <td>3호기</td>\n",
       "      <td>...</td>\n",
       "      <td>1172</td>\n",
       "      <td>72</td>\n",
       "      <td>1164</td>\n",
       "      <td>62</td>\n",
       "      <td>245</td>\n",
       "      <td>1164</td>\n",
       "      <td>1005</td>\n",
       "      <td>적용</td>\n",
       "      <td>8</td>\n",
       "      <td>2조</td>\n",
       "    </tr>\n",
       "    <tr>\n",
       "      <th>716</th>\n",
       "      <td>PB563503</td>\n",
       "      <td>2008-08-02:13:35:02</td>\n",
       "      <td>양품</td>\n",
       "      <td>NV-A32</td>\n",
       "      <td>C0</td>\n",
       "      <td>15.08</td>\n",
       "      <td>3212</td>\n",
       "      <td>48233</td>\n",
       "      <td>18340</td>\n",
       "      <td>2호기</td>\n",
       "      <td>...</td>\n",
       "      <td>1150</td>\n",
       "      <td>61</td>\n",
       "      <td>1169</td>\n",
       "      <td>61</td>\n",
       "      <td>238</td>\n",
       "      <td>1169</td>\n",
       "      <td>947</td>\n",
       "      <td>적용</td>\n",
       "      <td>10</td>\n",
       "      <td>1조</td>\n",
       "    </tr>\n",
       "    <tr>\n",
       "      <th>717</th>\n",
       "      <td>PB563504</td>\n",
       "      <td>2008-08-02:14:40:00</td>\n",
       "      <td>양품</td>\n",
       "      <td>NV-A32</td>\n",
       "      <td>C0</td>\n",
       "      <td>16.60</td>\n",
       "      <td>3441</td>\n",
       "      <td>43688</td>\n",
       "      <td>19590</td>\n",
       "      <td>2호기</td>\n",
       "      <td>...</td>\n",
       "      <td>1169</td>\n",
       "      <td>65</td>\n",
       "      <td>1163</td>\n",
       "      <td>77</td>\n",
       "      <td>247</td>\n",
       "      <td>1163</td>\n",
       "      <td>948</td>\n",
       "      <td>적용</td>\n",
       "      <td>10</td>\n",
       "      <td>4조</td>\n",
       "    </tr>\n",
       "    <tr>\n",
       "      <th>718</th>\n",
       "      <td>PB563505</td>\n",
       "      <td>2008-08-02:13:35:19</td>\n",
       "      <td>양품</td>\n",
       "      <td>LR-A</td>\n",
       "      <td>C0</td>\n",
       "      <td>15.59</td>\n",
       "      <td>3363</td>\n",
       "      <td>48740</td>\n",
       "      <td>80240</td>\n",
       "      <td>3호기</td>\n",
       "      <td>...</td>\n",
       "      <td>1179</td>\n",
       "      <td>86</td>\n",
       "      <td>1163</td>\n",
       "      <td>45</td>\n",
       "      <td>243</td>\n",
       "      <td>1163</td>\n",
       "      <td>940</td>\n",
       "      <td>적용</td>\n",
       "      <td>10</td>\n",
       "      <td>2조</td>\n",
       "    </tr>\n",
       "    <tr>\n",
       "      <th>719</th>\n",
       "      <td>PB563506</td>\n",
       "      <td>2008-08-02:14:40:53</td>\n",
       "      <td>양품</td>\n",
       "      <td>GL-A32</td>\n",
       "      <td>C0</td>\n",
       "      <td>16.09</td>\n",
       "      <td>3400</td>\n",
       "      <td>54209</td>\n",
       "      <td>69840</td>\n",
       "      <td>3호기</td>\n",
       "      <td>...</td>\n",
       "      <td>1186</td>\n",
       "      <td>82</td>\n",
       "      <td>1169</td>\n",
       "      <td>45</td>\n",
       "      <td>239</td>\n",
       "      <td>1169</td>\n",
       "      <td>957</td>\n",
       "      <td>적용</td>\n",
       "      <td>10</td>\n",
       "      <td>2조</td>\n",
       "    </tr>\n",
       "  </tbody>\n",
       "</table>\n",
       "<p>720 rows × 21 columns</p>\n",
       "</div>"
      ],
      "text/plain": [
       "     PLATE_NO         ROLLING_DATE SCALE        SPEC STEEL_KIND  PT_THK  \\\n",
       "0    PB562774  2008-08-01:00:00:15    양품  AB/EH32-TM         T1   32.25   \n",
       "1    PB562775  2008-08-01:00:00:16    양품  AB/EH32-TM         T1   32.25   \n",
       "2    PB562776  2008-08-01:00:00:59    양품   NV-E36-TM         T8   33.27   \n",
       "3    PB562777  2008-08-01:00:01:24    양품   NV-E36-TM         T8   33.27   \n",
       "4    PB562778  2008-08-01:00:01:44    양품  BV-EH36-TM         T8   38.33   \n",
       "..        ...                  ...   ...         ...        ...     ...   \n",
       "715  PB563502  2008-08-02:13:35:36    불량       NK-KA         C0   20.14   \n",
       "716  PB563503  2008-08-02:13:35:02    양품      NV-A32         C0   15.08   \n",
       "717  PB563504  2008-08-02:14:40:00    양품      NV-A32         C0   16.60   \n",
       "718  PB563505  2008-08-02:13:35:19    양품        LR-A         C0   15.59   \n",
       "719  PB563506  2008-08-02:14:40:53    양품      GL-A32         C0   16.09   \n",
       "\n",
       "     PT_WDTH  PT_LTH  PT_WGT FUR_NO  ...  FUR_HZ_TEMP  FUR_HZ_TIME  \\\n",
       "0       3707   15109   14180    1호기  ...         1144          116   \n",
       "1       3707   15109   14180    1호기  ...         1144          122   \n",
       "2       3619   19181   18130    2호기  ...         1129          116   \n",
       "3       3619   19181   18130    2호기  ...         1152          125   \n",
       "4       3098   13334   12430    3호기  ...         1140          134   \n",
       "..       ...     ...     ...    ...  ...          ...          ...   \n",
       "715     3580   38639   21870    3호기  ...         1172           72   \n",
       "716     3212   48233   18340    2호기  ...         1150           61   \n",
       "717     3441   43688   19590    2호기  ...         1169           65   \n",
       "718     3363   48740   80240    3호기  ...         1179           86   \n",
       "719     3400   54209   69840    3호기  ...         1186           82   \n",
       "\n",
       "     FUR_SZ_TEMP  FUR_SZ_TIME  FUR_TIME  FUR_EXTEMP  ROLLING_TEMP_T5  HSB  \\\n",
       "0           1133           59       282        1133              934   적용   \n",
       "1           1135           53       283        1135              937   적용   \n",
       "2           1121           55       282        1121              889   적용   \n",
       "3           1127           68       316        1127              885   적용   \n",
       "4           1128           48       314        1128              873   적용   \n",
       "..           ...          ...       ...         ...              ...  ...   \n",
       "715         1164           62       245        1164             1005   적용   \n",
       "716         1169           61       238        1169              947   적용   \n",
       "717         1163           77       247        1163              948   적용   \n",
       "718         1163           45       243        1163              940   적용   \n",
       "719         1169           45       239        1169              957   적용   \n",
       "\n",
       "    ROLLING_DESCALING  WORK_GR  \n",
       "0                   8       2조  \n",
       "1                   8       2조  \n",
       "2                   8       3조  \n",
       "3                   8       3조  \n",
       "4                   8       1조  \n",
       "..                ...      ...  \n",
       "715                 8       2조  \n",
       "716                10       1조  \n",
       "717                10       4조  \n",
       "718                10       2조  \n",
       "719                10       2조  \n",
       "\n",
       "[720 rows x 21 columns]"
      ]
     },
     "execution_count": 6,
     "metadata": {},
     "output_type": "execute_result"
    }
   ],
   "source": [
    "df_raw"
   ]
  },
  {
   "cell_type": "code",
   "execution_count": 7,
   "metadata": {
    "scrolled": true
   },
   "outputs": [],
   "source": [
    "# df_raw[\"SCALE\"] = np.where(df_raw[\"SCALE\"] == \"양품\", 0, 1)\n",
    "# df_raw[\"SCALE\"]"
   ]
  },
  {
   "cell_type": "code",
   "execution_count": 8,
   "metadata": {},
   "outputs": [],
   "source": [
    "# (df_raw.SCALE ==1).sum()\n",
    "\n",
    "#총 720개중 231개의 불량 존재 "
   ]
  },
  {
   "cell_type": "code",
   "execution_count": 9,
   "metadata": {},
   "outputs": [],
   "source": [
    "# df_raw[\"HSB\"] = np.where(df_raw[\"HSB\"] == \"적용\", 0, 1)\n",
    "# df_raw[\"HSB\"]"
   ]
  },
  {
   "cell_type": "code",
   "execution_count": 10,
   "metadata": {},
   "outputs": [],
   "source": [
    "# (df_raw.HSB ==1).sum()\n",
    "# # HSB 의 갯수 33개  "
   ]
  },
  {
   "cell_type": "markdown",
   "metadata": {},
   "source": []
  },
  {
   "cell_type": "code",
   "execution_count": 11,
   "metadata": {},
   "outputs": [
    {
     "data": {
      "text/plain": [
       "<matplotlib.axes._subplots.AxesSubplot at 0x1c16c747b48>"
      ]
     },
     "execution_count": 11,
     "metadata": {},
     "output_type": "execute_result"
    },
    {
     "name": "stderr",
     "output_type": "stream",
     "text": [
      "findfont: Font family ['NanumSquare'] not found. Falling back to DejaVu Sans.\n",
      "C:\\Users\\USER\\anaconda3\\lib\\site-packages\\matplotlib\\backends\\backend_agg.py:211: RuntimeWarning: Glyph 48520 missing from current font.\n",
      "  font.set_text(s, 0.0, flags=flags)\n",
      "C:\\Users\\USER\\anaconda3\\lib\\site-packages\\matplotlib\\backends\\backend_agg.py:211: RuntimeWarning: Glyph 47049 missing from current font.\n",
      "  font.set_text(s, 0.0, flags=flags)\n",
      "C:\\Users\\USER\\anaconda3\\lib\\site-packages\\matplotlib\\backends\\backend_agg.py:180: RuntimeWarning: Glyph 48520 missing from current font.\n",
      "  font.set_text(s, 0, flags=flags)\n",
      "C:\\Users\\USER\\anaconda3\\lib\\site-packages\\matplotlib\\backends\\backend_agg.py:180: RuntimeWarning: Glyph 47049 missing from current font.\n",
      "  font.set_text(s, 0, flags=flags)\n",
      "C:\\Users\\USER\\anaconda3\\lib\\site-packages\\matplotlib\\backends\\backend_agg.py:211: RuntimeWarning: Glyph 50577 missing from current font.\n",
      "  font.set_text(s, 0.0, flags=flags)\n",
      "C:\\Users\\USER\\anaconda3\\lib\\site-packages\\matplotlib\\backends\\backend_agg.py:211: RuntimeWarning: Glyph 54408 missing from current font.\n",
      "  font.set_text(s, 0.0, flags=flags)\n",
      "C:\\Users\\USER\\anaconda3\\lib\\site-packages\\matplotlib\\backends\\backend_agg.py:180: RuntimeWarning: Glyph 50577 missing from current font.\n",
      "  font.set_text(s, 0, flags=flags)\n",
      "C:\\Users\\USER\\anaconda3\\lib\\site-packages\\matplotlib\\backends\\backend_agg.py:180: RuntimeWarning: Glyph 54408 missing from current font.\n",
      "  font.set_text(s, 0, flags=flags)\n"
     ]
    },
    {
     "data": {
      "image/png": "[encoded data removed]",
      "text/plain": [
       "<Figure size 432x288 with 1 Axes>"
      ]
     },
     "metadata": {},
     "output_type": "display_data"
    }
   ],
   "source": [
    "df_count = df_raw.groupby([\"SCALE\"]).size()\n",
    "df_count.plot.pie(y=\"SCALE\", autopct=\"%1f%%\")\n",
    "#불량률은 약 32% 양품은 약 68%"
   ]
  },
  {
   "cell_type": "markdown",
   "metadata": {
    "id": "AHktE_b-tkVD"
   },
   "source": [
    "# 히스토그램"
   ]
  },
  {
   "cell_type": "code",
   "execution_count": 12,
   "metadata": {
    "id": "4FNbIVPKtGgh"
   },
   "outputs": [],
   "source": [
    "def fun_plot_hist(data, var):\n",
    "    plt.hist(data[data['SCALE'] == \"양품\"][var], label = \"양품\", alpha = 0.5)\n",
    "    plt.hist(data[data['SCALE'] == \"불량\"][var], label = \"불량\", alpha = 0.5)\n",
    "    plt.legend()"
   ]
  },
  {
   "cell_type": "code",
   "execution_count": 13,
   "metadata": {
    "colab": {
     "base_uri": "https://localhost:8080/"
    },
    "executionInfo": {
     "elapsed": 4287,
     "status": "ok",
     "timestamp": 1605980250073,
     "user": {
      "displayName": "성유기",
      "photoUrl": "",
      "userId": "01978674342265104944"
     },
     "user_tz": -540
    },
    "id": "EKVIo6YQtGgh",
    "outputId": "96d6e48a-c264-444f-cdda-b576182cf840"
   },
   "outputs": [
    {
     "data": {
      "image/png": "[encoded data removed]",
      "text/plain": [
       "<Figure size 432x288 with 1 Axes>"
      ]
     },
     "metadata": {
      "needs_background": "light"
     },
     "output_type": "display_data"
    }
   ],
   "source": [
    "# Plate 두께\n",
    "fun_plot_hist(df_raw, \"PT_THK\")"
   ]
  },
  {
   "cell_type": "code",
   "execution_count": 14,
   "metadata": {
    "colab": {
     "base_uri": "https://localhost:8080/"
    },
    "executionInfo": {
     "elapsed": 4281,
     "status": "ok",
     "timestamp": 1605980250074,
     "user": {
      "displayName": "성유기",
      "photoUrl": "",
      "userId": "01978674342265104944"
     },
     "user_tz": -540
    },
    "id": "PpK82g82tGgi",
    "outputId": "85736177-415c-42f3-d278-7e1897b6ffac"
   },
   "outputs": [
    {
     "data": {
      "image/png": "[encoded data removed]",
      "text/plain": [
       "<Figure size 432x288 with 1 Axes>"
      ]
     },
     "metadata": {
      "needs_background": "light"
     },
     "output_type": "display_data"
    }
   ],
   "source": [
    "# Plate 폭\n",
    "fun_plot_hist(df_raw, \"PT_WDTH\")"
   ]
  },
  {
   "cell_type": "code",
   "execution_count": 15,
   "metadata": {
    "colab": {
     "base_uri": "https://localhost:8080/"
    },
    "executionInfo": {
     "elapsed": 4268,
     "status": "ok",
     "timestamp": 1605980250075,
     "user": {
      "displayName": "성유기",
      "photoUrl": "",
      "userId": "01978674342265104944"
     },
     "user_tz": -540
    },
    "id": "dK-IevD5tGgj",
    "outputId": "647c01e2-1f92-4d01-ea68-2a94ec36d923"
   },
   "outputs": [
    {
     "data": {
      "image/png": "[encoded data removed]",
      "text/plain": [
       "<Figure size 432x288 with 1 Axes>"
      ]
     },
     "metadata": {
      "needs_background": "light"
     },
     "output_type": "display_data"
    }
   ],
   "source": [
    "# Plate 길이\n",
    "fun_plot_hist(df_raw, \"PT_LTH\")"
   ]
  },
  {
   "cell_type": "code",
   "execution_count": 16,
   "metadata": {
    "colab": {
     "base_uri": "https://localhost:8080/"
    },
    "executionInfo": {
     "elapsed": 4668,
     "status": "ok",
     "timestamp": 1605980250483,
     "user": {
      "displayName": "성유기",
      "photoUrl": "",
      "userId": "01978674342265104944"
     },
     "user_tz": -540
    },
    "id": "7ChqRErItGgj",
    "outputId": "ddbe8cd3-279f-432c-cd37-c3b6a5cd5b24"
   },
   "outputs": [
    {
     "data": {
      "image/png": "[encoded data removed]",
      "text/plain": [
       "<Figure size 432x288 with 1 Axes>"
      ]
     },
     "metadata": {
      "needs_background": "light"
     },
     "output_type": "display_data"
    }
   ],
   "source": [
    "# Plate 중량\n",
    "fun_plot_hist(df_raw, \"PT_WGT\")"
   ]
  },
  {
   "cell_type": "markdown",
   "metadata": {
    "id": "cFsl_DnBtGgj"
   },
   "source": [
    "Plate의 중량이 작을 수록 양품과 불량품이 많은 경향성을 보이고 있다. 따라서 Plate의 중량은 양품/불량과의 영향이 있는 지 알 수 없다.\n",
    "\n",
    "플레이트의 중량에 따라 scale 불량의 비율이 큰 차이가 없는 것 \n",
    "    으로 보아 두 변수간의 상관이 적다고 생각할 수 있다."
   ]
  },
  {
   "cell_type": "code",
   "execution_count": 17,
   "metadata": {
    "colab": {
     "base_uri": "https://localhost:8080/"
    },
    "executionInfo": {
     "elapsed": 5110,
     "status": "ok",
     "timestamp": 1605980250932,
     "user": {
      "displayName": "성유기",
      "photoUrl": "",
      "userId": "01978674342265104944"
     },
     "user_tz": -540
    },
    "id": "f8C1MQXatGgk",
    "outputId": "4dee2f15-e824-4905-dcea-1e68da59428c"
   },
   "outputs": [
    {
     "data": {
      "image/png": "[encoded data removed]",
      "text/plain": [
       "<Figure size 432x288 with 1 Axes>"
      ]
     },
     "metadata": {
      "needs_background": "light"
     },
     "output_type": "display_data"
    }
   ],
   "source": [
    "# 가열로 가열대 온도\n",
    "fun_plot_hist(df_raw, \"FUR_HZ_TEMP\")"
   ]
  },
  {
   "cell_type": "code",
   "execution_count": 18,
   "metadata": {
    "colab": {
     "base_uri": "https://localhost:8080/"
    },
    "executionInfo": {
     "elapsed": 5103,
     "status": "ok",
     "timestamp": 1605980250933,
     "user": {
      "displayName": "성유기",
      "photoUrl": "",
      "userId": "01978674342265104944"
     },
     "user_tz": -540
    },
    "id": "vcs8Rm3JtGgk",
    "outputId": "4c374fc0-89f1-4cc8-9f38-8b8296dec7b5"
   },
   "outputs": [
    {
     "data": {
      "image/png": "[encoded data removed]",
      "text/plain": [
       "<Figure size 432x288 with 1 Axes>"
      ]
     },
     "metadata": {
      "needs_background": "light"
     },
     "output_type": "display_data"
    }
   ],
   "source": [
    "# 가열로 가열대 시간\n",
    "fun_plot_hist(df_raw, \"FUR_HZ_TIME\")"
   ]
  },
  {
   "cell_type": "code",
   "execution_count": 19,
   "metadata": {
    "colab": {
     "base_uri": "https://localhost:8080/"
    },
    "executionInfo": {
     "elapsed": 5520,
     "status": "ok",
     "timestamp": 1605980251358,
     "user": {
      "displayName": "성유기",
      "photoUrl": "",
      "userId": "01978674342265104944"
     },
     "user_tz": -540
    },
    "id": "y7G3uLCttGgk",
    "outputId": "d3c8cd1a-6c38-4059-f8b6-42bfa3f7b866"
   },
   "outputs": [
    {
     "data": {
      "image/png": "[encoded data removed]",
      "text/plain": [
       "<Figure size 432x288 with 1 Axes>"
      ]
     },
     "metadata": {
      "needs_background": "light"
     },
     "output_type": "display_data"
    }
   ],
   "source": [
    "# 가열로 균열대 온도\n",
    "fun_plot_hist(df_raw, \"FUR_SZ_TEMP\")"
   ]
  },
  {
   "cell_type": "code",
   "execution_count": 20,
   "metadata": {
    "colab": {
     "base_uri": "https://localhost:8080/"
    },
    "executionInfo": {
     "elapsed": 5963,
     "status": "ok",
     "timestamp": 1605980251809,
     "user": {
      "displayName": "성유기",
      "photoUrl": "",
      "userId": "01978674342265104944"
     },
     "user_tz": -540
    },
    "id": "xEkRu7XHtGgl",
    "outputId": "cc6be263-e7a6-4f17-a488-1c6d4dc31361"
   },
   "outputs": [
    {
     "data": {
      "image/png": "[encoded data removed]",
      "text/plain": [
       "<Figure size 432x288 with 1 Axes>"
      ]
     },
     "metadata": {
      "needs_background": "light"
     },
     "output_type": "display_data"
    }
   ],
   "source": [
    "# 가열로 균열대 시간\n",
    "fun_plot_hist(df_raw, \"FUR_SZ_TIME\")"
   ]
  },
  {
   "cell_type": "code",
   "execution_count": 21,
   "metadata": {
    "colab": {
     "base_uri": "https://localhost:8080/"
    },
    "executionInfo": {
     "elapsed": 5957,
     "status": "ok",
     "timestamp": 1605980251811,
     "user": {
      "displayName": "성유기",
      "photoUrl": "",
      "userId": "01978674342265104944"
     },
     "user_tz": -540
    },
    "id": "14iEXEXhtGgl",
    "outputId": "99e29b54-ea96-4a97-9bdf-2e93bed2b914",
    "scrolled": true
   },
   "outputs": [
    {
     "data": {
      "image/png": "[encoded data removed]",
      "text/plain": [
       "<Figure size 432x288 with 1 Axes>"
      ]
     },
     "metadata": {
      "needs_background": "light"
     },
     "output_type": "display_data"
    }
   ],
   "source": [
    "# 가열로 시간\n",
    "fun_plot_hist(df_raw, \"FUR_TIME\")"
   ]
  },
  {
   "cell_type": "code",
   "execution_count": 22,
   "metadata": {
    "colab": {
     "base_uri": "https://localhost:8080/"
    },
    "executionInfo": {
     "elapsed": 6619,
     "status": "ok",
     "timestamp": 1605980252480,
     "user": {
      "displayName": "성유기",
      "photoUrl": "",
      "userId": "01978674342265104944"
     },
     "user_tz": -540
    },
    "id": "3QNFgo0WtGgm",
    "outputId": "015dc3fb-0fe4-44e7-e105-00b87b80026b"
   },
   "outputs": [
    {
     "data": {
      "image/png": "[encoded data removed]",
      "text/plain": [
       "<Figure size 432x288 with 1 Axes>"
      ]
     },
     "metadata": {
      "needs_background": "light"
     },
     "output_type": "display_data"
    }
   ],
   "source": [
    "# 추출온도\n",
    "fun_plot_hist(df_raw, \"FUR_EXTEMP\")"
   ]
  },
  {
   "cell_type": "code",
   "execution_count": 23,
   "metadata": {
    "colab": {
     "base_uri": "https://localhost:8080/"
    },
    "executionInfo": {
     "elapsed": 7135,
     "status": "ok",
     "timestamp": 1605980253004,
     "user": {
      "displayName": "성유기",
      "photoUrl": "",
      "userId": "01978674342265104944"
     },
     "user_tz": -540
    },
    "id": "oQm4CGCMtGgm",
    "outputId": "45a56bca-4821-4233-ba70-da53828df88c"
   },
   "outputs": [
    {
     "data": {
      "image/png": "[encoded data removed]",
      "text/plain": [
       "<Figure size 432x288 with 1 Axes>"
      ]
     },
     "metadata": {
      "needs_background": "light"
     },
     "output_type": "display_data"
    }
   ],
   "source": [
    "# 압연온도\n",
    "fun_plot_hist(df_raw, \"ROLLING_TEMP_T5\")"
   ]
  },
  {
   "cell_type": "code",
   "execution_count": 24,
   "metadata": {
    "id": "oPwT3nfotGgn"
   },
   "outputs": [],
   "source": [
    "df_raw = df_raw[df_raw.ROLLING_TEMP_T5 > 600]\n",
    "\n",
    "#이상치 제거 "
   ]
  },
  {
   "cell_type": "code",
   "execution_count": 25,
   "metadata": {
    "colab": {
     "base_uri": "https://localhost:8080/"
    },
    "executionInfo": {
     "elapsed": 7130,
     "status": "ok",
     "timestamp": 1605980253009,
     "user": {
      "displayName": "성유기",
      "photoUrl": "",
      "userId": "01978674342265104944"
     },
     "user_tz": -540
    },
    "id": "Y-mqXYuhtGgn",
    "outputId": "e1ada11b-0a01-42ad-f2dd-3e8bfd5a1323"
   },
   "outputs": [
    {
     "data": {
      "image/png": "[encoded data removed]",
      "text/plain": [
       "<Figure size 432x288 with 1 Axes>"
      ]
     },
     "metadata": {
      "needs_background": "light"
     },
     "output_type": "display_data"
    }
   ],
   "source": [
    "#압연온도\n",
    "fun_plot_hist(df_raw, \"ROLLING_TEMP_T5\")"
   ]
  },
  {
   "cell_type": "code",
   "execution_count": 26,
   "metadata": {
    "colab": {
     "base_uri": "https://localhost:8080/"
    },
    "executionInfo": {
     "elapsed": 7123,
     "status": "ok",
     "timestamp": 1605980253010,
     "user": {
      "displayName": "성유기",
      "photoUrl": "",
      "userId": "01978674342265104944"
     },
     "user_tz": -540
    },
    "id": "ofc69gtLtGgn",
    "outputId": "945a2143-3134-47b5-98c3-b041ce45e9bb"
   },
   "outputs": [
    {
     "data": {
      "image/png": "[encoded data removed]",
      "text/plain": [
       "<Figure size 432x288 with 1 Axes>"
      ]
     },
     "metadata": {
      "needs_background": "light"
     },
     "output_type": "display_data"
    }
   ],
   "source": [
    "# 압연 중 Descaling 횟수\n",
    "fun_plot_hist(df_raw, \"ROLLING_DESCALING\")"
   ]
  },
  {
   "cell_type": "code",
   "execution_count": 27,
   "metadata": {},
   "outputs": [
    {
     "name": "stderr",
     "output_type": "stream",
     "text": [
      "C:\\Users\\USER\\anaconda3\\lib\\site-packages\\matplotlib\\backends\\backend_agg.py:211: RuntimeWarning: Glyph 51201 missing from current font.\n",
      "  font.set_text(s, 0.0, flags=flags)\n",
      "C:\\Users\\USER\\anaconda3\\lib\\site-packages\\matplotlib\\backends\\backend_agg.py:211: RuntimeWarning: Glyph 50857 missing from current font.\n",
      "  font.set_text(s, 0.0, flags=flags)\n",
      "C:\\Users\\USER\\anaconda3\\lib\\site-packages\\matplotlib\\backends\\backend_agg.py:211: RuntimeWarning: Glyph 48120 missing from current font.\n",
      "  font.set_text(s, 0.0, flags=flags)\n",
      "C:\\Users\\USER\\anaconda3\\lib\\site-packages\\matplotlib\\backends\\backend_agg.py:180: RuntimeWarning: Glyph 51201 missing from current font.\n",
      "  font.set_text(s, 0, flags=flags)\n",
      "C:\\Users\\USER\\anaconda3\\lib\\site-packages\\matplotlib\\backends\\backend_agg.py:180: RuntimeWarning: Glyph 50857 missing from current font.\n",
      "  font.set_text(s, 0, flags=flags)\n",
      "C:\\Users\\USER\\anaconda3\\lib\\site-packages\\matplotlib\\backends\\backend_agg.py:180: RuntimeWarning: Glyph 48120 missing from current font.\n",
      "  font.set_text(s, 0, flags=flags)\n"
     ]
    },
    {
     "data": {
      "image/png": "[encoded data removed]",
      "text/plain": [
       "<Figure size 432x288 with 1 Axes>"
      ]
     },
     "metadata": {
      "needs_background": "light"
     },
     "output_type": "display_data"
    }
   ],
   "source": [
    "fun_plot_hist(df_raw,\"HSB\")"
   ]
  },
  {
   "cell_type": "markdown",
   "metadata": {
    "id": "skGhH5cBtGgo"
   },
   "source": [
    "# 교차분석"
   ]
  },
  {
   "cell_type": "code",
   "execution_count": 28,
   "metadata": {
    "id": "cu9rjaoPtGgo"
   },
   "outputs": [],
   "source": [
    "def fun_print_crosstab(data, var):\n",
    "    print(pd.crosstab(index = data[\"SCALE\"], columns = data[var]))\n",
    "    print()\n",
    "    print(pd.crosstab(index = data[\"SCALE\"],columns = data[var], \n",
    "                      normalize =\"columns\").round(3))"
   ]
  },
  {
   "cell_type": "code",
   "execution_count": 29,
   "metadata": {
    "colab": {
     "base_uri": "https://localhost:8080/"
    },
    "executionInfo": {
     "elapsed": 7527,
     "status": "ok",
     "timestamp": 1605980253422,
     "user": {
      "displayName": "성유기",
      "photoUrl": "",
      "userId": "01978674342265104944"
     },
     "user_tz": -540
    },
    "id": "PD4AtQWVtGgo",
    "outputId": "ea4a5836-0249-4a99-f593-e8f3e7134c1d"
   },
   "outputs": [
    {
     "name": "stdout",
     "output_type": "stream",
     "text": [
      "FUR_NO  1호기  2호기  3호기\n",
      "SCALE                \n",
      "불량       73   70   88\n",
      "양품      166  166  151\n",
      "\n",
      "FUR_NO    1호기    2호기    3호기\n",
      "SCALE                      \n",
      "불량      0.305  0.297  0.368\n",
      "양품      0.695  0.703  0.632\n"
     ]
    }
   ],
   "source": [
    "# 가열로 호기\n",
    "fun_print_crosstab(df_raw, \"FUR_NO\")"
   ]
  },
  {
   "cell_type": "markdown",
   "metadata": {
    "id": "yNN4QmxbtGgo"
   },
   "source": [
    "가열로 호기의 각 데이터 양이 유사하다."
   ]
  },
  {
   "cell_type": "code",
   "execution_count": 30,
   "metadata": {
    "colab": {
     "base_uri": "https://localhost:8080/"
    },
    "executionInfo": {
     "elapsed": 8653,
     "status": "ok",
     "timestamp": 1605980254555,
     "user": {
      "displayName": "성유기",
      "photoUrl": "",
      "userId": "01978674342265104944"
     },
     "user_tz": -540
    },
    "id": "lHCLfFaOtGgo",
    "outputId": "680ec7cf-bf31-4fdd-e595-594855445d5c",
    "scrolled": true
   },
   "outputs": [
    {
     "data": {
      "text/plain": [
       "<matplotlib.axes._subplots.AxesSubplot at 0x1c16c81ed88>"
      ]
     },
     "execution_count": 30,
     "metadata": {},
     "output_type": "execute_result"
    },
    {
     "data": {
      "image/png": "[encoded data removed]",
      "text/plain": [
       "<Figure size 432x288 with 1 Axes>"
      ]
     },
     "metadata": {
      "needs_background": "light"
     },
     "output_type": "display_data"
    }
   ],
   "source": [
    "# 제품 규격\n",
    "df_count = df_raw[\"SPEC\"].value_counts()\n",
    "df_count.plot.bar()"
   ]
  },
  {
   "cell_type": "code",
   "execution_count": null,
   "metadata": {},
   "outputs": [],
   "source": []
  },
  {
   "cell_type": "code",
   "execution_count": null,
   "metadata": {},
   "outputs": [],
   "source": []
  },
  {
   "cell_type": "markdown",
   "metadata": {
    "id": "oay1lZjYtGgp"
   },
   "source": []
  },
  {
   "cell_type": "code",
   "execution_count": 31,
   "metadata": {
    "colab": {
     "base_uri": "https://localhost:8080/"
    },
    "executionInfo": {
     "elapsed": 8648,
     "status": "ok",
     "timestamp": 1605980254556,
     "user": {
      "displayName": "성유기",
      "photoUrl": "",
      "userId": "01978674342265104944"
     },
     "user_tz": -540
    },
    "id": "eDrk1fGgtGgp",
    "outputId": "93bfbd34-0dd8-4a4d-d183-9c6d51745335"
   },
   "outputs": [
    {
     "name": "stdout",
     "output_type": "stream",
     "text": [
      "STEEL_KIND   C0  C1  C3  T0  T1  T3  T5  T7  T8\n",
      "SCALE                                          \n",
      "불량          212   1   1   2   2   0   2   6   5\n",
      "양품          289   0   6  13  16   2  39  29  89\n",
      "\n",
      "STEEL_KIND     C0   C1     C3     T0     T1   T3     T5     T7     T8\n",
      "SCALE                                                                \n",
      "불량          0.423  1.0  0.143  0.133  0.111  0.0  0.049  0.171  0.053\n",
      "양품          0.577  0.0  0.857  0.867  0.889  1.0  0.951  0.829  0.947\n"
     ]
    }
   ],
   "source": [
    "# 강종\n",
    "fun_print_crosstab(df_raw, \"STEEL_KIND\")"
   ]
  },
  {
   "cell_type": "code",
   "execution_count": 32,
   "metadata": {
    "colab": {
     "base_uri": "https://localhost:8080/"
    },
    "executionInfo": {
     "elapsed": 8642,
     "status": "ok",
     "timestamp": 1605980254557,
     "user": {
      "displayName": "성유기",
      "photoUrl": "",
      "userId": "01978674342265104944"
     },
     "user_tz": -540
    },
    "id": "R5QIsduGtGgp",
    "outputId": "d8c56092-3607-4126-b43b-829019bbcea0"
   },
   "outputs": [
    {
     "name": "stdout",
     "output_type": "stream",
     "text": [
      "FUR_NO_ROW    1    2\n",
      "SCALE               \n",
      "불량          120  111\n",
      "양품          239  244\n",
      "\n",
      "FUR_NO_ROW      1      2\n",
      "SCALE                   \n",
      "불량          0.334  0.313\n",
      "양품          0.666  0.687\n"
     ]
    }
   ],
   "source": [
    "# 가열로 작업순번\n",
    "fun_print_crosstab(df_raw, \"FUR_NO_ROW\")"
   ]
  },
  {
   "cell_type": "code",
   "execution_count": 33,
   "metadata": {
    "colab": {
     "base_uri": "https://localhost:8080/"
    },
    "executionInfo": {
     "elapsed": 8635,
     "status": "ok",
     "timestamp": 1605980254557,
     "user": {
      "displayName": "성유기",
      "photoUrl": "",
      "userId": "01978674342265104944"
     },
     "user_tz": -540
    },
    "id": "Sbj7Z59atGgp",
    "outputId": "d7d749b8-6da6-42a3-eba1-3626f66c6e81"
   },
   "outputs": [
    {
     "name": "stdout",
     "output_type": "stream",
     "text": [
      "HSB    미적용   적용\n",
      "SCALE          \n",
      "불량      33  198\n",
      "양품       0  483\n",
      "\n",
      "HSB    미적용     적용\n",
      "SCALE            \n",
      "불량     1.0  0.291\n",
      "양품     0.0  0.709\n"
     ]
    }
   ],
   "source": [
    "# Hot Scale Braker\n",
    "fun_print_crosstab(df_raw, \"HSB\")"
   ]
  },
  {
   "cell_type": "code",
   "execution_count": 34,
   "metadata": {
    "colab": {
     "base_uri": "https://localhost:8080/"
    },
    "executionInfo": {
     "elapsed": 8631,
     "status": "ok",
     "timestamp": 1605980254558,
     "user": {
      "displayName": "성유기",
      "photoUrl": "",
      "userId": "01978674342265104944"
     },
     "user_tz": -540
    },
    "id": "gpstcZHqtGgq",
    "outputId": "c26158cd-1c2b-4b91-cc0a-c68bacf045f5"
   },
   "outputs": [
    {
     "name": "stdout",
     "output_type": "stream",
     "text": [
      "WORK_GR   1조   2조   3조   4조\n",
      "SCALE                      \n",
      "불량        67   45   54   65\n",
      "양품       121  119  115  128\n",
      "\n",
      "WORK_GR     1조     2조    3조     4조\n",
      "SCALE                             \n",
      "불량       0.356  0.274  0.32  0.337\n",
      "양품       0.644  0.726  0.68  0.663\n"
     ]
    }
   ],
   "source": [
    "# 작업조\n",
    "fun_print_crosstab(df_raw, \"WORK_GR\")   "
   ]
  },
  {
   "cell_type": "markdown",
   "metadata": {
    "id": "jb0ncgdMtGgq"
   },
   "source": [
    "# 이상치, 결측치 제거"
   ]
  },
  {
   "cell_type": "code",
   "execution_count": 35,
   "metadata": {
    "colab": {
     "base_uri": "https://localhost:8080/"
    },
    "executionInfo": {
     "elapsed": 8625,
     "status": "ok",
     "timestamp": 1605980254558,
     "user": {
      "displayName": "성유기",
      "photoUrl": "",
      "userId": "01978674342265104944"
     },
     "user_tz": -540
    },
    "id": "AcEEMjcWtGgq",
    "outputId": "dcef9f3e-9eea-4d95-d01e-01835fe16711"
   },
   "outputs": [
    {
     "data": {
      "text/plain": [
       "PLATE_NO             0\n",
       "ROLLING_DATE         0\n",
       "SCALE                0\n",
       "SPEC                 0\n",
       "STEEL_KIND           0\n",
       "PT_THK               0\n",
       "PT_WDTH              0\n",
       "PT_LTH               0\n",
       "PT_WGT               0\n",
       "FUR_NO               0\n",
       "FUR_NO_ROW           0\n",
       "FUR_HZ_TEMP          0\n",
       "FUR_HZ_TIME          0\n",
       "FUR_SZ_TEMP          0\n",
       "FUR_SZ_TIME          0\n",
       "FUR_TIME             0\n",
       "FUR_EXTEMP           0\n",
       "ROLLING_TEMP_T5      0\n",
       "HSB                  0\n",
       "ROLLING_DESCALING    0\n",
       "WORK_GR              0\n",
       "dtype: int64"
      ]
     },
     "execution_count": 35,
     "metadata": {},
     "output_type": "execute_result"
    }
   ],
   "source": [
    "df_raw.isnull().sum(axis=0)"
   ]
  },
  {
   "cell_type": "code",
   "execution_count": 36,
   "metadata": {},
   "outputs": [
    {
     "data": {
      "text/plain": [
       "<matplotlib.axes._subplots.AxesSubplot at 0x1c16c758848>"
      ]
     },
     "execution_count": 36,
     "metadata": {},
     "output_type": "execute_result"
    },
    {
     "data": {
      "image/png": "[encoded data removed]",
      "text/plain": [
       "<Figure size 1080x576 with 1 Axes>"
      ]
     },
     "metadata": {
      "needs_background": "light"
     },
     "output_type": "display_data"
    }
   ],
   "source": [
    "df_raw.boxplot(figsize=(15,8))"
   ]
  },
  {
   "cell_type": "code",
   "execution_count": 37,
   "metadata": {
    "colab": {
     "base_uri": "https://localhost:8080/"
    },
    "executionInfo": {
     "elapsed": 8619,
     "status": "ok",
     "timestamp": 1605980254559,
     "user": {
      "displayName": "성유기",
      "photoUrl": "",
      "userId": "01978674342265104944"
     },
     "user_tz": -540
    },
    "id": "sA2pMIfttGgq",
    "outputId": "fbe4294e-a2ad-46d0-ab2a-57987cd18a7a",
    "scrolled": true
   },
   "outputs": [
    {
     "data": {
      "text/plain": [
       "<matplotlib.axes._subplots.AxesSubplot at 0x1c16c76ef08>"
      ]
     },
     "execution_count": 37,
     "metadata": {},
     "output_type": "execute_result"
    },
    {
     "name": "stderr",
     "output_type": "stream",
     "text": [
      "findfont: Font family ['NanumSquare'] not found. Falling back to DejaVu Sans.\n",
      "C:\\Users\\USER\\anaconda3\\lib\\site-packages\\matplotlib\\backends\\backend_agg.py:211: RuntimeWarning: Glyph 48520 missing from current font.\n",
      "  font.set_text(s, 0.0, flags=flags)\n",
      "C:\\Users\\USER\\anaconda3\\lib\\site-packages\\matplotlib\\backends\\backend_agg.py:211: RuntimeWarning: Glyph 47049 missing from current font.\n",
      "  font.set_text(s, 0.0, flags=flags)\n",
      "C:\\Users\\USER\\anaconda3\\lib\\site-packages\\matplotlib\\backends\\backend_agg.py:211: RuntimeWarning: Glyph 50577 missing from current font.\n",
      "  font.set_text(s, 0.0, flags=flags)\n",
      "C:\\Users\\USER\\anaconda3\\lib\\site-packages\\matplotlib\\backends\\backend_agg.py:211: RuntimeWarning: Glyph 54408 missing from current font.\n",
      "  font.set_text(s, 0.0, flags=flags)\n",
      "C:\\Users\\USER\\anaconda3\\lib\\site-packages\\matplotlib\\backends\\backend_agg.py:180: RuntimeWarning: Glyph 48520 missing from current font.\n",
      "  font.set_text(s, 0, flags=flags)\n",
      "C:\\Users\\USER\\anaconda3\\lib\\site-packages\\matplotlib\\backends\\backend_agg.py:180: RuntimeWarning: Glyph 47049 missing from current font.\n",
      "  font.set_text(s, 0, flags=flags)\n",
      "C:\\Users\\USER\\anaconda3\\lib\\site-packages\\matplotlib\\backends\\backend_agg.py:180: RuntimeWarning: Glyph 50577 missing from current font.\n",
      "  font.set_text(s, 0, flags=flags)\n",
      "C:\\Users\\USER\\anaconda3\\lib\\site-packages\\matplotlib\\backends\\backend_agg.py:180: RuntimeWarning: Glyph 54408 missing from current font.\n",
      "  font.set_text(s, 0, flags=flags)\n"
     ]
    },
    {
     "data": {
      "image/png": "[encoded data removed]",
      "text/plain": [
       "<Figure size 432x288 with 1 Axes>"
      ]
     },
     "metadata": {
      "needs_background": "light"
     },
     "output_type": "display_data"
    }
   ],
   "source": [
    "FUR_HZ_TIME = df_raw[\"FUR_HZ_TIME\"]\n",
    "df_raw.boxplot(column = \"FUR_HZ_TIME\", by = \"SCALE\")"
   ]
  },
  {
   "cell_type": "code",
   "execution_count": 38,
   "metadata": {},
   "outputs": [
    {
     "data": {
      "text/html": [
       "<div>\n",
       "<style scoped>\n",
       "    .dataframe tbody tr th:only-of-type {\n",
       "        vertical-align: middle;\n",
       "    }\n",
       "\n",
       "    .dataframe tbody tr th {\n",
       "        vertical-align: top;\n",
       "    }\n",
       "\n",
       "    .dataframe thead th {\n",
       "        text-align: right;\n",
       "    }\n",
       "</style>\n",
       "<table border=\"1\" class=\"dataframe\">\n",
       "  <thead>\n",
       "    <tr style=\"text-align: right;\">\n",
       "      <th></th>\n",
       "      <th>FUR_HZ_TIME</th>\n",
       "    </tr>\n",
       "  </thead>\n",
       "  <tbody>\n",
       "    <tr>\n",
       "      <th>0</th>\n",
       "      <td>False</td>\n",
       "    </tr>\n",
       "    <tr>\n",
       "      <th>1</th>\n",
       "      <td>False</td>\n",
       "    </tr>\n",
       "    <tr>\n",
       "      <th>2</th>\n",
       "      <td>False</td>\n",
       "    </tr>\n",
       "    <tr>\n",
       "      <th>3</th>\n",
       "      <td>False</td>\n",
       "    </tr>\n",
       "    <tr>\n",
       "      <th>4</th>\n",
       "      <td>False</td>\n",
       "    </tr>\n",
       "    <tr>\n",
       "      <th>...</th>\n",
       "      <td>...</td>\n",
       "    </tr>\n",
       "    <tr>\n",
       "      <th>715</th>\n",
       "      <td>False</td>\n",
       "    </tr>\n",
       "    <tr>\n",
       "      <th>716</th>\n",
       "      <td>False</td>\n",
       "    </tr>\n",
       "    <tr>\n",
       "      <th>717</th>\n",
       "      <td>False</td>\n",
       "    </tr>\n",
       "    <tr>\n",
       "      <th>718</th>\n",
       "      <td>False</td>\n",
       "    </tr>\n",
       "    <tr>\n",
       "      <th>719</th>\n",
       "      <td>False</td>\n",
       "    </tr>\n",
       "  </tbody>\n",
       "</table>\n",
       "<p>714 rows × 1 columns</p>\n",
       "</div>"
      ],
      "text/plain": [
       "     FUR_HZ_TIME\n",
       "0          False\n",
       "1          False\n",
       "2          False\n",
       "3          False\n",
       "4          False\n",
       "..           ...\n",
       "715        False\n",
       "716        False\n",
       "717        False\n",
       "718        False\n",
       "719        False\n",
       "\n",
       "[714 rows x 1 columns]"
      ]
     },
     "execution_count": 38,
     "metadata": {},
     "output_type": "execute_result"
    }
   ],
   "source": [
    "df_raw[[\"FUR_HZ_TIME\"]]>300"
   ]
  },
  {
   "cell_type": "code",
   "execution_count": 39,
   "metadata": {
    "colab": {
     "base_uri": "https://localhost:8080/"
    },
    "executionInfo": {
     "elapsed": 8612,
     "status": "ok",
     "timestamp": 1605980254559,
     "user": {
      "displayName": "성유기",
      "photoUrl": "",
      "userId": "01978674342265104944"
     },
     "user_tz": -540
    },
    "id": "DmHlcgb7tGgq",
    "outputId": "e27a2c3d-d5e2-4987-a79d-6d5a528536a8"
   },
   "outputs": [
    {
     "data": {
      "text/plain": [
       "2"
      ]
     },
     "execution_count": 39,
     "metadata": {},
     "output_type": "execute_result"
    }
   ],
   "source": [
    "len(df_raw[df_raw[\"FUR_HZ_TIME\"] > 300])"
   ]
  },
  {
   "cell_type": "markdown",
   "metadata": {
    "id": "4MudqbmktGgr"
   },
   "source": [
    "botplot을 통해서 가열로 가열대 시간(FUR_HZ_TIME)이 300 이상일 경우가 2개 밖에 존재하지 않는다. 따라서 300 인 가열로 가열대 시간의 값을 이상치로 규정하고 데이터를 제거한다."
   ]
  },
  {
   "cell_type": "code",
   "execution_count": 40,
   "metadata": {
    "id": "_zCb8qtOtGgr"
   },
   "outputs": [],
   "source": [
    "df_raw = df_raw[df_raw[\"FUR_HZ_TIME\"] < 300]"
   ]
  },
  {
   "cell_type": "code",
   "execution_count": 41,
   "metadata": {
    "colab": {
     "base_uri": "https://localhost:8080/"
    },
    "executionInfo": {
     "elapsed": 9063,
     "status": "ok",
     "timestamp": 1605980255019,
     "user": {
      "displayName": "성유기",
      "photoUrl": "",
      "userId": "01978674342265104944"
     },
     "user_tz": -540
    },
    "id": "ztaYyXw4tGgr",
    "outputId": "b6afd34e-831e-474e-ee7c-779bdb6d87dc"
   },
   "outputs": [
    {
     "data": {
      "text/html": [
       "<div>\n",
       "<style scoped>\n",
       "    .dataframe tbody tr th:only-of-type {\n",
       "        vertical-align: middle;\n",
       "    }\n",
       "\n",
       "    .dataframe tbody tr th {\n",
       "        vertical-align: top;\n",
       "    }\n",
       "\n",
       "    .dataframe thead th {\n",
       "        text-align: right;\n",
       "    }\n",
       "</style>\n",
       "<table border=\"1\" class=\"dataframe\">\n",
       "  <thead>\n",
       "    <tr style=\"text-align: right;\">\n",
       "      <th></th>\n",
       "      <th>PLATE_NO</th>\n",
       "      <th>ROLLING_DATE</th>\n",
       "      <th>SCALE</th>\n",
       "      <th>SPEC</th>\n",
       "      <th>STEEL_KIND</th>\n",
       "      <th>PT_THK</th>\n",
       "      <th>PT_WDTH</th>\n",
       "      <th>PT_LTH</th>\n",
       "      <th>PT_WGT</th>\n",
       "      <th>FUR_NO</th>\n",
       "      <th>...</th>\n",
       "      <th>FUR_HZ_TEMP</th>\n",
       "      <th>FUR_HZ_TIME</th>\n",
       "      <th>FUR_SZ_TEMP</th>\n",
       "      <th>FUR_SZ_TIME</th>\n",
       "      <th>FUR_TIME</th>\n",
       "      <th>FUR_EXTEMP</th>\n",
       "      <th>ROLLING_TEMP_T5</th>\n",
       "      <th>HSB</th>\n",
       "      <th>ROLLING_DESCALING</th>\n",
       "      <th>WORK_GR</th>\n",
       "    </tr>\n",
       "  </thead>\n",
       "  <tbody>\n",
       "    <tr>\n",
       "      <th>0</th>\n",
       "      <td>PB562774</td>\n",
       "      <td>2008-08-01:00:00:15</td>\n",
       "      <td>양품</td>\n",
       "      <td>AB/EH32-TM</td>\n",
       "      <td>T1</td>\n",
       "      <td>32.25</td>\n",
       "      <td>3707</td>\n",
       "      <td>15109</td>\n",
       "      <td>14180</td>\n",
       "      <td>1호기</td>\n",
       "      <td>...</td>\n",
       "      <td>1144</td>\n",
       "      <td>116</td>\n",
       "      <td>1133</td>\n",
       "      <td>59</td>\n",
       "      <td>282</td>\n",
       "      <td>1133</td>\n",
       "      <td>934</td>\n",
       "      <td>적용</td>\n",
       "      <td>8</td>\n",
       "      <td>2조</td>\n",
       "    </tr>\n",
       "    <tr>\n",
       "      <th>1</th>\n",
       "      <td>PB562775</td>\n",
       "      <td>2008-08-01:00:00:16</td>\n",
       "      <td>양품</td>\n",
       "      <td>AB/EH32-TM</td>\n",
       "      <td>T1</td>\n",
       "      <td>32.25</td>\n",
       "      <td>3707</td>\n",
       "      <td>15109</td>\n",
       "      <td>14180</td>\n",
       "      <td>1호기</td>\n",
       "      <td>...</td>\n",
       "      <td>1144</td>\n",
       "      <td>122</td>\n",
       "      <td>1135</td>\n",
       "      <td>53</td>\n",
       "      <td>283</td>\n",
       "      <td>1135</td>\n",
       "      <td>937</td>\n",
       "      <td>적용</td>\n",
       "      <td>8</td>\n",
       "      <td>2조</td>\n",
       "    </tr>\n",
       "    <tr>\n",
       "      <th>2</th>\n",
       "      <td>PB562776</td>\n",
       "      <td>2008-08-01:00:00:59</td>\n",
       "      <td>양품</td>\n",
       "      <td>NV-E36-TM</td>\n",
       "      <td>T8</td>\n",
       "      <td>33.27</td>\n",
       "      <td>3619</td>\n",
       "      <td>19181</td>\n",
       "      <td>18130</td>\n",
       "      <td>2호기</td>\n",
       "      <td>...</td>\n",
       "      <td>1129</td>\n",
       "      <td>116</td>\n",
       "      <td>1121</td>\n",
       "      <td>55</td>\n",
       "      <td>282</td>\n",
       "      <td>1121</td>\n",
       "      <td>889</td>\n",
       "      <td>적용</td>\n",
       "      <td>8</td>\n",
       "      <td>3조</td>\n",
       "    </tr>\n",
       "    <tr>\n",
       "      <th>3</th>\n",
       "      <td>PB562777</td>\n",
       "      <td>2008-08-01:00:01:24</td>\n",
       "      <td>양품</td>\n",
       "      <td>NV-E36-TM</td>\n",
       "      <td>T8</td>\n",
       "      <td>33.27</td>\n",
       "      <td>3619</td>\n",
       "      <td>19181</td>\n",
       "      <td>18130</td>\n",
       "      <td>2호기</td>\n",
       "      <td>...</td>\n",
       "      <td>1152</td>\n",
       "      <td>125</td>\n",
       "      <td>1127</td>\n",
       "      <td>68</td>\n",
       "      <td>316</td>\n",
       "      <td>1127</td>\n",
       "      <td>885</td>\n",
       "      <td>적용</td>\n",
       "      <td>8</td>\n",
       "      <td>3조</td>\n",
       "    </tr>\n",
       "    <tr>\n",
       "      <th>4</th>\n",
       "      <td>PB562778</td>\n",
       "      <td>2008-08-01:00:01:44</td>\n",
       "      <td>양품</td>\n",
       "      <td>BV-EH36-TM</td>\n",
       "      <td>T8</td>\n",
       "      <td>38.33</td>\n",
       "      <td>3098</td>\n",
       "      <td>13334</td>\n",
       "      <td>12430</td>\n",
       "      <td>3호기</td>\n",
       "      <td>...</td>\n",
       "      <td>1140</td>\n",
       "      <td>134</td>\n",
       "      <td>1128</td>\n",
       "      <td>48</td>\n",
       "      <td>314</td>\n",
       "      <td>1128</td>\n",
       "      <td>873</td>\n",
       "      <td>적용</td>\n",
       "      <td>8</td>\n",
       "      <td>1조</td>\n",
       "    </tr>\n",
       "    <tr>\n",
       "      <th>...</th>\n",
       "      <td>...</td>\n",
       "      <td>...</td>\n",
       "      <td>...</td>\n",
       "      <td>...</td>\n",
       "      <td>...</td>\n",
       "      <td>...</td>\n",
       "      <td>...</td>\n",
       "      <td>...</td>\n",
       "      <td>...</td>\n",
       "      <td>...</td>\n",
       "      <td>...</td>\n",
       "      <td>...</td>\n",
       "      <td>...</td>\n",
       "      <td>...</td>\n",
       "      <td>...</td>\n",
       "      <td>...</td>\n",
       "      <td>...</td>\n",
       "      <td>...</td>\n",
       "      <td>...</td>\n",
       "      <td>...</td>\n",
       "      <td>...</td>\n",
       "    </tr>\n",
       "    <tr>\n",
       "      <th>707</th>\n",
       "      <td>PB563502</td>\n",
       "      <td>2008-08-02:13:35:36</td>\n",
       "      <td>불량</td>\n",
       "      <td>NK-KA</td>\n",
       "      <td>C0</td>\n",
       "      <td>20.14</td>\n",
       "      <td>3580</td>\n",
       "      <td>38639</td>\n",
       "      <td>21870</td>\n",
       "      <td>3호기</td>\n",
       "      <td>...</td>\n",
       "      <td>1172</td>\n",
       "      <td>72</td>\n",
       "      <td>1164</td>\n",
       "      <td>62</td>\n",
       "      <td>245</td>\n",
       "      <td>1164</td>\n",
       "      <td>1005</td>\n",
       "      <td>적용</td>\n",
       "      <td>8</td>\n",
       "      <td>2조</td>\n",
       "    </tr>\n",
       "    <tr>\n",
       "      <th>708</th>\n",
       "      <td>PB563503</td>\n",
       "      <td>2008-08-02:13:35:02</td>\n",
       "      <td>양품</td>\n",
       "      <td>NV-A32</td>\n",
       "      <td>C0</td>\n",
       "      <td>15.08</td>\n",
       "      <td>3212</td>\n",
       "      <td>48233</td>\n",
       "      <td>18340</td>\n",
       "      <td>2호기</td>\n",
       "      <td>...</td>\n",
       "      <td>1150</td>\n",
       "      <td>61</td>\n",
       "      <td>1169</td>\n",
       "      <td>61</td>\n",
       "      <td>238</td>\n",
       "      <td>1169</td>\n",
       "      <td>947</td>\n",
       "      <td>적용</td>\n",
       "      <td>10</td>\n",
       "      <td>1조</td>\n",
       "    </tr>\n",
       "    <tr>\n",
       "      <th>709</th>\n",
       "      <td>PB563504</td>\n",
       "      <td>2008-08-02:14:40:00</td>\n",
       "      <td>양품</td>\n",
       "      <td>NV-A32</td>\n",
       "      <td>C0</td>\n",
       "      <td>16.60</td>\n",
       "      <td>3441</td>\n",
       "      <td>43688</td>\n",
       "      <td>19590</td>\n",
       "      <td>2호기</td>\n",
       "      <td>...</td>\n",
       "      <td>1169</td>\n",
       "      <td>65</td>\n",
       "      <td>1163</td>\n",
       "      <td>77</td>\n",
       "      <td>247</td>\n",
       "      <td>1163</td>\n",
       "      <td>948</td>\n",
       "      <td>적용</td>\n",
       "      <td>10</td>\n",
       "      <td>4조</td>\n",
       "    </tr>\n",
       "    <tr>\n",
       "      <th>710</th>\n",
       "      <td>PB563505</td>\n",
       "      <td>2008-08-02:13:35:19</td>\n",
       "      <td>양품</td>\n",
       "      <td>LR-A</td>\n",
       "      <td>C0</td>\n",
       "      <td>15.59</td>\n",
       "      <td>3363</td>\n",
       "      <td>48740</td>\n",
       "      <td>80240</td>\n",
       "      <td>3호기</td>\n",
       "      <td>...</td>\n",
       "      <td>1179</td>\n",
       "      <td>86</td>\n",
       "      <td>1163</td>\n",
       "      <td>45</td>\n",
       "      <td>243</td>\n",
       "      <td>1163</td>\n",
       "      <td>940</td>\n",
       "      <td>적용</td>\n",
       "      <td>10</td>\n",
       "      <td>2조</td>\n",
       "    </tr>\n",
       "    <tr>\n",
       "      <th>711</th>\n",
       "      <td>PB563506</td>\n",
       "      <td>2008-08-02:14:40:53</td>\n",
       "      <td>양품</td>\n",
       "      <td>GL-A32</td>\n",
       "      <td>C0</td>\n",
       "      <td>16.09</td>\n",
       "      <td>3400</td>\n",
       "      <td>54209</td>\n",
       "      <td>69840</td>\n",
       "      <td>3호기</td>\n",
       "      <td>...</td>\n",
       "      <td>1186</td>\n",
       "      <td>82</td>\n",
       "      <td>1169</td>\n",
       "      <td>45</td>\n",
       "      <td>239</td>\n",
       "      <td>1169</td>\n",
       "      <td>957</td>\n",
       "      <td>적용</td>\n",
       "      <td>10</td>\n",
       "      <td>2조</td>\n",
       "    </tr>\n",
       "  </tbody>\n",
       "</table>\n",
       "<p>712 rows × 21 columns</p>\n",
       "</div>"
      ],
      "text/plain": [
       "     PLATE_NO         ROLLING_DATE SCALE        SPEC STEEL_KIND  PT_THK  \\\n",
       "0    PB562774  2008-08-01:00:00:15    양품  AB/EH32-TM         T1   32.25   \n",
       "1    PB562775  2008-08-01:00:00:16    양품  AB/EH32-TM         T1   32.25   \n",
       "2    PB562776  2008-08-01:00:00:59    양품   NV-E36-TM         T8   33.27   \n",
       "3    PB562777  2008-08-01:00:01:24    양품   NV-E36-TM         T8   33.27   \n",
       "4    PB562778  2008-08-01:00:01:44    양품  BV-EH36-TM         T8   38.33   \n",
       "..        ...                  ...   ...         ...        ...     ...   \n",
       "707  PB563502  2008-08-02:13:35:36    불량       NK-KA         C0   20.14   \n",
       "708  PB563503  2008-08-02:13:35:02    양품      NV-A32         C0   15.08   \n",
       "709  PB563504  2008-08-02:14:40:00    양품      NV-A32         C0   16.60   \n",
       "710  PB563505  2008-08-02:13:35:19    양품        LR-A         C0   15.59   \n",
       "711  PB563506  2008-08-02:14:40:53    양품      GL-A32         C0   16.09   \n",
       "\n",
       "     PT_WDTH  PT_LTH  PT_WGT FUR_NO  ...  FUR_HZ_TEMP  FUR_HZ_TIME  \\\n",
       "0       3707   15109   14180    1호기  ...         1144          116   \n",
       "1       3707   15109   14180    1호기  ...         1144          122   \n",
       "2       3619   19181   18130    2호기  ...         1129          116   \n",
       "3       3619   19181   18130    2호기  ...         1152          125   \n",
       "4       3098   13334   12430    3호기  ...         1140          134   \n",
       "..       ...     ...     ...    ...  ...          ...          ...   \n",
       "707     3580   38639   21870    3호기  ...         1172           72   \n",
       "708     3212   48233   18340    2호기  ...         1150           61   \n",
       "709     3441   43688   19590    2호기  ...         1169           65   \n",
       "710     3363   48740   80240    3호기  ...         1179           86   \n",
       "711     3400   54209   69840    3호기  ...         1186           82   \n",
       "\n",
       "     FUR_SZ_TEMP  FUR_SZ_TIME  FUR_TIME  FUR_EXTEMP  ROLLING_TEMP_T5  HSB  \\\n",
       "0           1133           59       282        1133              934   적용   \n",
       "1           1135           53       283        1135              937   적용   \n",
       "2           1121           55       282        1121              889   적용   \n",
       "3           1127           68       316        1127              885   적용   \n",
       "4           1128           48       314        1128              873   적용   \n",
       "..           ...          ...       ...         ...              ...  ...   \n",
       "707         1164           62       245        1164             1005   적용   \n",
       "708         1169           61       238        1169              947   적용   \n",
       "709         1163           77       247        1163              948   적용   \n",
       "710         1163           45       243        1163              940   적용   \n",
       "711         1169           45       239        1169              957   적용   \n",
       "\n",
       "    ROLLING_DESCALING  WORK_GR  \n",
       "0                   8       2조  \n",
       "1                   8       2조  \n",
       "2                   8       3조  \n",
       "3                   8       3조  \n",
       "4                   8       1조  \n",
       "..                ...      ...  \n",
       "707                 8       2조  \n",
       "708                10       1조  \n",
       "709                10       4조  \n",
       "710                10       2조  \n",
       "711                10       2조  \n",
       "\n",
       "[712 rows x 21 columns]"
      ]
     },
     "execution_count": 41,
     "metadata": {},
     "output_type": "execute_result"
    }
   ],
   "source": [
    "df_raw.reset_index(drop=True, inplace =True)\n",
    "df_raw"
   ]
  },
  {
   "cell_type": "markdown",
   "metadata": {
    "id": "q1KOqM-FtGgr"
   },
   "source": [
    "# 데이터 분할"
   ]
  },
  {
   "cell_type": "code",
   "execution_count": 42,
   "metadata": {
    "id": "E2FOZQ16tGgr"
   },
   "outputs": [],
   "source": [
    "df_raw_y = df_raw[\"SCALE\"]\n",
    "df_raw_x = df_raw.drop([\"SCALE\",\"PLATE_NO\", \"ROLLING_DATE\"], axis = 1, inplace = False)"
   ]
  },
  {
   "cell_type": "code",
   "execution_count": 43,
   "metadata": {},
   "outputs": [],
   "source": [
    "# df_raw_x = df_raw.drop([\"SCALE\",\"PT_LTH\",\"FUR_NO_ROW\", \"ROLLING_DATE\", \"FUR_SZ_TIME\", \n",
    "#                          ,\"WORK_GR\",\"PLATE_NO\",], axis = 1, inplace = False)"
   ]
  },
  {
   "cell_type": "code",
   "execution_count": null,
   "metadata": {},
   "outputs": [],
   "source": []
  },
  {
   "cell_type": "code",
   "execution_count": 44,
   "metadata": {
    "colab": {
     "base_uri": "https://localhost:8080/"
    },
    "executionInfo": {
     "elapsed": 9054,
     "status": "ok",
     "timestamp": 1605980255020,
     "user": {
      "displayName": "성유기",
      "photoUrl": "",
      "userId": "01978674342265104944"
     },
     "user_tz": -540
    },
    "id": "WEi276f2tGgr",
    "outputId": "b9136849-32df-496a-a470-321f0a8fd41e"
   },
   "outputs": [
    {
     "name": "stdout",
     "output_type": "stream",
     "text": [
      "양품    481\n",
      "불량    231\n",
      "Name: SCALE, dtype: int64\n",
      "0    481\n",
      "1    231\n",
      "Name: SCALE, dtype: int64\n"
     ]
    }
   ],
   "source": [
    "#scale을 0과 1의 값을 가진 int형으로 변환\n",
    "print(df_raw_y.value_counts())\n",
    "df_raw_y = (df_raw_y == \"불량\").astype(int)\n",
    "print(df_raw_y.value_counts())"
   ]
  },
  {
   "cell_type": "code",
   "execution_count": null,
   "metadata": {
    "id": "h1uw1l4ktGgr"
   },
   "outputs": [],
   "source": []
  },
  {
   "cell_type": "markdown",
   "metadata": {
    "id": "S5yIaqH7tGgr"
   },
   "source": [
    "# 의사결정나무"
   ]
  },
  {
   "cell_type": "code",
   "execution_count": 45,
   "metadata": {
    "id": "tz9jTKZ4tGgr"
   },
   "outputs": [],
   "source": [
    "import pandas as pd\n",
    "import numpy as np\n",
    "import matplotlib\n",
    "import matplotlib.pyplot as plt\n",
    "\n",
    "#export_graphviz: 나무구조 생성및 저장\n",
    "from sklearn.tree import export_graphviz\n",
    "import graphviz\n",
    "from sklearn.model_selection import train_test_split\n",
    "from sklearn.tree import DecisionTreeClassifier as DTC\n",
    "from sklearn.model_selection import GridSearchCV\n",
    "\n",
    "from sklearn.metrics import confusion_matrix\n",
    "\n",
    "matplotlib.rc('font', family = 'NanumSquare')\n",
    "plt.rc('font', family = 'NanumSquare')"
   ]
  },
  {
   "cell_type": "code",
   "execution_count": 46,
   "metadata": {
    "colab": {
     "base_uri": "https://localhost:8080/",
     "height": 287
    },
    "executionInfo": {
     "elapsed": 9040,
     "status": "ok",
     "timestamp": 1605980255022,
     "user": {
      "displayName": "성유기",
      "photoUrl": "",
      "userId": "01978674342265104944"
     },
     "user_tz": -540
    },
    "id": "0mZpP2BftGgr",
    "outputId": "74da7dec-0551-4ab9-a744-87b3235d212f",
    "scrolled": true
   },
   "outputs": [
    {
     "data": {
      "text/html": [
       "<div>\n",
       "<style scoped>\n",
       "    .dataframe tbody tr th:only-of-type {\n",
       "        vertical-align: middle;\n",
       "    }\n",
       "\n",
       "    .dataframe tbody tr th {\n",
       "        vertical-align: top;\n",
       "    }\n",
       "\n",
       "    .dataframe thead th {\n",
       "        text-align: right;\n",
       "    }\n",
       "</style>\n",
       "<table border=\"1\" class=\"dataframe\">\n",
       "  <thead>\n",
       "    <tr style=\"text-align: right;\">\n",
       "      <th></th>\n",
       "      <th>PT_THK</th>\n",
       "      <th>PT_WDTH</th>\n",
       "      <th>PT_LTH</th>\n",
       "      <th>PT_WGT</th>\n",
       "      <th>FUR_NO_ROW</th>\n",
       "      <th>FUR_HZ_TEMP</th>\n",
       "      <th>FUR_HZ_TIME</th>\n",
       "      <th>FUR_SZ_TEMP</th>\n",
       "      <th>FUR_SZ_TIME</th>\n",
       "      <th>FUR_TIME</th>\n",
       "      <th>...</th>\n",
       "      <th>STEEL_KIND_T8</th>\n",
       "      <th>FUR_NO_1호기</th>\n",
       "      <th>FUR_NO_2호기</th>\n",
       "      <th>FUR_NO_3호기</th>\n",
       "      <th>HSB_미적용</th>\n",
       "      <th>HSB_적용</th>\n",
       "      <th>WORK_GR_1조</th>\n",
       "      <th>WORK_GR_2조</th>\n",
       "      <th>WORK_GR_3조</th>\n",
       "      <th>WORK_GR_4조</th>\n",
       "    </tr>\n",
       "  </thead>\n",
       "  <tbody>\n",
       "    <tr>\n",
       "      <th>0</th>\n",
       "      <td>32.25</td>\n",
       "      <td>3707</td>\n",
       "      <td>15109</td>\n",
       "      <td>14180</td>\n",
       "      <td>1</td>\n",
       "      <td>1144</td>\n",
       "      <td>116</td>\n",
       "      <td>1133</td>\n",
       "      <td>59</td>\n",
       "      <td>282</td>\n",
       "      <td>...</td>\n",
       "      <td>0</td>\n",
       "      <td>1</td>\n",
       "      <td>0</td>\n",
       "      <td>0</td>\n",
       "      <td>0</td>\n",
       "      <td>1</td>\n",
       "      <td>0</td>\n",
       "      <td>1</td>\n",
       "      <td>0</td>\n",
       "      <td>0</td>\n",
       "    </tr>\n",
       "    <tr>\n",
       "      <th>1</th>\n",
       "      <td>32.25</td>\n",
       "      <td>3707</td>\n",
       "      <td>15109</td>\n",
       "      <td>14180</td>\n",
       "      <td>2</td>\n",
       "      <td>1144</td>\n",
       "      <td>122</td>\n",
       "      <td>1135</td>\n",
       "      <td>53</td>\n",
       "      <td>283</td>\n",
       "      <td>...</td>\n",
       "      <td>0</td>\n",
       "      <td>1</td>\n",
       "      <td>0</td>\n",
       "      <td>0</td>\n",
       "      <td>0</td>\n",
       "      <td>1</td>\n",
       "      <td>0</td>\n",
       "      <td>1</td>\n",
       "      <td>0</td>\n",
       "      <td>0</td>\n",
       "    </tr>\n",
       "    <tr>\n",
       "      <th>2</th>\n",
       "      <td>33.27</td>\n",
       "      <td>3619</td>\n",
       "      <td>19181</td>\n",
       "      <td>18130</td>\n",
       "      <td>1</td>\n",
       "      <td>1129</td>\n",
       "      <td>116</td>\n",
       "      <td>1121</td>\n",
       "      <td>55</td>\n",
       "      <td>282</td>\n",
       "      <td>...</td>\n",
       "      <td>1</td>\n",
       "      <td>0</td>\n",
       "      <td>1</td>\n",
       "      <td>0</td>\n",
       "      <td>0</td>\n",
       "      <td>1</td>\n",
       "      <td>0</td>\n",
       "      <td>0</td>\n",
       "      <td>1</td>\n",
       "      <td>0</td>\n",
       "    </tr>\n",
       "    <tr>\n",
       "      <th>3</th>\n",
       "      <td>33.27</td>\n",
       "      <td>3619</td>\n",
       "      <td>19181</td>\n",
       "      <td>18130</td>\n",
       "      <td>2</td>\n",
       "      <td>1152</td>\n",
       "      <td>125</td>\n",
       "      <td>1127</td>\n",
       "      <td>68</td>\n",
       "      <td>316</td>\n",
       "      <td>...</td>\n",
       "      <td>1</td>\n",
       "      <td>0</td>\n",
       "      <td>1</td>\n",
       "      <td>0</td>\n",
       "      <td>0</td>\n",
       "      <td>1</td>\n",
       "      <td>0</td>\n",
       "      <td>0</td>\n",
       "      <td>1</td>\n",
       "      <td>0</td>\n",
       "    </tr>\n",
       "    <tr>\n",
       "      <th>4</th>\n",
       "      <td>38.33</td>\n",
       "      <td>3098</td>\n",
       "      <td>13334</td>\n",
       "      <td>12430</td>\n",
       "      <td>1</td>\n",
       "      <td>1140</td>\n",
       "      <td>134</td>\n",
       "      <td>1128</td>\n",
       "      <td>48</td>\n",
       "      <td>314</td>\n",
       "      <td>...</td>\n",
       "      <td>1</td>\n",
       "      <td>0</td>\n",
       "      <td>0</td>\n",
       "      <td>1</td>\n",
       "      <td>0</td>\n",
       "      <td>1</td>\n",
       "      <td>1</td>\n",
       "      <td>0</td>\n",
       "      <td>0</td>\n",
       "      <td>0</td>\n",
       "    </tr>\n",
       "  </tbody>\n",
       "</table>\n",
       "<p>5 rows × 97 columns</p>\n",
       "</div>"
      ],
      "text/plain": [
       "   PT_THK  PT_WDTH  PT_LTH  PT_WGT  FUR_NO_ROW  FUR_HZ_TEMP  FUR_HZ_TIME  \\\n",
       "0   32.25     3707   15109   14180           1         1144          116   \n",
       "1   32.25     3707   15109   14180           2         1144          122   \n",
       "2   33.27     3619   19181   18130           1         1129          116   \n",
       "3   33.27     3619   19181   18130           2         1152          125   \n",
       "4   38.33     3098   13334   12430           1         1140          134   \n",
       "\n",
       "   FUR_SZ_TEMP  FUR_SZ_TIME  FUR_TIME  ...  STEEL_KIND_T8  FUR_NO_1호기  \\\n",
       "0         1133           59       282  ...              0           1   \n",
       "1         1135           53       283  ...              0           1   \n",
       "2         1121           55       282  ...              1           0   \n",
       "3         1127           68       316  ...              1           0   \n",
       "4         1128           48       314  ...              1           0   \n",
       "\n",
       "   FUR_NO_2호기  FUR_NO_3호기  HSB_미적용  HSB_적용  WORK_GR_1조  WORK_GR_2조  \\\n",
       "0           0           0        0       1           0           1   \n",
       "1           0           0        0       1           0           1   \n",
       "2           1           0        0       1           0           0   \n",
       "3           1           0        0       1           0           0   \n",
       "4           0           1        0       1           1           0   \n",
       "\n",
       "   WORK_GR_3조  WORK_GR_4조  \n",
       "0           0           0  \n",
       "1           0           0  \n",
       "2           1           0  \n",
       "3           1           0  \n",
       "4           0           0  \n",
       "\n",
       "[5 rows x 97 columns]"
      ]
     },
     "execution_count": 46,
     "metadata": {},
     "output_type": "execute_result"
    }
   ],
   "source": [
    "df_raw_x_dummy = pd.get_dummies(df_raw_x)\n",
    "df_raw_x_dummy.head()"
   ]
  },
  {
   "cell_type": "code",
   "execution_count": 47,
   "metadata": {
    "colab": {
     "base_uri": "https://localhost:8080/"
    },
    "executionInfo": {
     "elapsed": 9027,
     "status": "ok",
     "timestamp": 1605980255024,
     "user": {
      "displayName": "성유기",
      "photoUrl": "",
      "userId": "01978674342265104944"
     },
     "user_tz": -540
    },
    "id": "Rg5vxPfYtGgs",
    "outputId": "6b9879fd-6cd8-4330-870c-6f2b14fff62e"
   },
   "outputs": [
    {
     "name": "stdout",
     "output_type": "stream",
     "text": [
      "train data X size : (284, 97)\n",
      "train data Y size : (284,)\n",
      "test data X size : (214, 97)\n",
      "test data Y size : (214,)\n",
      "validation data X size : (214, 97)\n",
      "validation data Y size : (214,)\n"
     ]
    }
   ],
   "source": [
    "df_train_x, df_test_x, df_train_y, df_test_y = train_test_split(df_raw_x_dummy, df_raw_y,\n",
    "                                                               test_size = 0.3, random_state = 1234)\n",
    "\n",
    "df_train_x, df_val_x, df_train_y, df_val_y = train_test_split(df_train_x, df_train_y,\n",
    "                                                               test_size = 3/7, random_state = 1234)\n",
    "\n",
    "print(\"train data X size : {}\".format(df_train_x.shape))\n",
    "print(\"train data Y size : {}\".format(df_train_y.shape))\n",
    "print(\"test data X size : {}\".format(df_test_x.shape))\n",
    "print(\"test data Y size : {}\".format(df_test_y.shape))\n",
    "print(\"validation data X size : {}\".format(df_val_x.shape))\n",
    "print(\"validation data Y size : {}\".format(df_val_y.shape))"
   ]
  },
  {
   "cell_type": "code",
   "execution_count": 48,
   "metadata": {
    "colab": {
     "base_uri": "https://localhost:8080/"
    },
    "executionInfo": {
     "elapsed": 9014,
     "status": "ok",
     "timestamp": 1605980255024,
     "user": {
      "displayName": "성유기",
      "photoUrl": "",
      "userId": "01978674342265104944"
     },
     "user_tz": -540
    },
    "id": "dl6kA74ttGgs",
    "outputId": "4ba1eec0-3656-4ae8-a114-f797ff3fca9f",
    "scrolled": true
   },
   "outputs": [
    {
     "name": "stdout",
     "output_type": "stream",
     "text": [
      "Score on training set: 1.000\n",
      "Score on training set: 0.949\n"
     ]
    }
   ],
   "source": [
    "tree_uncustomized = DTC(random_state = 1234)\n",
    "tree_uncustomized.fit(df_train_x, df_train_y)\n",
    "\n",
    "print(\"Score on training set: {:.3f}\".format(tree_uncustomized.score(df_train_x,df_train_y)))\n",
    "print(\"Score on training set: {:.3f}\".format(tree_uncustomized.score(df_test_x,df_test_y)))\n"
   ]
  },
  {
   "cell_type": "markdown",
   "metadata": {
    "id": "ER6cDb01tGgs"
   },
   "source": [
    "train set에 대해 과대적합"
   ]
  },
  {
   "cell_type": "code",
   "execution_count": 49,
   "metadata": {
    "colab": {
     "base_uri": "https://localhost:8080/",
     "height": 359
    },
    "executionInfo": {
     "elapsed": 9002,
     "status": "ok",
     "timestamp": 1605980255025,
     "user": {
      "displayName": "성유기",
      "photoUrl": "",
      "userId": "01978674342265104944"
     },
     "user_tz": -540
    },
    "id": "80I4lQmwtGgs",
    "outputId": "0649e8e3-8978-4f66-d15b-dab5f374b34e"
   },
   "outputs": [
    {
     "data": {
      "text/html": [
       "<div>\n",
       "<style scoped>\n",
       "    .dataframe tbody tr th:only-of-type {\n",
       "        vertical-align: middle;\n",
       "    }\n",
       "\n",
       "    .dataframe tbody tr th {\n",
       "        vertical-align: top;\n",
       "    }\n",
       "\n",
       "    .dataframe thead th {\n",
       "        text-align: right;\n",
       "    }\n",
       "</style>\n",
       "<table border=\"1\" class=\"dataframe\">\n",
       "  <thead>\n",
       "    <tr style=\"text-align: right;\">\n",
       "      <th></th>\n",
       "      <th>Depth</th>\n",
       "      <th>TrainAccuracy</th>\n",
       "      <th>TestAccuracy</th>\n",
       "    </tr>\n",
       "  </thead>\n",
       "  <tbody>\n",
       "    <tr>\n",
       "      <th>0</th>\n",
       "      <td>1</td>\n",
       "      <td>0.901</td>\n",
       "      <td>0.869</td>\n",
       "    </tr>\n",
       "    <tr>\n",
       "      <th>1</th>\n",
       "      <td>2</td>\n",
       "      <td>0.944</td>\n",
       "      <td>0.921</td>\n",
       "    </tr>\n",
       "    <tr>\n",
       "      <th>2</th>\n",
       "      <td>3</td>\n",
       "      <td>0.972</td>\n",
       "      <td>0.958</td>\n",
       "    </tr>\n",
       "    <tr>\n",
       "      <th>3</th>\n",
       "      <td>4</td>\n",
       "      <td>0.982</td>\n",
       "      <td>0.967</td>\n",
       "    </tr>\n",
       "    <tr>\n",
       "      <th>4</th>\n",
       "      <td>5</td>\n",
       "      <td>0.986</td>\n",
       "      <td>0.963</td>\n",
       "    </tr>\n",
       "    <tr>\n",
       "      <th>5</th>\n",
       "      <td>6</td>\n",
       "      <td>0.986</td>\n",
       "      <td>0.963</td>\n",
       "    </tr>\n",
       "    <tr>\n",
       "      <th>6</th>\n",
       "      <td>7</td>\n",
       "      <td>0.989</td>\n",
       "      <td>0.963</td>\n",
       "    </tr>\n",
       "    <tr>\n",
       "      <th>7</th>\n",
       "      <td>8</td>\n",
       "      <td>0.993</td>\n",
       "      <td>0.958</td>\n",
       "    </tr>\n",
       "    <tr>\n",
       "      <th>8</th>\n",
       "      <td>9</td>\n",
       "      <td>0.996</td>\n",
       "      <td>0.958</td>\n",
       "    </tr>\n",
       "    <tr>\n",
       "      <th>9</th>\n",
       "      <td>10</td>\n",
       "      <td>0.996</td>\n",
       "      <td>0.958</td>\n",
       "    </tr>\n",
       "  </tbody>\n",
       "</table>\n",
       "</div>"
      ],
      "text/plain": [
       "   Depth  TrainAccuracy  TestAccuracy\n",
       "0      1          0.901         0.869\n",
       "1      2          0.944         0.921\n",
       "2      3          0.972         0.958\n",
       "3      4          0.982         0.967\n",
       "4      5          0.986         0.963\n",
       "5      6          0.986         0.963\n",
       "6      7          0.989         0.963\n",
       "7      8          0.993         0.958\n",
       "8      9          0.996         0.958\n",
       "9     10          0.996         0.958"
      ]
     },
     "execution_count": 49,
     "metadata": {},
     "output_type": "execute_result"
    }
   ],
   "source": [
    "#max_depth: 최대깊이 변경에 따른 모델 성능\n",
    "\n",
    "train_accuracy = []\n",
    "test_accuracy =[]\n",
    "\n",
    "para_depth = [depth for depth in range(1,11)]\n",
    "\n",
    "for v_max_depth in para_depth:\n",
    "    tree = DTC(max_depth = v_max_depth, random_state= 1234)\n",
    "    tree.fit(df_train_x, df_train_y)\n",
    "    train_accuracy.append(tree.score(df_train_x,df_train_y))\n",
    "    test_accuracy.append(tree.score(df_val_x, df_val_y))\n",
    "\n",
    "df_accuracy_depth = pd.DataFrame()\n",
    "df_accuracy_depth[\"Depth\"] = para_depth\n",
    "df_accuracy_depth[\"TrainAccuracy\"] = train_accuracy\n",
    "df_accuracy_depth[\"TestAccuracy\"] = test_accuracy\n",
    "df_accuracy_depth.round(3)"
   ]
  },
  {
   "cell_type": "code",
   "execution_count": 50,
   "metadata": {
    "colab": {
     "base_uri": "https://localhost:8080/",
     "height": 282
    },
    "executionInfo": {
     "elapsed": 9477,
     "status": "ok",
     "timestamp": 1605980255514,
     "user": {
      "displayName": "성유기",
      "photoUrl": "",
      "userId": "01978674342265104944"
     },
     "user_tz": -540
    },
    "id": "FwI4psOztGgs",
    "outputId": "ab77b013-140c-4509-85f5-96c396e8739c"
   },
   "outputs": [
    {
     "data": {
      "text/plain": [
       "<matplotlib.legend.Legend at 0x1c16d11ad88>"
      ]
     },
     "execution_count": 50,
     "metadata": {},
     "output_type": "execute_result"
    },
    {
     "data": {
      "image/png": "[encoded data removed]",
      "text/plain": [
       "<Figure size 432x288 with 1 Axes>"
      ]
     },
     "metadata": {
      "needs_background": "light"
     },
     "output_type": "display_data"
    }
   ],
   "source": [
    "plt.plot(para_depth, train_accuracy, linestyle =\"-\", label = \"Train Accuracy\")\n",
    "plt.plot(para_depth, test_accuracy, linestyle =\"--\", label = \"Test Accuracy\")\n",
    "plt.legend()"
   ]
  },
  {
   "cell_type": "markdown",
   "metadata": {
    "id": "wUrWmorhtGgs"
   },
   "source": [
    "최대 깊이 증가에 따라 모델의 정확도는 증가한다. 최대 깊이를 4로 지정"
   ]
  },
  {
   "cell_type": "code",
   "execution_count": 51,
   "metadata": {
    "id": "Id2J_ypptGgs"
   },
   "outputs": [],
   "source": [
    "#변수명 저장\n",
    "v_feature_name = df_train_x.columns"
   ]
  },
  {
   "cell_type": "code",
   "execution_count": null,
   "metadata": {},
   "outputs": [],
   "source": [
    "# def plot_decision_regions(x, y, model, title):\n",
    "#     resolution = 0.01\n",
    "#     markers = ('s', '^', 'o')\n",
    "#     colors = ('red', 'blue', 'lightgreen')\n",
    "#     cmap = mpl.colors.ListedColormap(colors)\n",
    "\n",
    "#     x1_min, x1_max = X[:, 0].min() - 1, X[:, 0].max() + 1\n",
    "#     x2_min, x2_max = X[:, 1].min() - 1, X[:, 1].max() + 1\n",
    "#     xx1, xx2 = np.meshgrid(np.arange(x1_min, x1_max, resolution),\n",
    "#                            np.arange(x2_min, x2_max, resolution))\n",
    "#     Z = model.predict(\n",
    "#         np.array([xx1.ravel(), xx2.ravel()]).T).reshape(xx1.shape)\n",
    "\n",
    "#     plt.contour(xx1, xx2, Z, cmap=mpl.colors.ListedColormap(['k']))\n",
    "#     plt.contourf(xx1, xx2, Z, alpha=0.4, cmap=cmap)\n",
    "#     plt.xlim(xx1.min(), xx1.max())\n",
    "#     plt.ylim(xx2.min(), xx2.max())\n",
    "\n",
    "#     for idx, cl in enumerate(np.unique(y)):\n",
    "#         plt.scatter(x=X[y == cl, 0], y=X[y == cl, 1], alpha=0.8,\n",
    "#                     c=[cmap(idx)], marker=markers[idx], s=80, label=cl)\n",
    "\n",
    "#     plt.xlabel(data.feature_names[2])\n",
    "#     plt.ylabel(data.feature_names[3])\n",
    "#     plt.legend(loc='upper left')\n",
    "#     plt.title(title)\n",
    "\n",
    "#     return Z"
   ]
  },
  {
   "cell_type": "code",
   "execution_count": null,
   "metadata": {},
   "outputs": [],
   "source": [
    "# plot_decision_regions(df_train_x, df_train_y, dot_graph, \"tree_low.dot\")\n",
    "# plt.show()"
   ]
  },
  {
   "cell_type": "code",
   "execution_count": 53,
   "metadata": {
    "colab": {
     "base_uri": "https://localhost:8080/",
     "height": 916
    },
    "executionInfo": {
     "elapsed": 9449,
     "status": "ok",
     "timestamp": 1605980255516,
     "user": {
      "displayName": "성유기",
      "photoUrl": "",
      "userId": "01978674342265104944"
     },
     "user_tz": -540
    },
    "id": "3wdjJAJItGgt",
    "outputId": "e6ea01a4-f07c-483f-fa69-9351ff8a9299"
   },
   "outputs": [
    {
     "ename": "UnicodeDecodeError",
     "evalue": "'cp949' codec can't decode byte 0xec in position 204: illegal multibyte sequence",
     "output_type": "error",
     "traceback": [
      "\u001b[1;31m---------------------------------------------------------------------------\u001b[0m",
      "\u001b[1;31mUnicodeDecodeError\u001b[0m                        Traceback (most recent call last)",
      "\u001b[1;32m<ipython-input-53-984425dbaf1a>\u001b[0m in \u001b[0;36m<module>\u001b[1;34m\u001b[0m\n\u001b[0;32m      5\u001b[0m                 feature_names = v_feature_name, impurity = True, filled= True)\n\u001b[0;32m      6\u001b[0m \u001b[1;32mwith\u001b[0m \u001b[0mopen\u001b[0m\u001b[1;33m(\u001b[0m\u001b[1;34m\"tree_low.dot\"\u001b[0m\u001b[1;33m)\u001b[0m \u001b[1;32mas\u001b[0m \u001b[0mf\u001b[0m\u001b[1;33m:\u001b[0m\u001b[1;33m\u001b[0m\u001b[1;33m\u001b[0m\u001b[0m\n\u001b[1;32m----> 7\u001b[1;33m     \u001b[0mdot_graph\u001b[0m \u001b[1;33m=\u001b[0m \u001b[0mf\u001b[0m\u001b[1;33m.\u001b[0m\u001b[0mread\u001b[0m\u001b[1;33m(\u001b[0m\u001b[1;33m)\u001b[0m\u001b[1;33m\u001b[0m\u001b[1;33m\u001b[0m\u001b[0m\n\u001b[0m\u001b[0;32m      8\u001b[0m \u001b[0mdisplay\u001b[0m\u001b[1;33m(\u001b[0m\u001b[0mgraphviz\u001b[0m\u001b[1;33m.\u001b[0m\u001b[0mSource\u001b[0m\u001b[1;33m(\u001b[0m\u001b[0mdot_graph\u001b[0m\u001b[1;33m)\u001b[0m\u001b[1;33m)\u001b[0m\u001b[1;33m\u001b[0m\u001b[1;33m\u001b[0m\u001b[0m\n",
      "\u001b[1;31mUnicodeDecodeError\u001b[0m: 'cp949' codec can't decode byte 0xec in position 204: illegal multibyte sequence"
     ]
    }
   ],
   "source": [
    "#깊이가 3인 모델\n",
    "tree_low = DTC(random_state = 1234, max_depth = 5)\n",
    "tree_low.fit(df_train_x,df_train_y)\n",
    "export_graphviz(tree_low, out_file = \"tree_low.dot\", class_names = [\"good\", \"bad\"],\n",
    "                feature_names = v_feature_name, impurity = True, filled= True)\n",
    "with open(\"tree_low.dot\") as f:\n",
    "    dot_graph = f.read()\n",
    "display(graphviz.Source(dot_graph))"
   ]
  },
  {
   "cell_type": "code",
   "execution_count": null,
   "metadata": {},
   "outputs": [],
   "source": [
    "#깊이가 3인 모델\n",
    "tree_low = DTC(random_state = 1234, max_depth = 6)\n",
    "tree_low.fit(df_train_x,df_train_y)\n",
    "export_graphviz(tree_low, out_file = \"tree_low.dot\", class_names = [\"good\", \"bad\"],\n",
    "                feature_names = v_feature_name, impurity = True, filled= True)\n",
    "with open(\"tree_low.dot\") as f:\n",
    "    dot_graph = f.read()\n",
    "display(graphviz.Source(dot_graph))"
   ]
  },
  {
   "cell_type": "code",
   "execution_count": 54,
   "metadata": {
    "colab": {
     "base_uri": "https://localhost:8080/",
     "height": 359
    },
    "executionInfo": {
     "elapsed": 9437,
     "status": "ok",
     "timestamp": 1605980255517,
     "user": {
      "displayName": "성유기",
      "photoUrl": "",
      "userId": "01978674342265104944"
     },
     "user_tz": -540
    },
    "id": "9PKXlUyBtGgt",
    "outputId": "f43c077f-e15c-4134-d758-2076404e16fd"
   },
   "outputs": [
    {
     "data": {
      "text/html": [
       "<div>\n",
       "<style scoped>\n",
       "    .dataframe tbody tr th:only-of-type {\n",
       "        vertical-align: middle;\n",
       "    }\n",
       "\n",
       "    .dataframe tbody tr th {\n",
       "        vertical-align: top;\n",
       "    }\n",
       "\n",
       "    .dataframe thead th {\n",
       "        text-align: right;\n",
       "    }\n",
       "</style>\n",
       "<table border=\"1\" class=\"dataframe\">\n",
       "  <thead>\n",
       "    <tr style=\"text-align: right;\">\n",
       "      <th></th>\n",
       "      <th>MinSamplesLeaf</th>\n",
       "      <th>TrainScore</th>\n",
       "      <th>TestScore</th>\n",
       "    </tr>\n",
       "  </thead>\n",
       "  <tbody>\n",
       "    <tr>\n",
       "      <th>0</th>\n",
       "      <td>2</td>\n",
       "      <td>0.982</td>\n",
       "      <td>0.967</td>\n",
       "    </tr>\n",
       "    <tr>\n",
       "      <th>1</th>\n",
       "      <td>4</td>\n",
       "      <td>0.982</td>\n",
       "      <td>0.967</td>\n",
       "    </tr>\n",
       "    <tr>\n",
       "      <th>2</th>\n",
       "      <td>6</td>\n",
       "      <td>0.982</td>\n",
       "      <td>0.967</td>\n",
       "    </tr>\n",
       "    <tr>\n",
       "      <th>3</th>\n",
       "      <td>8</td>\n",
       "      <td>0.982</td>\n",
       "      <td>0.967</td>\n",
       "    </tr>\n",
       "    <tr>\n",
       "      <th>4</th>\n",
       "      <td>10</td>\n",
       "      <td>0.982</td>\n",
       "      <td>0.967</td>\n",
       "    </tr>\n",
       "    <tr>\n",
       "      <th>5</th>\n",
       "      <td>12</td>\n",
       "      <td>0.982</td>\n",
       "      <td>0.967</td>\n",
       "    </tr>\n",
       "    <tr>\n",
       "      <th>6</th>\n",
       "      <td>14</td>\n",
       "      <td>0.982</td>\n",
       "      <td>0.967</td>\n",
       "    </tr>\n",
       "    <tr>\n",
       "      <th>7</th>\n",
       "      <td>16</td>\n",
       "      <td>0.982</td>\n",
       "      <td>0.967</td>\n",
       "    </tr>\n",
       "    <tr>\n",
       "      <th>8</th>\n",
       "      <td>18</td>\n",
       "      <td>0.982</td>\n",
       "      <td>0.967</td>\n",
       "    </tr>\n",
       "    <tr>\n",
       "      <th>9</th>\n",
       "      <td>20</td>\n",
       "      <td>0.982</td>\n",
       "      <td>0.967</td>\n",
       "    </tr>\n",
       "  </tbody>\n",
       "</table>\n",
       "</div>"
      ],
      "text/plain": [
       "   MinSamplesLeaf  TrainScore  TestScore\n",
       "0               2       0.982      0.967\n",
       "1               4       0.982      0.967\n",
       "2               6       0.982      0.967\n",
       "3               8       0.982      0.967\n",
       "4              10       0.982      0.967\n",
       "5              12       0.982      0.967\n",
       "6              14       0.982      0.967\n",
       "7              16       0.982      0.967\n",
       "8              18       0.982      0.967\n",
       "9              20       0.982      0.967"
      ]
     },
     "execution_count": 54,
     "metadata": {},
     "output_type": "execute_result"
    }
   ],
   "source": [
    "train_accuracy = []\n",
    "test_accuracy =[]\n",
    "para_split = [n_split * 2 for n_split in range(1,11)]\n",
    "#para_split = [n_split * 5 for n_split in range(1,11)]\n",
    "#para_split = [n_split * 10 for n_split in range(1,11)]\n",
    "for v_min_samples_split in para_split:\n",
    "    tree = DTC(random_state = 1234, max_depth = 4,\n",
    "                                min_samples_split = v_min_samples_split)\n",
    "    tree.fit(df_train_x, df_train_y)\n",
    "    train_accuracy.append(tree.score(df_train_x,df_train_y))\n",
    "    test_accuracy.append(tree.score(df_val_x,df_val_y))\n",
    "\n",
    "df_accuracy_split = pd.DataFrame()\n",
    "df_accuracy_split[\"MinSamplesLeaf\"] = para_split\n",
    "df_accuracy_split[\"TrainScore\"] = train_accuracy\n",
    "df_accuracy_split[\"TestScore\"] = test_accuracy\n",
    "df_accuracy_split.round(3)"
   ]
  },
  {
   "cell_type": "code",
   "execution_count": 55,
   "metadata": {
    "colab": {
     "base_uri": "https://localhost:8080/",
     "height": 282
    },
    "executionInfo": {
     "elapsed": 9854,
     "status": "ok",
     "timestamp": 1605980255947,
     "user": {
      "displayName": "성유기",
      "photoUrl": "",
      "userId": "01978674342265104944"
     },
     "user_tz": -540
    },
    "id": "aF4e2hxNtGgt",
    "outputId": "3c2ca114-1baf-4305-db5f-9cadc5db413c"
   },
   "outputs": [
    {
     "data": {
      "text/plain": [
       "<matplotlib.legend.Legend at 0x1c16e728e08>"
      ]
     },
     "execution_count": 55,
     "metadata": {},
     "output_type": "execute_result"
    },
    {
     "data": {
      "image/png": "[encoded data removed]",
      "text/plain": [
       "<Figure size 432x288 with 1 Axes>"
      ]
     },
     "metadata": {
      "needs_background": "light"
     },
     "output_type": "display_data"
    }
   ],
   "source": [
    "plt.plot(para_split, train_accuracy, linestyle =\"-\", label = \"Train Accuracy\")\n",
    "plt.plot(para_split, test_accuracy, linestyle =\"--\", label = \"Test Accuracy\")\n",
    "plt.legend()"
   ]
  },
  {
   "cell_type": "markdown",
   "metadata": {
    "id": "7PRq8l0MtGgt"
   },
   "source": [
    "분리노드의 최소 자료수는 영향을 미치지 않는다. min_samples_split 지정하지 않는다.\n",
    "분리노드 최소자료 수 증가에 따라 모델의 정확도 감소"
   ]
  },
  {
   "cell_type": "code",
   "execution_count": 56,
   "metadata": {
    "colab": {
     "base_uri": "https://localhost:8080/",
     "height": 359
    },
    "executionInfo": {
     "elapsed": 9842,
     "status": "ok",
     "timestamp": 1605980255948,
     "user": {
      "displayName": "성유기",
      "photoUrl": "",
      "userId": "01978674342265104944"
     },
     "user_tz": -540
    },
    "id": "RR72HzAvtGgt",
    "outputId": "b1c2d8c8-38d5-49f9-d2c0-d8254a23410c"
   },
   "outputs": [
    {
     "data": {
      "text/html": [
       "<div>\n",
       "<style scoped>\n",
       "    .dataframe tbody tr th:only-of-type {\n",
       "        vertical-align: middle;\n",
       "    }\n",
       "\n",
       "    .dataframe tbody tr th {\n",
       "        vertical-align: top;\n",
       "    }\n",
       "\n",
       "    .dataframe thead th {\n",
       "        text-align: right;\n",
       "    }\n",
       "</style>\n",
       "<table border=\"1\" class=\"dataframe\">\n",
       "  <thead>\n",
       "    <tr style=\"text-align: right;\">\n",
       "      <th></th>\n",
       "      <th>MinSamplesLeaf</th>\n",
       "      <th>TrainScore</th>\n",
       "      <th>TestScore</th>\n",
       "    </tr>\n",
       "  </thead>\n",
       "  <tbody>\n",
       "    <tr>\n",
       "      <th>0</th>\n",
       "      <td>2</td>\n",
       "      <td>0.982</td>\n",
       "      <td>0.967</td>\n",
       "    </tr>\n",
       "    <tr>\n",
       "      <th>1</th>\n",
       "      <td>4</td>\n",
       "      <td>0.972</td>\n",
       "      <td>0.958</td>\n",
       "    </tr>\n",
       "    <tr>\n",
       "      <th>2</th>\n",
       "      <td>6</td>\n",
       "      <td>0.972</td>\n",
       "      <td>0.958</td>\n",
       "    </tr>\n",
       "    <tr>\n",
       "      <th>3</th>\n",
       "      <td>8</td>\n",
       "      <td>0.972</td>\n",
       "      <td>0.958</td>\n",
       "    </tr>\n",
       "    <tr>\n",
       "      <th>4</th>\n",
       "      <td>10</td>\n",
       "      <td>0.961</td>\n",
       "      <td>0.958</td>\n",
       "    </tr>\n",
       "    <tr>\n",
       "      <th>5</th>\n",
       "      <td>12</td>\n",
       "      <td>0.954</td>\n",
       "      <td>0.953</td>\n",
       "    </tr>\n",
       "    <tr>\n",
       "      <th>6</th>\n",
       "      <td>14</td>\n",
       "      <td>0.915</td>\n",
       "      <td>0.902</td>\n",
       "    </tr>\n",
       "    <tr>\n",
       "      <th>7</th>\n",
       "      <td>16</td>\n",
       "      <td>0.905</td>\n",
       "      <td>0.893</td>\n",
       "    </tr>\n",
       "    <tr>\n",
       "      <th>8</th>\n",
       "      <td>18</td>\n",
       "      <td>0.901</td>\n",
       "      <td>0.869</td>\n",
       "    </tr>\n",
       "    <tr>\n",
       "      <th>9</th>\n",
       "      <td>20</td>\n",
       "      <td>0.901</td>\n",
       "      <td>0.869</td>\n",
       "    </tr>\n",
       "  </tbody>\n",
       "</table>\n",
       "</div>"
      ],
      "text/plain": [
       "   MinSamplesLeaf  TrainScore  TestScore\n",
       "0               2       0.982      0.967\n",
       "1               4       0.972      0.958\n",
       "2               6       0.972      0.958\n",
       "3               8       0.972      0.958\n",
       "4              10       0.961      0.958\n",
       "5              12       0.954      0.953\n",
       "6              14       0.915      0.902\n",
       "7              16       0.905      0.893\n",
       "8              18       0.901      0.869\n",
       "9              20       0.901      0.869"
      ]
     },
     "execution_count": 56,
     "metadata": {},
     "output_type": "execute_result"
    }
   ],
   "source": [
    "train_accuracy = []\n",
    "test_accuracy =[]\n",
    "\n",
    "para_leaf = [n_leaf * 2 for n_leaf in range(1,11)]\n",
    "\n",
    "for v_min_samples_leaf in para_leaf:\n",
    "    tree = DTC(random_state = 1234, min_samples_leaf = v_min_samples_leaf, max_depth=4)\n",
    "    tree.fit(df_train_x, df_train_y)\n",
    "    train_accuracy.append(tree.score(df_train_x,df_train_y))\n",
    "    test_accuracy.append(tree.score(df_val_x,df_val_y))\n",
    "\n",
    "df_score_leaf = pd.DataFrame()\n",
    "df_score_leaf[\"MinSamplesLeaf\"] = para_leaf\n",
    "df_score_leaf[\"TrainScore\"] = train_accuracy\n",
    "df_score_leaf[\"TestScore\"] = test_accuracy\n",
    "df_score_leaf.round(3)"
   ]
  },
  {
   "cell_type": "code",
   "execution_count": 57,
   "metadata": {
    "colab": {
     "base_uri": "https://localhost:8080/",
     "height": 282
    },
    "executionInfo": {
     "elapsed": 10349,
     "status": "ok",
     "timestamp": 1605980256469,
     "user": {
      "displayName": "성유기",
      "photoUrl": "",
      "userId": "01978674342265104944"
     },
     "user_tz": -540
    },
    "id": "VpCgBjRztGgt",
    "outputId": "f40d21c2-eb73-4491-a778-d65865882bfd"
   },
   "outputs": [
    {
     "data": {
      "text/plain": [
       "<matplotlib.legend.Legend at 0x1c16e71af88>"
      ]
     },
     "execution_count": 57,
     "metadata": {},
     "output_type": "execute_result"
    },
    {
     "data": {
      "image/png": "[encoded data removed]",
      "text/plain": [
       "<Figure size 432x288 with 1 Axes>"
      ]
     },
     "metadata": {
      "needs_background": "light"
     },
     "output_type": "display_data"
    }
   ],
   "source": [
    "plt.plot(para_leaf, train_accuracy, linestyle =\"-\", label = \"Train Accuracy\")\n",
    "plt.plot(para_leaf, test_accuracy, linestyle =\"--\", label = \"Test Accuracy\")\n",
    "plt.legend()"
   ]
  },
  {
   "cell_type": "markdown",
   "metadata": {
    "id": "k54PPuI8tGgu"
   },
   "source": [
    "잎사귀 노드 최소 자료 수 증가에 따라 모델의 정확도는 감소한다. 이전의 나무를 비교하면, 기준에 따라 양품과 불량이 구분되므로 min_samples_leaf = 1로 디폴트 값이 가장 효율적이라는 것을 알 수 있다."
   ]
  },
  {
   "cell_type": "code",
   "execution_count": 58,
   "metadata": {
    "colab": {
     "base_uri": "https://localhost:8080/"
    },
    "executionInfo": {
     "elapsed": 10337,
     "status": "ok",
     "timestamp": 1605980256470,
     "user": {
      "displayName": "성유기",
      "photoUrl": "",
      "userId": "01978674342265104944"
     },
     "user_tz": -540
    },
    "id": "T1uSbqmftGgu",
    "outputId": "09860040-b2ce-4924-8e6b-169e81c10e5a"
   },
   "outputs": [
    {
     "data": {
      "text/plain": [
       "DecisionTreeClassifier(ccp_alpha=0.0, class_weight=None, criterion='gini',\n",
       "                       max_depth=4, max_features=None, max_leaf_nodes=None,\n",
       "                       min_impurity_decrease=0.0, min_impurity_split=None,\n",
       "                       min_samples_leaf=1, min_samples_split=2,\n",
       "                       min_weight_fraction_leaf=0.0, presort='deprecated',\n",
       "                       random_state=1234, splitter='best')"
      ]
     },
     "execution_count": 58,
     "metadata": {},
     "output_type": "execute_result"
    }
   ],
   "source": [
    "#최종모델\n",
    "tree_final = DTC(random_state = 1234, max_depth = 4)\n",
    "tree_final.fit(df_train_x,df_train_y)"
   ]
  },
  {
   "cell_type": "code",
   "execution_count": 59,
   "metadata": {
    "colab": {
     "base_uri": "https://localhost:8080/",
     "height": 916
    },
    "executionInfo": {
     "elapsed": 10324,
     "status": "ok",
     "timestamp": 1605980256471,
     "user": {
      "displayName": "성유기",
      "photoUrl": "",
      "userId": "01978674342265104944"
     },
     "user_tz": -540
    },
    "id": "0joJbLNhtGgu",
    "outputId": "e2b752be-0e90-4f2e-dd2f-79cba8d8e568"
   },
   "outputs": [
    {
     "ename": "UnicodeDecodeError",
     "evalue": "'cp949' codec can't decode byte 0xec in position 204: illegal multibyte sequence",
     "output_type": "error",
     "traceback": [
      "\u001b[1;31m---------------------------------------------------------------------------\u001b[0m",
      "\u001b[1;31mUnicodeDecodeError\u001b[0m                        Traceback (most recent call last)",
      "\u001b[1;32m<ipython-input-59-c9fdd500b491>\u001b[0m in \u001b[0;36m<module>\u001b[1;34m\u001b[0m\n\u001b[0;32m      2\u001b[0m                 feature_names = v_feature_name, impurity = True, filled= True)\n\u001b[0;32m      3\u001b[0m \u001b[1;32mwith\u001b[0m \u001b[0mopen\u001b[0m\u001b[1;33m(\u001b[0m\u001b[1;34m\"tree_final.dot\"\u001b[0m\u001b[1;33m)\u001b[0m \u001b[1;32mas\u001b[0m \u001b[0mf\u001b[0m\u001b[1;33m:\u001b[0m\u001b[1;33m\u001b[0m\u001b[1;33m\u001b[0m\u001b[0m\n\u001b[1;32m----> 4\u001b[1;33m     \u001b[0mdot_graph\u001b[0m \u001b[1;33m=\u001b[0m \u001b[0mf\u001b[0m\u001b[1;33m.\u001b[0m\u001b[0mread\u001b[0m\u001b[1;33m(\u001b[0m\u001b[1;33m)\u001b[0m\u001b[1;33m\u001b[0m\u001b[1;33m\u001b[0m\u001b[0m\n\u001b[0m\u001b[0;32m      5\u001b[0m \u001b[0mdisplay\u001b[0m\u001b[1;33m(\u001b[0m\u001b[0mgraphviz\u001b[0m\u001b[1;33m.\u001b[0m\u001b[0mSource\u001b[0m\u001b[1;33m(\u001b[0m\u001b[0mdot_graph\u001b[0m\u001b[1;33m)\u001b[0m\u001b[1;33m)\u001b[0m\u001b[1;33m\u001b[0m\u001b[1;33m\u001b[0m\u001b[0m\n",
      "\u001b[1;31mUnicodeDecodeError\u001b[0m: 'cp949' codec can't decode byte 0xec in position 204: illegal multibyte sequence"
     ]
    }
   ],
   "source": [
    "export_graphviz(tree_final, out_file = \"tree_final.dot\", class_names = [\"Good\", \"Bad\"],\n",
    "                feature_names = v_feature_name, impurity = True, filled= True)\n",
    "with open(\"tree_final.dot\") as f:\n",
    "    dot_graph = f.read()\n",
    "display(graphviz.Source(dot_graph))"
   ]
  },
  {
   "cell_type": "code",
   "execution_count": 60,
   "metadata": {
    "colab": {
     "base_uri": "https://localhost:8080/"
    },
    "executionInfo": {
     "elapsed": 10310,
     "status": "ok",
     "timestamp": 1605980256471,
     "user": {
      "displayName": "성유기",
      "photoUrl": "",
      "userId": "01978674342265104944"
     },
     "user_tz": -540
    },
    "id": "GYtd1YEEtGgu",
    "outputId": "2e0e3c0e-ab32-4918-ab50-d6915c9fc985"
   },
   "outputs": [
    {
     "name": "stdout",
     "output_type": "stream",
     "text": [
      "Train Accuracy: 0.982\n",
      "Test Accuracy: 0.953\n",
      "\n",
      "Confusion matrix56: \n",
      "[[144   0]\n",
      " [ 10  60]]\n"
     ]
    }
   ],
   "source": [
    "y_pred = tree_final.predict(df_test_x)\n",
    "print(\"Train Accuracy: {0:.3f}\\n\".format(tree_final.score(df_train_x,df_train_y)), end =\"\")\n",
    "print(\"Test Accuracy: {0:.3f}\\n\".format(tree_final.score(df_test_x,df_test_y)))\n",
    "print(\"Confusion matrix56: \\n{}\".format(confusion_matrix(df_test_y,y_pred)))"
   ]
  },
  {
   "cell_type": "markdown",
   "metadata": {
    "id": "DKFUE-BOtGgu"
   },
   "source": [
    "정분류율은 95%이지만 우리가 관심있는 불량에 대한 정확도가 낮다."
   ]
  },
  {
   "cell_type": "code",
   "execution_count": 61,
   "metadata": {
    "colab": {
     "base_uri": "https://localhost:8080/",
     "height": 266
    },
    "executionInfo": {
     "elapsed": 10297,
     "status": "ok",
     "timestamp": 1605980256472,
     "user": {
      "displayName": "성유기",
      "photoUrl": "",
      "userId": "01978674342265104944"
     },
     "user_tz": -540
    },
    "id": "T4DZxBBZtGgu",
    "outputId": "27401d9e-ad35-4ecc-c8e4-7145c23ccfec"
   },
   "outputs": [
    {
     "data": {
      "text/html": [
       "<div>\n",
       "<style scoped>\n",
       "    .dataframe tbody tr th:only-of-type {\n",
       "        vertical-align: middle;\n",
       "    }\n",
       "\n",
       "    .dataframe tbody tr th {\n",
       "        vertical-align: top;\n",
       "    }\n",
       "\n",
       "    .dataframe thead th {\n",
       "        text-align: right;\n",
       "    }\n",
       "</style>\n",
       "<table border=\"1\" class=\"dataframe\">\n",
       "  <thead>\n",
       "    <tr style=\"text-align: right;\">\n",
       "      <th></th>\n",
       "      <th>Feature</th>\n",
       "      <th>Importance</th>\n",
       "    </tr>\n",
       "  </thead>\n",
       "  <tbody>\n",
       "    <tr>\n",
       "      <th>11</th>\n",
       "      <td>ROLLING_TEMP_T5</td>\n",
       "      <td>0.6513</td>\n",
       "    </tr>\n",
       "    <tr>\n",
       "      <th>92</th>\n",
       "      <td>HSB_적용</td>\n",
       "      <td>0.1724</td>\n",
       "    </tr>\n",
       "    <tr>\n",
       "      <th>10</th>\n",
       "      <td>FUR_EXTEMP</td>\n",
       "      <td>0.1263</td>\n",
       "    </tr>\n",
       "    <tr>\n",
       "      <th>12</th>\n",
       "      <td>ROLLING_DESCALING</td>\n",
       "      <td>0.0500</td>\n",
       "    </tr>\n",
       "    <tr>\n",
       "      <th>0</th>\n",
       "      <td>PT_THK</td>\n",
       "      <td>0.0000</td>\n",
       "    </tr>\n",
       "    <tr>\n",
       "      <th>62</th>\n",
       "      <td>SPEC_LR-EH36-TM</td>\n",
       "      <td>0.0000</td>\n",
       "    </tr>\n",
       "    <tr>\n",
       "      <th>71</th>\n",
       "      <td>SPEC_NV-B</td>\n",
       "      <td>0.0000</td>\n",
       "    </tr>\n",
       "  </tbody>\n",
       "</table>\n",
       "</div>"
      ],
      "text/plain": [
       "              Feature  Importance\n",
       "11    ROLLING_TEMP_T5      0.6513\n",
       "92             HSB_적용      0.1724\n",
       "10         FUR_EXTEMP      0.1263\n",
       "12  ROLLING_DESCALING      0.0500\n",
       "0              PT_THK      0.0000\n",
       "62    SPEC_LR-EH36-TM      0.0000\n",
       "71          SPEC_NV-B      0.0000"
      ]
     },
     "execution_count": 61,
     "metadata": {},
     "output_type": "execute_result"
    }
   ],
   "source": [
    "#tree.feature_importances_로 설명변수 중요도 확인 및 테이블로 저장\n",
    "df_importance = pd.DataFrame()\n",
    "df_importance[\"Feature\"] = v_feature_name\n",
    "df_importance[\"Importance\"] = tree_final.feature_importances_\n",
    "\n",
    "df_importance.sort_values(\"Importance\", ascending = False, inplace = True)\n",
    "df_importance7 = df_importance[:7]\n",
    "df_importance7.round(4)"
   ]
  },
  {
   "cell_type": "markdown",
   "metadata": {},
   "source": [
    "ROLLING_TEMP_T5(압연온도), HSB_적용(hot scale break), FUR_EXTEMP(추출온도),ROLLING_DESCALING(압연중 Descaling횟수) 순으로 중요하다."
   ]
  },
  {
   "cell_type": "code",
   "execution_count": 62,
   "metadata": {
    "colab": {
     "base_uri": "https://localhost:8080/",
     "height": 520
    },
    "executionInfo": {
     "elapsed": 10830,
     "status": "ok",
     "timestamp": 1605980257019,
     "user": {
      "displayName": "성유기",
      "photoUrl": "",
      "userId": "01978674342265104944"
     },
     "user_tz": -540
    },
    "id": "Ok3N_qFatGgu",
    "outputId": "5300bf87-3cbe-4f1c-daeb-4f4d3c74a216",
    "scrolled": false
   },
   "outputs": [
    {
     "name": "stderr",
     "output_type": "stream",
     "text": [
      "C:\\Users\\USER\\anaconda3\\lib\\site-packages\\ipykernel_launcher.py:3: SettingWithCopyWarning: \n",
      "A value is trying to be set on a copy of a slice from a DataFrame\n",
      "\n",
      "See the caveats in the documentation: https://pandas.pydata.org/pandas-docs/stable/user_guide/indexing.html#returning-a-view-versus-a-copy\n",
      "  This is separate from the ipykernel package so we can avoid doing imports until\n"
     ]
    },
    {
     "data": {
      "text/plain": [
       "Text(0, 0.5, 'Variable')"
      ]
     },
     "execution_count": 62,
     "metadata": {},
     "output_type": "execute_result"
    },
    {
     "name": "stderr",
     "output_type": "stream",
     "text": [
      "C:\\Users\\USER\\anaconda3\\lib\\site-packages\\matplotlib\\backends\\backend_agg.py:211: RuntimeWarning: Glyph 51201 missing from current font.\n",
      "  font.set_text(s, 0.0, flags=flags)\n",
      "C:\\Users\\USER\\anaconda3\\lib\\site-packages\\matplotlib\\backends\\backend_agg.py:211: RuntimeWarning: Glyph 50857 missing from current font.\n",
      "  font.set_text(s, 0.0, flags=flags)\n",
      "C:\\Users\\USER\\anaconda3\\lib\\site-packages\\matplotlib\\backends\\backend_agg.py:180: RuntimeWarning: Glyph 51201 missing from current font.\n",
      "  font.set_text(s, 0, flags=flags)\n",
      "C:\\Users\\USER\\anaconda3\\lib\\site-packages\\matplotlib\\backends\\backend_agg.py:180: RuntimeWarning: Glyph 50857 missing from current font.\n",
      "  font.set_text(s, 0, flags=flags)\n"
     ]
    },
    {
     "data": {
      "image/png": "[encoded data removed]",
      "text/plain": [
       "<Figure size 432x288 with 1 Axes>"
      ]
     },
     "metadata": {
      "needs_background": "light"
     },
     "output_type": "display_data"
    }
   ],
   "source": [
    "#설명변수 중요도 그래프\n",
    "#중요도가 높은 변수를 상위에 그림\n",
    "df_importance7.sort_values(\"Importance\", ascending = True, inplace = True)\n",
    "coordinates = range(len(df_importance7))\n",
    "plt.barh(y= coordinates, width =df_importance7[\"Importance\"])\n",
    "plt.yticks(coordinates, df_importance7[\"Feature\"])\n",
    "plt.xlabel(\"Variable Importance\")\n",
    "plt.ylabel(\"Variable\")"
   ]
  },
  {
   "cell_type": "markdown",
   "metadata": {
    "id": "dTXq0kpWtGgu"
   },
   "source": [
    "중요 설명 변수: ROLLING_TEMP_T5, HSB_적용, FUR_EXTEMP, ROLLING_DESCALING\t"
   ]
  },
  {
   "cell_type": "markdown",
   "metadata": {},
   "source": [
    "### 의사결정나무 GridSearchCV"
   ]
  },
  {
   "cell_type": "code",
   "execution_count": 63,
   "metadata": {},
   "outputs": [],
   "source": [
    "from sklearn.tree import DecisionTreeClassifier as DTC\n",
    "from sklearn.tree import DecisionTreeClassifier"
   ]
  },
  {
   "cell_type": "code",
   "execution_count": 64,
   "metadata": {},
   "outputs": [
    {
     "name": "stdout",
     "output_type": "stream",
     "text": [
      "best estimator model :\n",
      "DecisionTreeClassifier(ccp_alpha=0.0, class_weight=None, criterion='gini',\n",
      "                       max_depth=4, max_features=None, max_leaf_nodes=None,\n",
      "                       min_impurity_decrease=0.0, min_impurity_split=None,\n",
      "                       min_samples_leaf=2, min_samples_split=2,\n",
      "                       min_weight_fraction_leaf=0.0, presort='deprecated',\n",
      "                       random_state=None, splitter='best')\n",
      "\n",
      "best paramator model :\n",
      "{'max_depth': 4, 'min_samples_leaf': 2, 'min_samples_split': 2}\n",
      "\n",
      "best score :\n",
      "0.975\n"
     ]
    }
   ],
   "source": [
    "# GridSearchCV 이용한 DecisionTreeClassifier 최적의 파라미터 찾기\n",
    "estimator = DecisionTreeClassifier()\n",
    "\n",
    "param_grid = {\"max_depth\" :para_depth, \"min_samples_split\":para_split,\"min_samples_leaf\":para_leaf}\n",
    "\n",
    "grid_dt =GridSearchCV(estimator, param_grid,scoring=\"accuracy\", n_jobs=-1)\n",
    "grid_dt.fit(df_train_x,df_train_y)\n",
    "\n",
    "print(\"best estimator model :\\n{}\".format(grid_dt.best_estimator_))\n",
    "print(\"\\nbest paramator model :\\n{}\".format(grid_dt.best_params_))\n",
    "print(\"\\nbest score :\\n{}\".format(grid_dt.best_score_.round(3)))"
   ]
  },
  {
   "cell_type": "code",
   "execution_count": null,
   "metadata": {},
   "outputs": [],
   "source": []
  },
  {
   "cell_type": "markdown",
   "metadata": {
    "id": "nngqV5a9ySTn"
   },
   "source": [
    "# 랜덤 포레스트"
   ]
  },
  {
   "cell_type": "code",
   "execution_count": 65,
   "metadata": {
    "id": "p634NX7cx7Ea"
   },
   "outputs": [],
   "source": [
    "df_raw_x=df_raw.drop(\"SCALE\",axis=1,inplace=False)\n",
    "df_raw_y=df_raw[\"SCALE\"]"
   ]
  },
  {
   "cell_type": "code",
   "execution_count": 66,
   "metadata": {
    "id": "rL0Q4mp9x7QZ"
   },
   "outputs": [],
   "source": [
    "#step1 : 데이터 구성하기\n",
    "#더미변수 생성\n",
    "df_raw_x_dummy = pd.get_dummies(df_raw_x)\n",
    "df_raw_x_dummy.head()\n",
    "df_raw_x=df_raw_x_dummy"
   ]
  },
  {
   "cell_type": "code",
   "execution_count": 67,
   "metadata": {
    "colab": {
     "base_uri": "https://localhost:8080/"
    },
    "executionInfo": {
     "elapsed": 10812,
     "status": "ok",
     "timestamp": 1605980257021,
     "user": {
      "displayName": "성유기",
      "photoUrl": "",
      "userId": "01978674342265104944"
     },
     "user_tz": -540
    },
    "id": "aSCYuFdIyaX6",
    "outputId": "93394505-697f-49e2-902b-13ebbd6f99bb"
   },
   "outputs": [
    {
     "data": {
      "text/plain": [
       "0    0\n",
       "1    0\n",
       "2    0\n",
       "3    0\n",
       "4    0\n",
       "Name: SCALE, dtype: int32"
      ]
     },
     "execution_count": 67,
     "metadata": {},
     "output_type": "execute_result"
    }
   ],
   "source": [
    "#scale을 0과 1의 값을 가진 in형으로 변환\n",
    "df_raw_y = (df_raw_y == \"불량\").astype(int)\n",
    "df_raw_y.head()"
   ]
  },
  {
   "cell_type": "code",
   "execution_count": 68,
   "metadata": {
    "colab": {
     "base_uri": "https://localhost:8080/"
    },
    "executionInfo": {
     "elapsed": 10801,
     "status": "ok",
     "timestamp": 1605980257022,
     "user": {
      "displayName": "성유기",
      "photoUrl": "",
      "userId": "01978674342265104944"
     },
     "user_tz": -540
    },
    "id": "A6sUx6vjybF6",
    "outputId": "904fa931-0517-4506-f1d3-4f9ffedec67f"
   },
   "outputs": [
    {
     "data": {
      "text/plain": [
       "0      0\n",
       "1      0\n",
       "2      0\n",
       "3      0\n",
       "4      0\n",
       "      ..\n",
       "707    1\n",
       "708    0\n",
       "709    0\n",
       "710    0\n",
       "711    0\n",
       "Name: SCALE, Length: 712, dtype: int32"
      ]
     },
     "execution_count": 68,
     "metadata": {},
     "output_type": "execute_result"
    }
   ],
   "source": [
    "df_raw_y"
   ]
  },
  {
   "cell_type": "code",
   "execution_count": 69,
   "metadata": {
    "colab": {
     "base_uri": "https://localhost:8080/"
    },
    "executionInfo": {
     "elapsed": 10789,
     "status": "ok",
     "timestamp": 1605980257022,
     "user": {
      "displayName": "성유기",
      "photoUrl": "",
      "userId": "01978674342265104944"
     },
     "user_tz": -540
    },
    "id": "mWiRkZoByck_",
    "outputId": "e8a00dbe-38d6-4934-e95e-e1b6792170d2"
   },
   "outputs": [
    {
     "name": "stdout",
     "output_type": "stream",
     "text": [
      "train data X size : (284, 1506)\n",
      "train data Y size : (284,)\n",
      "val data X size : (214, 1506)\n",
      "val data Y size : (214,)\n",
      "test data X size : (214, 1506)\n",
      "test data Y size : (214,)\n"
     ]
    }
   ],
   "source": [
    "df_train_x, df_test_x, df_train_y, df_test_y=train_test_split(df_raw_x,df_raw_y\n",
    "                                                             ,test_size=0.3,random_state=1234)\n",
    "df_train_x, df_val_x, df_train_y, df_val_y=train_test_split(df_train_x,df_train_y\n",
    "                                                             ,test_size=3/7,random_state=1234)\n",
    "\n",
    "\n",
    "\n",
    "\n",
    "print(\"train data X size : {}\".format(df_train_x.shape))\n",
    "print(\"train data Y size : {}\".format(df_train_y.shape))\n",
    "print(\"val data X size : {}\".format(df_val_x.shape))\n",
    "print(\"val data Y size : {}\".format(df_val_y.shape))\n",
    "print(\"test data X size : {}\".format(df_test_x.shape))\n",
    "print(\"test data Y size : {}\".format(df_test_y.shape))"
   ]
  },
  {
   "cell_type": "code",
   "execution_count": 70,
   "metadata": {
    "colab": {
     "base_uri": "https://localhost:8080/"
    },
    "executionInfo": {
     "elapsed": 10777,
     "status": "ok",
     "timestamp": 1605980257023,
     "user": {
      "displayName": "성유기",
      "photoUrl": "",
      "userId": "01978674342265104944"
     },
     "user_tz": -540
    },
    "id": "HctdxJjpycwp",
    "outputId": "20d93fab-5f34-4c43-f851-5bc4f85c884d"
   },
   "outputs": [
    {
     "name": "stdout",
     "output_type": "stream",
     "text": [
      "Accuracy on training set:1.000\n",
      "Accuracy on val set:0.893\n"
     ]
    }
   ],
   "source": [
    "#step2 : 모델 생성\n",
    "\n",
    "rf_uncustomized = RandomForestClassifier(random_state=1234)\n",
    "rf_uncustomized.fit(df_train_x, df_train_y)\n",
    "\n",
    "print(\"Accuracy on training set:{:.3f}\".format(rf_uncustomized.score(df_train_x, df_train_y)))\n",
    "print(\"Accuracy on val set:{:.3f}\".format(rf_uncustomized.score(df_test_x, df_test_y)))"
   ]
  },
  {
   "cell_type": "code",
   "execution_count": 71,
   "metadata": {
    "colab": {
     "base_uri": "https://localhost:8080/",
     "height": 514
    },
    "executionInfo": {
     "elapsed": 14186,
     "status": "ok",
     "timestamp": 1605980260444,
     "user": {
      "displayName": "성유기",
      "photoUrl": "",
      "userId": "01978674342265104944"
     },
     "user_tz": -540
    },
    "id": "JxxZS8z-ycy_",
    "outputId": "2794fbad-cd36-477a-df0f-0f234183e091"
   },
   "outputs": [
    {
     "data": {
      "text/html": [
       "<div>\n",
       "<style scoped>\n",
       "    .dataframe tbody tr th:only-of-type {\n",
       "        vertical-align: middle;\n",
       "    }\n",
       "\n",
       "    .dataframe tbody tr th {\n",
       "        vertical-align: top;\n",
       "    }\n",
       "\n",
       "    .dataframe thead th {\n",
       "        text-align: right;\n",
       "    }\n",
       "</style>\n",
       "<table border=\"1\" class=\"dataframe\">\n",
       "  <thead>\n",
       "    <tr style=\"text-align: right;\">\n",
       "      <th></th>\n",
       "      <th>n_estimators</th>\n",
       "      <th>TrainAccuracy</th>\n",
       "      <th>ValAccuracy</th>\n",
       "    </tr>\n",
       "  </thead>\n",
       "  <tbody>\n",
       "    <tr>\n",
       "      <th>0</th>\n",
       "      <td>10</td>\n",
       "      <td>0.996</td>\n",
       "      <td>0.897</td>\n",
       "    </tr>\n",
       "    <tr>\n",
       "      <th>1</th>\n",
       "      <td>20</td>\n",
       "      <td>1.000</td>\n",
       "      <td>0.930</td>\n",
       "    </tr>\n",
       "    <tr>\n",
       "      <th>2</th>\n",
       "      <td>30</td>\n",
       "      <td>1.000</td>\n",
       "      <td>0.911</td>\n",
       "    </tr>\n",
       "    <tr>\n",
       "      <th>3</th>\n",
       "      <td>40</td>\n",
       "      <td>1.000</td>\n",
       "      <td>0.907</td>\n",
       "    </tr>\n",
       "    <tr>\n",
       "      <th>4</th>\n",
       "      <td>50</td>\n",
       "      <td>1.000</td>\n",
       "      <td>0.893</td>\n",
       "    </tr>\n",
       "    <tr>\n",
       "      <th>5</th>\n",
       "      <td>60</td>\n",
       "      <td>1.000</td>\n",
       "      <td>0.907</td>\n",
       "    </tr>\n",
       "    <tr>\n",
       "      <th>6</th>\n",
       "      <td>70</td>\n",
       "      <td>1.000</td>\n",
       "      <td>0.911</td>\n",
       "    </tr>\n",
       "    <tr>\n",
       "      <th>7</th>\n",
       "      <td>80</td>\n",
       "      <td>1.000</td>\n",
       "      <td>0.897</td>\n",
       "    </tr>\n",
       "    <tr>\n",
       "      <th>8</th>\n",
       "      <td>90</td>\n",
       "      <td>1.000</td>\n",
       "      <td>0.902</td>\n",
       "    </tr>\n",
       "    <tr>\n",
       "      <th>9</th>\n",
       "      <td>100</td>\n",
       "      <td>1.000</td>\n",
       "      <td>0.911</td>\n",
       "    </tr>\n",
       "    <tr>\n",
       "      <th>10</th>\n",
       "      <td>110</td>\n",
       "      <td>1.000</td>\n",
       "      <td>0.911</td>\n",
       "    </tr>\n",
       "    <tr>\n",
       "      <th>11</th>\n",
       "      <td>120</td>\n",
       "      <td>1.000</td>\n",
       "      <td>0.911</td>\n",
       "    </tr>\n",
       "    <tr>\n",
       "      <th>12</th>\n",
       "      <td>130</td>\n",
       "      <td>1.000</td>\n",
       "      <td>0.916</td>\n",
       "    </tr>\n",
       "    <tr>\n",
       "      <th>13</th>\n",
       "      <td>140</td>\n",
       "      <td>1.000</td>\n",
       "      <td>0.916</td>\n",
       "    </tr>\n",
       "    <tr>\n",
       "      <th>14</th>\n",
       "      <td>150</td>\n",
       "      <td>1.000</td>\n",
       "      <td>0.911</td>\n",
       "    </tr>\n",
       "  </tbody>\n",
       "</table>\n",
       "</div>"
      ],
      "text/plain": [
       "    n_estimators  TrainAccuracy  ValAccuracy\n",
       "0             10          0.996        0.897\n",
       "1             20          1.000        0.930\n",
       "2             30          1.000        0.911\n",
       "3             40          1.000        0.907\n",
       "4             50          1.000        0.893\n",
       "5             60          1.000        0.907\n",
       "6             70          1.000        0.911\n",
       "7             80          1.000        0.897\n",
       "8             90          1.000        0.902\n",
       "9            100          1.000        0.911\n",
       "10           110          1.000        0.911\n",
       "11           120          1.000        0.911\n",
       "12           130          1.000        0.916\n",
       "13           140          1.000        0.916\n",
       "14           150          1.000        0.911"
      ]
     },
     "execution_count": 71,
     "metadata": {},
     "output_type": "execute_result"
    }
   ],
   "source": [
    "#n_estimators 트리수 변경에 따른 모델 성능\n",
    "\n",
    "train_accuracy = []; val_accuracy = []\n",
    "para_n_tree = [n_tree * 10 for n_tree in range(1,16)]\n",
    " \n",
    "for v_n_estimators in para_n_tree:\n",
    "    rf = RandomForestClassifier(random_state=1234, \n",
    "                                  n_estimators = v_n_estimators)\n",
    "    rf.fit(df_train_x, df_train_y)\n",
    "    train_accuracy.append(rf.score(df_train_x, df_train_y))\n",
    "    val_accuracy.append(rf.score(df_val_x, df_val_y))\n",
    "\n",
    "    \n",
    "df_accuracy_n = pd.DataFrame()\n",
    "df_accuracy_n[\"n_estimators\"] = para_n_tree\n",
    "df_accuracy_n[\"TrainAccuracy\"] = train_accuracy\n",
    "df_accuracy_n[\"ValAccuracy\"] = val_accuracy\n",
    "\n",
    "df_accuracy_n.round(3)"
   ]
  },
  {
   "cell_type": "code",
   "execution_count": 72,
   "metadata": {
    "colab": {
     "base_uri": "https://localhost:8080/",
     "height": 297
    },
    "executionInfo": {
     "elapsed": 14174,
     "status": "ok",
     "timestamp": 1605980260445,
     "user": {
      "displayName": "성유기",
      "photoUrl": "",
      "userId": "01978674342265104944"
     },
     "user_tz": -540
    },
    "id": "PNBi1p_nyc1n",
    "outputId": "1d8bef6f-96dc-4165-ad21-9faa8959708b"
   },
   "outputs": [
    {
     "data": {
      "text/plain": [
       "<matplotlib.legend.Legend at 0x1c16e7b0448>"
      ]
     },
     "execution_count": 72,
     "metadata": {},
     "output_type": "execute_result"
    },
    {
     "data": {
      "image/png": "[encoded data removed]",
      "text/plain": [
       "<Figure size 432x288 with 1 Axes>"
      ]
     },
     "metadata": {
      "needs_background": "light"
     },
     "output_type": "display_data"
    }
   ],
   "source": [
    "plt.plot(para_n_tree, train_accuracy, linestyle=\"-\", label=\"Train Accuracy\")\n",
    "plt.plot(para_n_tree, val_accuracy, linestyle=\"--\", label=\"Val Accuracy\")\n",
    "plt.xlabel('n_estimators');plt.ylabel('accuracy')\n",
    "plt.legend()"
   ]
  },
  {
   "cell_type": "code",
   "execution_count": 73,
   "metadata": {
    "colab": {
     "base_uri": "https://localhost:8080/"
    },
    "executionInfo": {
     "elapsed": 48246,
     "status": "ok",
     "timestamp": 1605980294530,
     "user": {
      "displayName": "성유기",
      "photoUrl": "",
      "userId": "01978674342265104944"
     },
     "user_tz": -540
    },
    "id": "r4Smcacyyc5G",
    "outputId": "cc7d4d19-a5ad-494e-b6cb-5a0d2724b65b"
   },
   "outputs": [
    {
     "name": "stderr",
     "output_type": "stream",
     "text": [
      "C:\\Users\\USER\\anaconda3\\lib\\site-packages\\sklearn\\ensemble\\_forest.py:523: UserWarning: Some inputs do not have OOB scores. This probably means too few trees were used to compute any reliable oob estimates.\n",
      "  warn(\"Some inputs do not have OOB scores. \"\n",
      "C:\\Users\\USER\\anaconda3\\lib\\site-packages\\sklearn\\ensemble\\_forest.py:528: RuntimeWarning: invalid value encountered in true_divide\n",
      "  predictions[k].sum(axis=1)[:, np.newaxis])\n",
      "C:\\Users\\USER\\anaconda3\\lib\\site-packages\\sklearn\\ensemble\\_forest.py:523: UserWarning: Some inputs do not have OOB scores. This probably means too few trees were used to compute any reliable oob estimates.\n",
      "  warn(\"Some inputs do not have OOB scores. \"\n",
      "C:\\Users\\USER\\anaconda3\\lib\\site-packages\\sklearn\\ensemble\\_forest.py:528: RuntimeWarning: invalid value encountered in true_divide\n",
      "  predictions[k].sum(axis=1)[:, np.newaxis])\n",
      "C:\\Users\\USER\\anaconda3\\lib\\site-packages\\sklearn\\ensemble\\_forest.py:523: UserWarning: Some inputs do not have OOB scores. This probably means too few trees were used to compute any reliable oob estimates.\n",
      "  warn(\"Some inputs do not have OOB scores. \"\n",
      "C:\\Users\\USER\\anaconda3\\lib\\site-packages\\sklearn\\ensemble\\_forest.py:528: RuntimeWarning: invalid value encountered in true_divide\n",
      "  predictions[k].sum(axis=1)[:, np.newaxis])\n",
      "C:\\Users\\USER\\anaconda3\\lib\\site-packages\\sklearn\\ensemble\\_forest.py:523: UserWarning: Some inputs do not have OOB scores. This probably means too few trees were used to compute any reliable oob estimates.\n",
      "  warn(\"Some inputs do not have OOB scores. \"\n",
      "C:\\Users\\USER\\anaconda3\\lib\\site-packages\\sklearn\\ensemble\\_forest.py:528: RuntimeWarning: invalid value encountered in true_divide\n",
      "  predictions[k].sum(axis=1)[:, np.newaxis])\n",
      "C:\\Users\\USER\\anaconda3\\lib\\site-packages\\sklearn\\ensemble\\_forest.py:523: UserWarning: Some inputs do not have OOB scores. This probably means too few trees were used to compute any reliable oob estimates.\n",
      "  warn(\"Some inputs do not have OOB scores. \"\n",
      "C:\\Users\\USER\\anaconda3\\lib\\site-packages\\sklearn\\ensemble\\_forest.py:528: RuntimeWarning: invalid value encountered in true_divide\n",
      "  predictions[k].sum(axis=1)[:, np.newaxis])\n",
      "C:\\Users\\USER\\anaconda3\\lib\\site-packages\\sklearn\\ensemble\\_forest.py:523: UserWarning: Some inputs do not have OOB scores. This probably means too few trees were used to compute any reliable oob estimates.\n",
      "  warn(\"Some inputs do not have OOB scores. \"\n",
      "C:\\Users\\USER\\anaconda3\\lib\\site-packages\\sklearn\\ensemble\\_forest.py:528: RuntimeWarning: invalid value encountered in true_divide\n",
      "  predictions[k].sum(axis=1)[:, np.newaxis])\n",
      "C:\\Users\\USER\\anaconda3\\lib\\site-packages\\sklearn\\ensemble\\_forest.py:523: UserWarning: Some inputs do not have OOB scores. This probably means too few trees were used to compute any reliable oob estimates.\n",
      "  warn(\"Some inputs do not have OOB scores. \"\n",
      "C:\\Users\\USER\\anaconda3\\lib\\site-packages\\sklearn\\ensemble\\_forest.py:528: RuntimeWarning: invalid value encountered in true_divide\n",
      "  predictions[k].sum(axis=1)[:, np.newaxis])\n",
      "C:\\Users\\USER\\anaconda3\\lib\\site-packages\\sklearn\\ensemble\\_forest.py:523: UserWarning: Some inputs do not have OOB scores. This probably means too few trees were used to compute any reliable oob estimates.\n",
      "  warn(\"Some inputs do not have OOB scores. \"\n",
      "C:\\Users\\USER\\anaconda3\\lib\\site-packages\\sklearn\\ensemble\\_forest.py:528: RuntimeWarning: invalid value encountered in true_divide\n",
      "  predictions[k].sum(axis=1)[:, np.newaxis])\n",
      "C:\\Users\\USER\\anaconda3\\lib\\site-packages\\sklearn\\ensemble\\_forest.py:523: UserWarning: Some inputs do not have OOB scores. This probably means too few trees were used to compute any reliable oob estimates.\n",
      "  warn(\"Some inputs do not have OOB scores. \"\n",
      "C:\\Users\\USER\\anaconda3\\lib\\site-packages\\sklearn\\ensemble\\_forest.py:528: RuntimeWarning: invalid value encountered in true_divide\n",
      "  predictions[k].sum(axis=1)[:, np.newaxis])\n",
      "C:\\Users\\USER\\anaconda3\\lib\\site-packages\\sklearn\\ensemble\\_forest.py:523: UserWarning: Some inputs do not have OOB scores. This probably means too few trees were used to compute any reliable oob estimates.\n",
      "  warn(\"Some inputs do not have OOB scores. \"\n",
      "C:\\Users\\USER\\anaconda3\\lib\\site-packages\\sklearn\\ensemble\\_forest.py:528: RuntimeWarning: invalid value encountered in true_divide\n",
      "  predictions[k].sum(axis=1)[:, np.newaxis])\n",
      "C:\\Users\\USER\\anaconda3\\lib\\site-packages\\sklearn\\ensemble\\_forest.py:523: UserWarning: Some inputs do not have OOB scores. This probably means too few trees were used to compute any reliable oob estimates.\n",
      "  warn(\"Some inputs do not have OOB scores. \"\n",
      "C:\\Users\\USER\\anaconda3\\lib\\site-packages\\sklearn\\ensemble\\_forest.py:528: RuntimeWarning: invalid value encountered in true_divide\n",
      "  predictions[k].sum(axis=1)[:, np.newaxis])\n",
      "C:\\Users\\USER\\anaconda3\\lib\\site-packages\\sklearn\\ensemble\\_forest.py:523: UserWarning: Some inputs do not have OOB scores. This probably means too few trees were used to compute any reliable oob estimates.\n",
      "  warn(\"Some inputs do not have OOB scores. \"\n",
      "C:\\Users\\USER\\anaconda3\\lib\\site-packages\\sklearn\\ensemble\\_forest.py:528: RuntimeWarning: invalid value encountered in true_divide\n",
      "  predictions[k].sum(axis=1)[:, np.newaxis])\n",
      "C:\\Users\\USER\\anaconda3\\lib\\site-packages\\sklearn\\ensemble\\_forest.py:523: UserWarning: Some inputs do not have OOB scores. This probably means too few trees were used to compute any reliable oob estimates.\n",
      "  warn(\"Some inputs do not have OOB scores. \"\n",
      "C:\\Users\\USER\\anaconda3\\lib\\site-packages\\sklearn\\ensemble\\_forest.py:528: RuntimeWarning: invalid value encountered in true_divide\n",
      "  predictions[k].sum(axis=1)[:, np.newaxis])\n"
     ]
    }
   ],
   "source": [
    "#error 저장 리스트\n",
    "\n",
    "oob_error = []\n",
    "\n",
    "for v_n_estimator in range(1,151):\n",
    "    rf=RandomForestClassifier(n_estimators = v_n_estimator, \n",
    "                             oob_score = True, random_state=1234)\n",
    "    rf.fit(df_train_x,df_train_y)\n",
    "    oob_error.append(1 - rf.oob_score_)"
   ]
  },
  {
   "cell_type": "code",
   "execution_count": 74,
   "metadata": {
    "colab": {
     "base_uri": "https://localhost:8080/",
     "height": 280
    },
    "executionInfo": {
     "elapsed": 48235,
     "status": "ok",
     "timestamp": 1605980294533,
     "user": {
      "displayName": "성유기",
      "photoUrl": "",
      "userId": "01978674342265104944"
     },
     "user_tz": -540
    },
    "id": "c_6_I3t3yc7l",
    "outputId": "88e8fbdd-772e-49a5-b6cb-052b56a3210e"
   },
   "outputs": [
    {
     "data": {
      "image/png": "[encoded data removed]",
      "text/plain": [
       "<Figure size 432x288 with 1 Axes>"
      ]
     },
     "metadata": {
      "needs_background": "light"
     },
     "output_type": "display_data"
    }
   ],
   "source": [
    "#그래프로 표현\n",
    "plt.plot(range(1,151), oob_error)\n",
    "plt.ylabel('oob error')\n",
    "plt.xlabel('n_estimators')\n",
    "#트리 수 지정\n",
    "n_estimators = 35"
   ]
  },
  {
   "cell_type": "code",
   "execution_count": 75,
   "metadata": {
    "colab": {
     "base_uri": "https://localhost:8080/",
     "height": 948
    },
    "executionInfo": {
     "elapsed": 51415,
     "status": "ok",
     "timestamp": 1605980297727,
     "user": {
      "displayName": "성유기",
      "photoUrl": "",
      "userId": "01978674342265104944"
     },
     "user_tz": -540
    },
    "id": "Ipue_5yFydAj",
    "outputId": "0a2058ed-dc9a-4626-d455-2f0bd99b61ea"
   },
   "outputs": [
    {
     "data": {
      "text/html": [
       "<div>\n",
       "<style scoped>\n",
       "    .dataframe tbody tr th:only-of-type {\n",
       "        vertical-align: middle;\n",
       "    }\n",
       "\n",
       "    .dataframe tbody tr th {\n",
       "        vertical-align: top;\n",
       "    }\n",
       "\n",
       "    .dataframe thead th {\n",
       "        text-align: right;\n",
       "    }\n",
       "</style>\n",
       "<table border=\"1\" class=\"dataframe\">\n",
       "  <thead>\n",
       "    <tr style=\"text-align: right;\">\n",
       "      <th></th>\n",
       "      <th>Depth</th>\n",
       "      <th>TrainAccuracy</th>\n",
       "      <th>ValAccuracy</th>\n",
       "    </tr>\n",
       "  </thead>\n",
       "  <tbody>\n",
       "    <tr>\n",
       "      <th>0</th>\n",
       "      <td>1</td>\n",
       "      <td>0.687</td>\n",
       "      <td>0.664</td>\n",
       "    </tr>\n",
       "    <tr>\n",
       "      <th>1</th>\n",
       "      <td>2</td>\n",
       "      <td>0.687</td>\n",
       "      <td>0.664</td>\n",
       "    </tr>\n",
       "    <tr>\n",
       "      <th>2</th>\n",
       "      <td>3</td>\n",
       "      <td>0.743</td>\n",
       "      <td>0.692</td>\n",
       "    </tr>\n",
       "    <tr>\n",
       "      <th>3</th>\n",
       "      <td>4</td>\n",
       "      <td>0.775</td>\n",
       "      <td>0.710</td>\n",
       "    </tr>\n",
       "    <tr>\n",
       "      <th>4</th>\n",
       "      <td>5</td>\n",
       "      <td>0.863</td>\n",
       "      <td>0.776</td>\n",
       "    </tr>\n",
       "    <tr>\n",
       "      <th>5</th>\n",
       "      <td>6</td>\n",
       "      <td>0.877</td>\n",
       "      <td>0.794</td>\n",
       "    </tr>\n",
       "    <tr>\n",
       "      <th>6</th>\n",
       "      <td>7</td>\n",
       "      <td>0.905</td>\n",
       "      <td>0.855</td>\n",
       "    </tr>\n",
       "    <tr>\n",
       "      <th>7</th>\n",
       "      <td>8</td>\n",
       "      <td>0.915</td>\n",
       "      <td>0.850</td>\n",
       "    </tr>\n",
       "    <tr>\n",
       "      <th>8</th>\n",
       "      <td>9</td>\n",
       "      <td>0.937</td>\n",
       "      <td>0.879</td>\n",
       "    </tr>\n",
       "    <tr>\n",
       "      <th>9</th>\n",
       "      <td>10</td>\n",
       "      <td>0.954</td>\n",
       "      <td>0.869</td>\n",
       "    </tr>\n",
       "    <tr>\n",
       "      <th>10</th>\n",
       "      <td>11</td>\n",
       "      <td>0.968</td>\n",
       "      <td>0.883</td>\n",
       "    </tr>\n",
       "    <tr>\n",
       "      <th>11</th>\n",
       "      <td>12</td>\n",
       "      <td>0.965</td>\n",
       "      <td>0.893</td>\n",
       "    </tr>\n",
       "    <tr>\n",
       "      <th>12</th>\n",
       "      <td>13</td>\n",
       "      <td>0.961</td>\n",
       "      <td>0.888</td>\n",
       "    </tr>\n",
       "    <tr>\n",
       "      <th>13</th>\n",
       "      <td>14</td>\n",
       "      <td>0.979</td>\n",
       "      <td>0.888</td>\n",
       "    </tr>\n",
       "    <tr>\n",
       "      <th>14</th>\n",
       "      <td>15</td>\n",
       "      <td>0.989</td>\n",
       "      <td>0.879</td>\n",
       "    </tr>\n",
       "    <tr>\n",
       "      <th>15</th>\n",
       "      <td>16</td>\n",
       "      <td>0.989</td>\n",
       "      <td>0.897</td>\n",
       "    </tr>\n",
       "    <tr>\n",
       "      <th>16</th>\n",
       "      <td>17</td>\n",
       "      <td>0.993</td>\n",
       "      <td>0.893</td>\n",
       "    </tr>\n",
       "    <tr>\n",
       "      <th>17</th>\n",
       "      <td>18</td>\n",
       "      <td>0.993</td>\n",
       "      <td>0.911</td>\n",
       "    </tr>\n",
       "    <tr>\n",
       "      <th>18</th>\n",
       "      <td>19</td>\n",
       "      <td>0.996</td>\n",
       "      <td>0.916</td>\n",
       "    </tr>\n",
       "    <tr>\n",
       "      <th>19</th>\n",
       "      <td>20</td>\n",
       "      <td>1.000</td>\n",
       "      <td>0.935</td>\n",
       "    </tr>\n",
       "    <tr>\n",
       "      <th>20</th>\n",
       "      <td>21</td>\n",
       "      <td>1.000</td>\n",
       "      <td>0.916</td>\n",
       "    </tr>\n",
       "    <tr>\n",
       "      <th>21</th>\n",
       "      <td>22</td>\n",
       "      <td>1.000</td>\n",
       "      <td>0.911</td>\n",
       "    </tr>\n",
       "    <tr>\n",
       "      <th>22</th>\n",
       "      <td>23</td>\n",
       "      <td>1.000</td>\n",
       "      <td>0.911</td>\n",
       "    </tr>\n",
       "    <tr>\n",
       "      <th>23</th>\n",
       "      <td>24</td>\n",
       "      <td>1.000</td>\n",
       "      <td>0.921</td>\n",
       "    </tr>\n",
       "    <tr>\n",
       "      <th>24</th>\n",
       "      <td>25</td>\n",
       "      <td>1.000</td>\n",
       "      <td>0.911</td>\n",
       "    </tr>\n",
       "    <tr>\n",
       "      <th>25</th>\n",
       "      <td>26</td>\n",
       "      <td>1.000</td>\n",
       "      <td>0.911</td>\n",
       "    </tr>\n",
       "    <tr>\n",
       "      <th>26</th>\n",
       "      <td>27</td>\n",
       "      <td>1.000</td>\n",
       "      <td>0.911</td>\n",
       "    </tr>\n",
       "    <tr>\n",
       "      <th>27</th>\n",
       "      <td>28</td>\n",
       "      <td>1.000</td>\n",
       "      <td>0.916</td>\n",
       "    </tr>\n",
       "    <tr>\n",
       "      <th>28</th>\n",
       "      <td>29</td>\n",
       "      <td>1.000</td>\n",
       "      <td>0.916</td>\n",
       "    </tr>\n",
       "  </tbody>\n",
       "</table>\n",
       "</div>"
      ],
      "text/plain": [
       "    Depth  TrainAccuracy  ValAccuracy\n",
       "0       1          0.687        0.664\n",
       "1       2          0.687        0.664\n",
       "2       3          0.743        0.692\n",
       "3       4          0.775        0.710\n",
       "4       5          0.863        0.776\n",
       "5       6          0.877        0.794\n",
       "6       7          0.905        0.855\n",
       "7       8          0.915        0.850\n",
       "8       9          0.937        0.879\n",
       "9      10          0.954        0.869\n",
       "10     11          0.968        0.883\n",
       "11     12          0.965        0.893\n",
       "12     13          0.961        0.888\n",
       "13     14          0.979        0.888\n",
       "14     15          0.989        0.879\n",
       "15     16          0.989        0.897\n",
       "16     17          0.993        0.893\n",
       "17     18          0.993        0.911\n",
       "18     19          0.996        0.916\n",
       "19     20          1.000        0.935\n",
       "20     21          1.000        0.916\n",
       "21     22          1.000        0.911\n",
       "22     23          1.000        0.911\n",
       "23     24          1.000        0.921\n",
       "24     25          1.000        0.911\n",
       "25     26          1.000        0.911\n",
       "26     27          1.000        0.911\n",
       "27     28          1.000        0.916\n",
       "28     29          1.000        0.916"
      ]
     },
     "execution_count": 75,
     "metadata": {},
     "output_type": "execute_result"
    }
   ],
   "source": [
    "#max_depth\n",
    "#train 및 test 정확도 결과 저장용\n",
    "train_accuracy = []; val_accuracy = []\n",
    "\n",
    "#max_depth : 최대 깊이 변경\n",
    "para_depth = [depth for depth in range(1,30)]\n",
    " \n",
    "for v_max_depth in para_depth:\n",
    "    rf = RandomForestClassifier(random_state=1234, n_estimators = 35, \n",
    "                                  max_depth = v_max_depth)\n",
    "    rf.fit(df_train_x, df_train_y)\n",
    "    train_accuracy.append(rf.score(df_train_x, df_train_y))\n",
    "    val_accuracy.append(rf.score(df_val_x, df_val_y))\n",
    "\n",
    "    \n",
    "df_accuracy_depth = pd.DataFrame()\n",
    "df_accuracy_depth[\"Depth\"] = para_depth\n",
    "df_accuracy_depth[\"TrainAccuracy\"] = train_accuracy\n",
    "df_accuracy_depth[\"ValAccuracy\"] = val_accuracy\n",
    "\n",
    "df_accuracy_depth.round(3)"
   ]
  },
  {
   "cell_type": "code",
   "execution_count": 76,
   "metadata": {
    "colab": {
     "base_uri": "https://localhost:8080/",
     "height": 279
    },
    "executionInfo": {
     "elapsed": 51399,
     "status": "ok",
     "timestamp": 1605980297729,
     "user": {
      "displayName": "성유기",
      "photoUrl": "",
      "userId": "01978674342265104944"
     },
     "user_tz": -540
    },
    "id": "DVqgkP8tydDO",
    "outputId": "84f36d21-8747-4f51-c64e-f26d32eec379"
   },
   "outputs": [
    {
     "data": {
      "image/png": "[encoded data removed]",
      "text/plain": [
       "<Figure size 432x288 with 1 Axes>"
      ]
     },
     "metadata": {
      "needs_background": "light"
     },
     "output_type": "display_data"
    }
   ],
   "source": [
    "#모델 정확도 그래프 확인\n",
    "plt.plot(para_depth, train_accuracy, linestyle=\"-\", label=\"Train Accuracy\")\n",
    "plt.plot(para_depth, val_accuracy, linestyle=\"--\", label=\"Val Accuracy\")\n",
    "plt.xlabel('max depth'); plt.ylabel('accuracy')\n",
    "plt.legend()\n",
    "\n",
    "#최대 깊이 지정\n",
    "max_depth = 20"
   ]
  },
  {
   "cell_type": "code",
   "execution_count": 77,
   "metadata": {
    "colab": {
     "base_uri": "https://localhost:8080/",
     "height": 359
    },
    "executionInfo": {
     "elapsed": 52669,
     "status": "ok",
     "timestamp": 1605980299013,
     "user": {
      "displayName": "성유기",
      "photoUrl": "",
      "userId": "01978674342265104944"
     },
     "user_tz": -540
    },
    "id": "a6gcP9fuydFt",
    "outputId": "3caf4b66-14fe-4a9a-e28d-7d217de3f4ee",
    "scrolled": true
   },
   "outputs": [
    {
     "data": {
      "text/html": [
       "<div>\n",
       "<style scoped>\n",
       "    .dataframe tbody tr th:only-of-type {\n",
       "        vertical-align: middle;\n",
       "    }\n",
       "\n",
       "    .dataframe tbody tr th {\n",
       "        vertical-align: top;\n",
       "    }\n",
       "\n",
       "    .dataframe thead th {\n",
       "        text-align: right;\n",
       "    }\n",
       "</style>\n",
       "<table border=\"1\" class=\"dataframe\">\n",
       "  <thead>\n",
       "    <tr style=\"text-align: right;\">\n",
       "      <th></th>\n",
       "      <th>MinSamplesSplit</th>\n",
       "      <th>TrainAccuacy</th>\n",
       "      <th>ValAccuacy</th>\n",
       "    </tr>\n",
       "  </thead>\n",
       "  <tbody>\n",
       "    <tr>\n",
       "      <th>0</th>\n",
       "      <td>10</td>\n",
       "      <td>0.979</td>\n",
       "      <td>0.874</td>\n",
       "    </tr>\n",
       "    <tr>\n",
       "      <th>1</th>\n",
       "      <td>20</td>\n",
       "      <td>0.975</td>\n",
       "      <td>0.902</td>\n",
       "    </tr>\n",
       "    <tr>\n",
       "      <th>2</th>\n",
       "      <td>30</td>\n",
       "      <td>0.961</td>\n",
       "      <td>0.888</td>\n",
       "    </tr>\n",
       "    <tr>\n",
       "      <th>3</th>\n",
       "      <td>40</td>\n",
       "      <td>0.958</td>\n",
       "      <td>0.883</td>\n",
       "    </tr>\n",
       "    <tr>\n",
       "      <th>4</th>\n",
       "      <td>50</td>\n",
       "      <td>0.944</td>\n",
       "      <td>0.869</td>\n",
       "    </tr>\n",
       "    <tr>\n",
       "      <th>5</th>\n",
       "      <td>60</td>\n",
       "      <td>0.947</td>\n",
       "      <td>0.893</td>\n",
       "    </tr>\n",
       "    <tr>\n",
       "      <th>6</th>\n",
       "      <td>70</td>\n",
       "      <td>0.919</td>\n",
       "      <td>0.860</td>\n",
       "    </tr>\n",
       "    <tr>\n",
       "      <th>7</th>\n",
       "      <td>80</td>\n",
       "      <td>0.908</td>\n",
       "      <td>0.836</td>\n",
       "    </tr>\n",
       "    <tr>\n",
       "      <th>8</th>\n",
       "      <td>90</td>\n",
       "      <td>0.901</td>\n",
       "      <td>0.836</td>\n",
       "    </tr>\n",
       "    <tr>\n",
       "      <th>9</th>\n",
       "      <td>100</td>\n",
       "      <td>0.884</td>\n",
       "      <td>0.794</td>\n",
       "    </tr>\n",
       "  </tbody>\n",
       "</table>\n",
       "</div>"
      ],
      "text/plain": [
       "   MinSamplesSplit  TrainAccuacy  ValAccuacy\n",
       "0               10         0.979       0.874\n",
       "1               20         0.975       0.902\n",
       "2               30         0.961       0.888\n",
       "3               40         0.958       0.883\n",
       "4               50         0.944       0.869\n",
       "5               60         0.947       0.893\n",
       "6               70         0.919       0.860\n",
       "7               80         0.908       0.836\n",
       "8               90         0.901       0.836\n",
       "9              100         0.884       0.794"
      ]
     },
     "execution_count": 77,
     "metadata": {},
     "output_type": "execute_result"
    }
   ],
   "source": [
    "#min_samples_split\n",
    "train_accuracy = []; val_accuracy = []\n",
    "para_split = [n_split * 10 for n_split in range(1,11)]\n",
    " \n",
    "for v_min_samples_split in para_split:\n",
    "    rf = RandomForestClassifier(min_samples_split = v_min_samples_split,\n",
    "                                  max_depth = 20, n_estimators= 40, random_state=1234)\n",
    "    rf.fit(df_train_x, df_train_y)\n",
    "    train_accuracy.append(rf.score(df_train_x, df_train_y))\n",
    "    val_accuracy.append(rf.score(df_val_x, df_val_y))\n",
    "\n",
    "    \n",
    "df_accuracy_split = pd.DataFrame()\n",
    "df_accuracy_split[\"MinSamplesSplit\"] = para_split\n",
    "df_accuracy_split[\"TrainAccuacy\"] = train_accuracy\n",
    "df_accuracy_split[\"ValAccuacy\"] = val_accuracy\n",
    "\n",
    "df_accuracy_split.round(3)"
   ]
  },
  {
   "cell_type": "code",
   "execution_count": 78,
   "metadata": {
    "colab": {
     "base_uri": "https://localhost:8080/",
     "height": 296
    },
    "executionInfo": {
     "elapsed": 52658,
     "status": "ok",
     "timestamp": 1605980299015,
     "user": {
      "displayName": "성유기",
      "photoUrl": "",
      "userId": "01978674342265104944"
     },
     "user_tz": -540
    },
    "id": "yuTvhtbhydJZ",
    "outputId": "0cfea73d-9ac6-4f0e-f210-1f9d4cda4742"
   },
   "outputs": [
    {
     "data": {
      "text/plain": [
       "<matplotlib.legend.Legend at 0x1c16eb725c8>"
      ]
     },
     "execution_count": 78,
     "metadata": {},
     "output_type": "execute_result"
    },
    {
     "data": {
      "image/png": "[encoded data removed]",
      "text/plain": [
       "<Figure size 432x288 with 1 Axes>"
      ]
     },
     "metadata": {
      "needs_background": "light"
     },
     "output_type": "display_data"
    }
   ],
   "source": [
    "plt.plot(para_split, train_accuracy, linestyle=\"-\", label=\"Train Accuracy\")\n",
    "plt.plot(para_split, val_accuracy, linestyle=\"--\", label=\"Val Accuracy\")\n",
    "plt.xlabel('min samples split'); plt.ylabel('accuracy')\n",
    "plt.legend()"
   ]
  },
  {
   "cell_type": "code",
   "execution_count": 79,
   "metadata": {
    "colab": {
     "base_uri": "https://localhost:8080/",
     "height": 359
    },
    "executionInfo": {
     "elapsed": 53492,
     "status": "ok",
     "timestamp": 1605980299863,
     "user": {
      "displayName": "성유기",
      "photoUrl": "",
      "userId": "01978674342265104944"
     },
     "user_tz": -540
    },
    "id": "AfF6WuUsydMJ",
    "outputId": "66770337-7b87-425f-b743-dacf66b618a1"
   },
   "outputs": [
    {
     "data": {
      "text/html": [
       "<div>\n",
       "<style scoped>\n",
       "    .dataframe tbody tr th:only-of-type {\n",
       "        vertical-align: middle;\n",
       "    }\n",
       "\n",
       "    .dataframe tbody tr th {\n",
       "        vertical-align: top;\n",
       "    }\n",
       "\n",
       "    .dataframe thead th {\n",
       "        text-align: right;\n",
       "    }\n",
       "</style>\n",
       "<table border=\"1\" class=\"dataframe\">\n",
       "  <thead>\n",
       "    <tr style=\"text-align: right;\">\n",
       "      <th></th>\n",
       "      <th>MinSamplesLeaf</th>\n",
       "      <th>TrainAccuracy</th>\n",
       "      <th>ValAccuracy</th>\n",
       "    </tr>\n",
       "  </thead>\n",
       "  <tbody>\n",
       "    <tr>\n",
       "      <th>0</th>\n",
       "      <td>1</td>\n",
       "      <td>1.000</td>\n",
       "      <td>0.935</td>\n",
       "    </tr>\n",
       "    <tr>\n",
       "      <th>1</th>\n",
       "      <td>2</td>\n",
       "      <td>0.687</td>\n",
       "      <td>0.664</td>\n",
       "    </tr>\n",
       "    <tr>\n",
       "      <th>2</th>\n",
       "      <td>3</td>\n",
       "      <td>0.687</td>\n",
       "      <td>0.664</td>\n",
       "    </tr>\n",
       "    <tr>\n",
       "      <th>3</th>\n",
       "      <td>4</td>\n",
       "      <td>0.687</td>\n",
       "      <td>0.664</td>\n",
       "    </tr>\n",
       "    <tr>\n",
       "      <th>4</th>\n",
       "      <td>5</td>\n",
       "      <td>0.687</td>\n",
       "      <td>0.664</td>\n",
       "    </tr>\n",
       "    <tr>\n",
       "      <th>5</th>\n",
       "      <td>6</td>\n",
       "      <td>0.687</td>\n",
       "      <td>0.664</td>\n",
       "    </tr>\n",
       "    <tr>\n",
       "      <th>6</th>\n",
       "      <td>7</td>\n",
       "      <td>0.687</td>\n",
       "      <td>0.664</td>\n",
       "    </tr>\n",
       "    <tr>\n",
       "      <th>7</th>\n",
       "      <td>8</td>\n",
       "      <td>0.687</td>\n",
       "      <td>0.664</td>\n",
       "    </tr>\n",
       "    <tr>\n",
       "      <th>8</th>\n",
       "      <td>9</td>\n",
       "      <td>0.687</td>\n",
       "      <td>0.664</td>\n",
       "    </tr>\n",
       "    <tr>\n",
       "      <th>9</th>\n",
       "      <td>10</td>\n",
       "      <td>0.687</td>\n",
       "      <td>0.664</td>\n",
       "    </tr>\n",
       "  </tbody>\n",
       "</table>\n",
       "</div>"
      ],
      "text/plain": [
       "   MinSamplesLeaf  TrainAccuracy  ValAccuracy\n",
       "0               1          1.000        0.935\n",
       "1               2          0.687        0.664\n",
       "2               3          0.687        0.664\n",
       "3               4          0.687        0.664\n",
       "4               5          0.687        0.664\n",
       "5               6          0.687        0.664\n",
       "6               7          0.687        0.664\n",
       "7               8          0.687        0.664\n",
       "8               9          0.687        0.664\n",
       "9              10          0.687        0.664"
      ]
     },
     "execution_count": 79,
     "metadata": {},
     "output_type": "execute_result"
    }
   ],
   "source": [
    "#min_samples_leaf\n",
    "train_accuracy = []; val_accuracy = []\n",
    "para_leaf = [n_leaf for n_leaf in range(1,11)]\n",
    " \n",
    "for v_min_samples_leaf in para_leaf:\n",
    "    rf = RandomForestClassifier(min_samples_leaf = v_min_samples_leaf,\n",
    "                    max_depth = 20, n_estimators = 35, random_state=1234)\n",
    "    rf.fit(df_train_x, df_train_y)\n",
    "    train_accuracy.append(rf.score(df_train_x, df_train_y))\n",
    "    val_accuracy.append(rf.score(df_val_x, df_val_y))\n",
    "\n",
    "    \n",
    "df_accuracy_leaf = pd.DataFrame()\n",
    "df_accuracy_leaf[\"MinSamplesLeaf\"] = para_leaf\n",
    "df_accuracy_leaf[\"TrainAccuracy\"] = train_accuracy\n",
    "df_accuracy_leaf[\"ValAccuracy\"] = val_accuracy\n",
    "\n",
    "df_accuracy_leaf.round(3)"
   ]
  },
  {
   "cell_type": "code",
   "execution_count": 80,
   "metadata": {
    "colab": {
     "base_uri": "https://localhost:8080/",
     "height": 282
    },
    "executionInfo": {
     "elapsed": 53956,
     "status": "ok",
     "timestamp": 1605980300339,
     "user": {
      "displayName": "성유기",
      "photoUrl": "",
      "userId": "01978674342265104944"
     },
     "user_tz": -540
    },
    "id": "1UmRlukuydOz",
    "outputId": "430b60e7-7790-4433-c50f-3ce49751a193"
   },
   "outputs": [
    {
     "data": {
      "text/plain": [
       "<matplotlib.legend.Legend at 0x1c16ebc4f48>"
      ]
     },
     "execution_count": 80,
     "metadata": {},
     "output_type": "execute_result"
    },
    {
     "data": {
      "image/png": "[encoded data removed]",
      "text/plain": [
       "<Figure size 432x288 with 1 Axes>"
      ]
     },
     "metadata": {
      "needs_background": "light"
     },
     "output_type": "display_data"
    }
   ],
   "source": [
    "plt.plot(para_leaf, train_accuracy, linestyle=\"-\", label=\"Train Accuracy\")\n",
    "plt.plot(para_leaf, val_accuracy, linestyle=\"--\", label=\"Val Accuracy\")\n",
    "plt.legend()"
   ]
  },
  {
   "cell_type": "code",
   "execution_count": 88,
   "metadata": {
    "colab": {
     "base_uri": "https://localhost:8080/"
    },
    "executionInfo": {
     "elapsed": 53946,
     "status": "ok",
     "timestamp": 1605980300342,
     "user": {
      "displayName": "성유기",
      "photoUrl": "",
      "userId": "01978674342265104944"
     },
     "user_tz": -540
    },
    "id": "8MNRZgody2Ha",
    "outputId": "eeae9fa8-40ad-4e51-bc80-bd510c9a6cf9",
    "scrolled": true
   },
   "outputs": [
    {
     "name": "stdout",
     "output_type": "stream",
     "text": [
      "Accuracy on training set:0.911\n",
      "Accuracy:on test set:0.911\n",
      "\n",
      "Confusion matrix:\n",
      "[[142   2]\n",
      " [ 17  53]]\n"
     ]
    }
   ],
   "source": [
    "#결론 도출\n",
    "#최종 모델 선택\n",
    "rf_final = RandomForestClassifier(min_samples_leaf = 1, max_depth = 20, n_estimators = 35, random_state = 1234)\n",
    "rf_final.fit(df_train_x, df_train_y)\n",
    "#평가\n",
    "y_pred = rf_final.predict(df_test_x)\n",
    "\n",
    "#train 데이터 셋 정확도\n",
    "print(\"Accuracy on training set:{:.3f}\".format(rf_final.score(df_test_x, df_test_y)))\n",
    "#train 데이터 셋 정확도\n",
    "print(\"Accuracy:on test set:{:.3f}\\n\".format(rf_final.score(df_test_x, df_test_y)))\n",
    "#confusion matrix\n",
    "print(\"Confusion matrix:\\n{}\".format(confusion_matrix(df_test_y, y_pred)))"
   ]
  },
  {
   "cell_type": "code",
   "execution_count": 89,
   "metadata": {
    "colab": {
     "base_uri": "https://localhost:8080/",
     "height": 359
    },
    "executionInfo": {
     "elapsed": 53935,
     "status": "ok",
     "timestamp": 1605980300344,
     "user": {
      "displayName": "성유기",
      "photoUrl": "",
      "userId": "01978674342265104944"
     },
     "user_tz": -540
    },
    "id": "oNQf-51-y3-6",
    "outputId": "a88f17cc-6878-4098-e8c4-bb70eb04b7e1"
   },
   "outputs": [
    {
     "data": {
      "text/html": [
       "<div>\n",
       "<style scoped>\n",
       "    .dataframe tbody tr th:only-of-type {\n",
       "        vertical-align: middle;\n",
       "    }\n",
       "\n",
       "    .dataframe tbody tr th {\n",
       "        vertical-align: top;\n",
       "    }\n",
       "\n",
       "    .dataframe thead th {\n",
       "        text-align: right;\n",
       "    }\n",
       "</style>\n",
       "<table border=\"1\" class=\"dataframe\">\n",
       "  <thead>\n",
       "    <tr style=\"text-align: right;\">\n",
       "      <th></th>\n",
       "      <th>Feature</th>\n",
       "      <th>Importance</th>\n",
       "    </tr>\n",
       "  </thead>\n",
       "  <tbody>\n",
       "    <tr>\n",
       "      <th>11</th>\n",
       "      <td>ROLLING_TEMP_T5</td>\n",
       "      <td>0.125</td>\n",
       "    </tr>\n",
       "    <tr>\n",
       "      <th>0</th>\n",
       "      <td>PT_THK</td>\n",
       "      <td>0.061</td>\n",
       "    </tr>\n",
       "    <tr>\n",
       "      <th>10</th>\n",
       "      <td>FUR_EXTEMP</td>\n",
       "      <td>0.058</td>\n",
       "    </tr>\n",
       "    <tr>\n",
       "      <th>5</th>\n",
       "      <td>FUR_HZ_TEMP</td>\n",
       "      <td>0.049</td>\n",
       "    </tr>\n",
       "    <tr>\n",
       "      <th>7</th>\n",
       "      <td>FUR_SZ_TEMP</td>\n",
       "      <td>0.039</td>\n",
       "    </tr>\n",
       "    <tr>\n",
       "      <th>9</th>\n",
       "      <td>FUR_TIME</td>\n",
       "      <td>0.039</td>\n",
       "    </tr>\n",
       "    <tr>\n",
       "      <th>2</th>\n",
       "      <td>PT_LTH</td>\n",
       "      <td>0.037</td>\n",
       "    </tr>\n",
       "    <tr>\n",
       "      <th>1</th>\n",
       "      <td>PT_WDTH</td>\n",
       "      <td>0.033</td>\n",
       "    </tr>\n",
       "    <tr>\n",
       "      <th>1500</th>\n",
       "      <td>HSB_미적용</td>\n",
       "      <td>0.032</td>\n",
       "    </tr>\n",
       "    <tr>\n",
       "      <th>1451</th>\n",
       "      <td>SPEC_JS-SM490A</td>\n",
       "      <td>0.031</td>\n",
       "    </tr>\n",
       "  </tbody>\n",
       "</table>\n",
       "</div>"
      ],
      "text/plain": [
       "              Feature  Importance\n",
       "11    ROLLING_TEMP_T5       0.125\n",
       "0              PT_THK       0.061\n",
       "10         FUR_EXTEMP       0.058\n",
       "5         FUR_HZ_TEMP       0.049\n",
       "7         FUR_SZ_TEMP       0.039\n",
       "9            FUR_TIME       0.039\n",
       "2              PT_LTH       0.037\n",
       "1             PT_WDTH       0.033\n",
       "1500          HSB_미적용       0.032\n",
       "1451   SPEC_JS-SM490A       0.031"
      ]
     },
     "execution_count": 89,
     "metadata": {},
     "output_type": "execute_result"
    }
   ],
   "source": [
    "#변수명\n",
    "v_feature_name = df_train_x.columns\n",
    "#tree.feature_importances_로 설명변수 중요도 확인 및 테이블로 저장\n",
    "df_importance = pd.DataFrame()\n",
    "df_importance[\"Feature\"]=v_feature_name\n",
    "df_importance[\"Importance\"]=rf_final.feature_importances_\n",
    "#df_feature_importance의 테이블을 중요도 순으로 정렬\n",
    "df_importance.sort_values('Importance', ascending = False, inplace = True)\n",
    "df_importance10 = df_importance[:10]\n",
    "df_importance10.round(3)"
   ]
  },
  {
   "cell_type": "code",
   "execution_count": 90,
   "metadata": {
    "colab": {
     "base_uri": "https://localhost:8080/",
     "height": 928
    },
    "executionInfo": {
     "elapsed": 54452,
     "status": "ok",
     "timestamp": 1605980300874,
     "user": {
      "displayName": "성유기",
      "photoUrl": "",
      "userId": "01978674342265104944"
     },
     "user_tz": -540
    },
    "id": "BL-bNRwoy3yK",
    "outputId": "02dcc1e5-13c7-4d2f-c75c-9d09de119e1b",
    "scrolled": false
   },
   "outputs": [
    {
     "name": "stderr",
     "output_type": "stream",
     "text": [
      "C:\\Users\\USER\\anaconda3\\lib\\site-packages\\ipykernel_launcher.py:3: SettingWithCopyWarning: \n",
      "A value is trying to be set on a copy of a slice from a DataFrame\n",
      "\n",
      "See the caveats in the documentation: https://pandas.pydata.org/pandas-docs/stable/user_guide/indexing.html#returning-a-view-versus-a-copy\n",
      "  This is separate from the ipykernel package so we can avoid doing imports until\n"
     ]
    },
    {
     "data": {
      "text/plain": [
       "Text(0, 0.5, '변수')"
      ]
     },
     "execution_count": 90,
     "metadata": {},
     "output_type": "execute_result"
    },
    {
     "name": "stderr",
     "output_type": "stream",
     "text": [
      "C:\\Users\\USER\\anaconda3\\lib\\site-packages\\matplotlib\\backends\\backend_agg.py:211: RuntimeWarning: Glyph 48320 missing from current font.\n",
      "  font.set_text(s, 0.0, flags=flags)\n",
      "C:\\Users\\USER\\anaconda3\\lib\\site-packages\\matplotlib\\backends\\backend_agg.py:211: RuntimeWarning: Glyph 49688 missing from current font.\n",
      "  font.set_text(s, 0.0, flags=flags)\n",
      "C:\\Users\\USER\\anaconda3\\lib\\site-packages\\matplotlib\\backends\\backend_agg.py:211: RuntimeWarning: Glyph 51473 missing from current font.\n",
      "  font.set_text(s, 0.0, flags=flags)\n",
      "C:\\Users\\USER\\anaconda3\\lib\\site-packages\\matplotlib\\backends\\backend_agg.py:211: RuntimeWarning: Glyph 50836 missing from current font.\n",
      "  font.set_text(s, 0.0, flags=flags)\n",
      "C:\\Users\\USER\\anaconda3\\lib\\site-packages\\matplotlib\\backends\\backend_agg.py:211: RuntimeWarning: Glyph 46020 missing from current font.\n",
      "  font.set_text(s, 0.0, flags=flags)\n",
      "C:\\Users\\USER\\anaconda3\\lib\\site-packages\\matplotlib\\backends\\backend_agg.py:180: RuntimeWarning: Glyph 48320 missing from current font.\n",
      "  font.set_text(s, 0, flags=flags)\n",
      "C:\\Users\\USER\\anaconda3\\lib\\site-packages\\matplotlib\\backends\\backend_agg.py:180: RuntimeWarning: Glyph 49688 missing from current font.\n",
      "  font.set_text(s, 0, flags=flags)\n",
      "C:\\Users\\USER\\anaconda3\\lib\\site-packages\\matplotlib\\backends\\backend_agg.py:180: RuntimeWarning: Glyph 51473 missing from current font.\n",
      "  font.set_text(s, 0, flags=flags)\n",
      "C:\\Users\\USER\\anaconda3\\lib\\site-packages\\matplotlib\\backends\\backend_agg.py:180: RuntimeWarning: Glyph 50836 missing from current font.\n",
      "  font.set_text(s, 0, flags=flags)\n",
      "C:\\Users\\USER\\anaconda3\\lib\\site-packages\\matplotlib\\backends\\backend_agg.py:180: RuntimeWarning: Glyph 46020 missing from current font.\n",
      "  font.set_text(s, 0, flags=flags)\n",
      "C:\\Users\\USER\\anaconda3\\lib\\site-packages\\matplotlib\\backends\\backend_agg.py:211: RuntimeWarning: Glyph 48120 missing from current font.\n",
      "  font.set_text(s, 0.0, flags=flags)\n",
      "C:\\Users\\USER\\anaconda3\\lib\\site-packages\\matplotlib\\backends\\backend_agg.py:211: RuntimeWarning: Glyph 51201 missing from current font.\n",
      "  font.set_text(s, 0.0, flags=flags)\n",
      "C:\\Users\\USER\\anaconda3\\lib\\site-packages\\matplotlib\\backends\\backend_agg.py:211: RuntimeWarning: Glyph 50857 missing from current font.\n",
      "  font.set_text(s, 0.0, flags=flags)\n",
      "C:\\Users\\USER\\anaconda3\\lib\\site-packages\\matplotlib\\backends\\backend_agg.py:180: RuntimeWarning: Glyph 48120 missing from current font.\n",
      "  font.set_text(s, 0, flags=flags)\n",
      "C:\\Users\\USER\\anaconda3\\lib\\site-packages\\matplotlib\\backends\\backend_agg.py:180: RuntimeWarning: Glyph 51201 missing from current font.\n",
      "  font.set_text(s, 0, flags=flags)\n",
      "C:\\Users\\USER\\anaconda3\\lib\\site-packages\\matplotlib\\backends\\backend_agg.py:180: RuntimeWarning: Glyph 50857 missing from current font.\n",
      "  font.set_text(s, 0, flags=flags)\n"
     ]
    },
    {
     "data": {
      "image/png": "[encoded data removed]",
      "text/plain": [
       "<Figure size 432x288 with 1 Axes>"
      ]
     },
     "metadata": {
      "needs_background": "light"
     },
     "output_type": "display_data"
    }
   ],
   "source": [
    "#설명변수 중요도 그래프\n",
    "#중요도가 높은 변수를 상위에 그림\n",
    "df_importance10.sort_values(\"Importance\", ascending=True, inplace=True)\n",
    "coordinates = range(len(df_importance10))\n",
    "plt.barh(y = coordinates, width = df_importance10[\"Importance\"])\n",
    "plt.yticks(coordinates, df_importance10[\"Feature\"])\n",
    "plt.xlabel(\"변수 중요도\")\n",
    "plt.ylabel(\"변수\")"
   ]
  },
  {
   "cell_type": "code",
   "execution_count": null,
   "metadata": {
    "id": "-UoWGHZHy3k6"
   },
   "outputs": [],
   "source": []
  },
  {
   "cell_type": "markdown",
   "metadata": {
    "id": "T4E4WByF17O2"
   },
   "source": [
    "# 그래디언트 부스팅"
   ]
  },
  {
   "cell_type": "code",
   "execution_count": 91,
   "metadata": {
    "colab": {
     "base_uri": "https://localhost:8080/"
    },
    "executionInfo": {
     "elapsed": 54441,
     "status": "ok",
     "timestamp": 1605980300878,
     "user": {
      "displayName": "성유기",
      "photoUrl": "",
      "userId": "01978674342265104944"
     },
     "user_tz": -540
    },
    "id": "vLzUKk-4y3X6",
    "outputId": "09dacba3-d605-4275-8619-a60330871684"
   },
   "outputs": [
    {
     "data": {
      "text/plain": [
       "0      양품\n",
       "1      양품\n",
       "2      양품\n",
       "3      양품\n",
       "4      양품\n",
       "       ..\n",
       "707    불량\n",
       "708    양품\n",
       "709    양품\n",
       "710    양품\n",
       "711    양품\n",
       "Name: SCALE, Length: 712, dtype: object"
      ]
     },
     "execution_count": 91,
     "metadata": {},
     "output_type": "execute_result"
    }
   ],
   "source": [
    "df_raw_x=df_raw.drop(\"SCALE\",axis=1,inplace=False)\n",
    "df_raw_y=df_raw[\"SCALE\"]\n",
    "\n",
    "df_raw_y"
   ]
  },
  {
   "cell_type": "code",
   "execution_count": 92,
   "metadata": {
    "colab": {
     "base_uri": "https://localhost:8080/",
     "height": 287
    },
    "executionInfo": {
     "elapsed": 54429,
     "status": "ok",
     "timestamp": 1605980300879,
     "user": {
      "displayName": "성유기",
      "photoUrl": "",
      "userId": "01978674342265104944"
     },
     "user_tz": -540
    },
    "id": "H6F1j0cDy3KK",
    "outputId": "e9369ebb-9e68-4cc6-e2d0-591ebe70d0d7"
   },
   "outputs": [
    {
     "data": {
      "text/html": [
       "<div>\n",
       "<style scoped>\n",
       "    .dataframe tbody tr th:only-of-type {\n",
       "        vertical-align: middle;\n",
       "    }\n",
       "\n",
       "    .dataframe tbody tr th {\n",
       "        vertical-align: top;\n",
       "    }\n",
       "\n",
       "    .dataframe thead th {\n",
       "        text-align: right;\n",
       "    }\n",
       "</style>\n",
       "<table border=\"1\" class=\"dataframe\">\n",
       "  <thead>\n",
       "    <tr style=\"text-align: right;\">\n",
       "      <th></th>\n",
       "      <th>PT_THK</th>\n",
       "      <th>PT_WDTH</th>\n",
       "      <th>PT_LTH</th>\n",
       "      <th>PT_WGT</th>\n",
       "      <th>FUR_NO_ROW</th>\n",
       "      <th>FUR_HZ_TEMP</th>\n",
       "      <th>FUR_HZ_TIME</th>\n",
       "      <th>FUR_SZ_TEMP</th>\n",
       "      <th>FUR_SZ_TIME</th>\n",
       "      <th>FUR_TIME</th>\n",
       "      <th>...</th>\n",
       "      <th>STEEL_KIND_T8</th>\n",
       "      <th>FUR_NO_1호기</th>\n",
       "      <th>FUR_NO_2호기</th>\n",
       "      <th>FUR_NO_3호기</th>\n",
       "      <th>HSB_미적용</th>\n",
       "      <th>HSB_적용</th>\n",
       "      <th>WORK_GR_1조</th>\n",
       "      <th>WORK_GR_2조</th>\n",
       "      <th>WORK_GR_3조</th>\n",
       "      <th>WORK_GR_4조</th>\n",
       "    </tr>\n",
       "  </thead>\n",
       "  <tbody>\n",
       "    <tr>\n",
       "      <th>0</th>\n",
       "      <td>32.25</td>\n",
       "      <td>3707</td>\n",
       "      <td>15109</td>\n",
       "      <td>14180</td>\n",
       "      <td>1</td>\n",
       "      <td>1144</td>\n",
       "      <td>116</td>\n",
       "      <td>1133</td>\n",
       "      <td>59</td>\n",
       "      <td>282</td>\n",
       "      <td>...</td>\n",
       "      <td>0</td>\n",
       "      <td>1</td>\n",
       "      <td>0</td>\n",
       "      <td>0</td>\n",
       "      <td>0</td>\n",
       "      <td>1</td>\n",
       "      <td>0</td>\n",
       "      <td>1</td>\n",
       "      <td>0</td>\n",
       "      <td>0</td>\n",
       "    </tr>\n",
       "    <tr>\n",
       "      <th>1</th>\n",
       "      <td>32.25</td>\n",
       "      <td>3707</td>\n",
       "      <td>15109</td>\n",
       "      <td>14180</td>\n",
       "      <td>2</td>\n",
       "      <td>1144</td>\n",
       "      <td>122</td>\n",
       "      <td>1135</td>\n",
       "      <td>53</td>\n",
       "      <td>283</td>\n",
       "      <td>...</td>\n",
       "      <td>0</td>\n",
       "      <td>1</td>\n",
       "      <td>0</td>\n",
       "      <td>0</td>\n",
       "      <td>0</td>\n",
       "      <td>1</td>\n",
       "      <td>0</td>\n",
       "      <td>1</td>\n",
       "      <td>0</td>\n",
       "      <td>0</td>\n",
       "    </tr>\n",
       "    <tr>\n",
       "      <th>2</th>\n",
       "      <td>33.27</td>\n",
       "      <td>3619</td>\n",
       "      <td>19181</td>\n",
       "      <td>18130</td>\n",
       "      <td>1</td>\n",
       "      <td>1129</td>\n",
       "      <td>116</td>\n",
       "      <td>1121</td>\n",
       "      <td>55</td>\n",
       "      <td>282</td>\n",
       "      <td>...</td>\n",
       "      <td>1</td>\n",
       "      <td>0</td>\n",
       "      <td>1</td>\n",
       "      <td>0</td>\n",
       "      <td>0</td>\n",
       "      <td>1</td>\n",
       "      <td>0</td>\n",
       "      <td>0</td>\n",
       "      <td>1</td>\n",
       "      <td>0</td>\n",
       "    </tr>\n",
       "    <tr>\n",
       "      <th>3</th>\n",
       "      <td>33.27</td>\n",
       "      <td>3619</td>\n",
       "      <td>19181</td>\n",
       "      <td>18130</td>\n",
       "      <td>2</td>\n",
       "      <td>1152</td>\n",
       "      <td>125</td>\n",
       "      <td>1127</td>\n",
       "      <td>68</td>\n",
       "      <td>316</td>\n",
       "      <td>...</td>\n",
       "      <td>1</td>\n",
       "      <td>0</td>\n",
       "      <td>1</td>\n",
       "      <td>0</td>\n",
       "      <td>0</td>\n",
       "      <td>1</td>\n",
       "      <td>0</td>\n",
       "      <td>0</td>\n",
       "      <td>1</td>\n",
       "      <td>0</td>\n",
       "    </tr>\n",
       "    <tr>\n",
       "      <th>4</th>\n",
       "      <td>38.33</td>\n",
       "      <td>3098</td>\n",
       "      <td>13334</td>\n",
       "      <td>12430</td>\n",
       "      <td>1</td>\n",
       "      <td>1140</td>\n",
       "      <td>134</td>\n",
       "      <td>1128</td>\n",
       "      <td>48</td>\n",
       "      <td>314</td>\n",
       "      <td>...</td>\n",
       "      <td>1</td>\n",
       "      <td>0</td>\n",
       "      <td>0</td>\n",
       "      <td>1</td>\n",
       "      <td>0</td>\n",
       "      <td>1</td>\n",
       "      <td>1</td>\n",
       "      <td>0</td>\n",
       "      <td>0</td>\n",
       "      <td>0</td>\n",
       "    </tr>\n",
       "  </tbody>\n",
       "</table>\n",
       "<p>5 rows × 1506 columns</p>\n",
       "</div>"
      ],
      "text/plain": [
       "   PT_THK  PT_WDTH  PT_LTH  PT_WGT  FUR_NO_ROW  FUR_HZ_TEMP  FUR_HZ_TIME  \\\n",
       "0   32.25     3707   15109   14180           1         1144          116   \n",
       "1   32.25     3707   15109   14180           2         1144          122   \n",
       "2   33.27     3619   19181   18130           1         1129          116   \n",
       "3   33.27     3619   19181   18130           2         1152          125   \n",
       "4   38.33     3098   13334   12430           1         1140          134   \n",
       "\n",
       "   FUR_SZ_TEMP  FUR_SZ_TIME  FUR_TIME  ...  STEEL_KIND_T8  FUR_NO_1호기  \\\n",
       "0         1133           59       282  ...              0           1   \n",
       "1         1135           53       283  ...              0           1   \n",
       "2         1121           55       282  ...              1           0   \n",
       "3         1127           68       316  ...              1           0   \n",
       "4         1128           48       314  ...              1           0   \n",
       "\n",
       "   FUR_NO_2호기  FUR_NO_3호기  HSB_미적용  HSB_적용  WORK_GR_1조  WORK_GR_2조  \\\n",
       "0           0           0        0       1           0           1   \n",
       "1           0           0        0       1           0           1   \n",
       "2           1           0        0       1           0           0   \n",
       "3           1           0        0       1           0           0   \n",
       "4           0           1        0       1           1           0   \n",
       "\n",
       "   WORK_GR_3조  WORK_GR_4조  \n",
       "0           0           0  \n",
       "1           0           0  \n",
       "2           1           0  \n",
       "3           1           0  \n",
       "4           0           0  \n",
       "\n",
       "[5 rows x 1506 columns]"
      ]
     },
     "execution_count": 92,
     "metadata": {},
     "output_type": "execute_result"
    }
   ],
   "source": [
    "df_raw_dummy=pd.get_dummies(df_raw_x)\n",
    "df_raw_dummy.head() # 데이터의 문자형 변수에 대한 더미변수 생성"
   ]
  },
  {
   "cell_type": "code",
   "execution_count": 93,
   "metadata": {
    "colab": {
     "base_uri": "https://localhost:8080/",
     "height": 287
    },
    "executionInfo": {
     "elapsed": 54415,
     "status": "ok",
     "timestamp": 1605980300881,
     "user": {
      "displayName": "성유기",
      "photoUrl": "",
      "userId": "01978674342265104944"
     },
     "user_tz": -540
    },
    "id": "5cxtVS_Sy27Z",
    "outputId": "460aa1cb-fe1e-43c0-837e-d9c1f4431294"
   },
   "outputs": [
    {
     "data": {
      "text/html": [
       "<div>\n",
       "<style scoped>\n",
       "    .dataframe tbody tr th:only-of-type {\n",
       "        vertical-align: middle;\n",
       "    }\n",
       "\n",
       "    .dataframe tbody tr th {\n",
       "        vertical-align: top;\n",
       "    }\n",
       "\n",
       "    .dataframe thead th {\n",
       "        text-align: right;\n",
       "    }\n",
       "</style>\n",
       "<table border=\"1\" class=\"dataframe\">\n",
       "  <thead>\n",
       "    <tr style=\"text-align: right;\">\n",
       "      <th></th>\n",
       "      <th>PT_THK</th>\n",
       "      <th>PT_WDTH</th>\n",
       "      <th>PT_LTH</th>\n",
       "      <th>PT_WGT</th>\n",
       "      <th>FUR_NO_ROW</th>\n",
       "      <th>FUR_HZ_TEMP</th>\n",
       "      <th>FUR_HZ_TIME</th>\n",
       "      <th>FUR_SZ_TEMP</th>\n",
       "      <th>FUR_SZ_TIME</th>\n",
       "      <th>FUR_TIME</th>\n",
       "      <th>...</th>\n",
       "      <th>STEEL_KIND_T8</th>\n",
       "      <th>FUR_NO_1호기</th>\n",
       "      <th>FUR_NO_2호기</th>\n",
       "      <th>FUR_NO_3호기</th>\n",
       "      <th>HSB_미적용</th>\n",
       "      <th>HSB_적용</th>\n",
       "      <th>WORK_GR_1조</th>\n",
       "      <th>WORK_GR_2조</th>\n",
       "      <th>WORK_GR_3조</th>\n",
       "      <th>WORK_GR_4조</th>\n",
       "    </tr>\n",
       "  </thead>\n",
       "  <tbody>\n",
       "    <tr>\n",
       "      <th>0</th>\n",
       "      <td>32.25</td>\n",
       "      <td>3707</td>\n",
       "      <td>15109</td>\n",
       "      <td>14180</td>\n",
       "      <td>1</td>\n",
       "      <td>1144</td>\n",
       "      <td>116</td>\n",
       "      <td>1133</td>\n",
       "      <td>59</td>\n",
       "      <td>282</td>\n",
       "      <td>...</td>\n",
       "      <td>0</td>\n",
       "      <td>1</td>\n",
       "      <td>0</td>\n",
       "      <td>0</td>\n",
       "      <td>0</td>\n",
       "      <td>1</td>\n",
       "      <td>0</td>\n",
       "      <td>1</td>\n",
       "      <td>0</td>\n",
       "      <td>0</td>\n",
       "    </tr>\n",
       "    <tr>\n",
       "      <th>1</th>\n",
       "      <td>32.25</td>\n",
       "      <td>3707</td>\n",
       "      <td>15109</td>\n",
       "      <td>14180</td>\n",
       "      <td>2</td>\n",
       "      <td>1144</td>\n",
       "      <td>122</td>\n",
       "      <td>1135</td>\n",
       "      <td>53</td>\n",
       "      <td>283</td>\n",
       "      <td>...</td>\n",
       "      <td>0</td>\n",
       "      <td>1</td>\n",
       "      <td>0</td>\n",
       "      <td>0</td>\n",
       "      <td>0</td>\n",
       "      <td>1</td>\n",
       "      <td>0</td>\n",
       "      <td>1</td>\n",
       "      <td>0</td>\n",
       "      <td>0</td>\n",
       "    </tr>\n",
       "    <tr>\n",
       "      <th>2</th>\n",
       "      <td>33.27</td>\n",
       "      <td>3619</td>\n",
       "      <td>19181</td>\n",
       "      <td>18130</td>\n",
       "      <td>1</td>\n",
       "      <td>1129</td>\n",
       "      <td>116</td>\n",
       "      <td>1121</td>\n",
       "      <td>55</td>\n",
       "      <td>282</td>\n",
       "      <td>...</td>\n",
       "      <td>1</td>\n",
       "      <td>0</td>\n",
       "      <td>1</td>\n",
       "      <td>0</td>\n",
       "      <td>0</td>\n",
       "      <td>1</td>\n",
       "      <td>0</td>\n",
       "      <td>0</td>\n",
       "      <td>1</td>\n",
       "      <td>0</td>\n",
       "    </tr>\n",
       "    <tr>\n",
       "      <th>3</th>\n",
       "      <td>33.27</td>\n",
       "      <td>3619</td>\n",
       "      <td>19181</td>\n",
       "      <td>18130</td>\n",
       "      <td>2</td>\n",
       "      <td>1152</td>\n",
       "      <td>125</td>\n",
       "      <td>1127</td>\n",
       "      <td>68</td>\n",
       "      <td>316</td>\n",
       "      <td>...</td>\n",
       "      <td>1</td>\n",
       "      <td>0</td>\n",
       "      <td>1</td>\n",
       "      <td>0</td>\n",
       "      <td>0</td>\n",
       "      <td>1</td>\n",
       "      <td>0</td>\n",
       "      <td>0</td>\n",
       "      <td>1</td>\n",
       "      <td>0</td>\n",
       "    </tr>\n",
       "    <tr>\n",
       "      <th>4</th>\n",
       "      <td>38.33</td>\n",
       "      <td>3098</td>\n",
       "      <td>13334</td>\n",
       "      <td>12430</td>\n",
       "      <td>1</td>\n",
       "      <td>1140</td>\n",
       "      <td>134</td>\n",
       "      <td>1128</td>\n",
       "      <td>48</td>\n",
       "      <td>314</td>\n",
       "      <td>...</td>\n",
       "      <td>1</td>\n",
       "      <td>0</td>\n",
       "      <td>0</td>\n",
       "      <td>1</td>\n",
       "      <td>0</td>\n",
       "      <td>1</td>\n",
       "      <td>1</td>\n",
       "      <td>0</td>\n",
       "      <td>0</td>\n",
       "      <td>0</td>\n",
       "    </tr>\n",
       "  </tbody>\n",
       "</table>\n",
       "<p>5 rows × 1506 columns</p>\n",
       "</div>"
      ],
      "text/plain": [
       "   PT_THK  PT_WDTH  PT_LTH  PT_WGT  FUR_NO_ROW  FUR_HZ_TEMP  FUR_HZ_TIME  \\\n",
       "0   32.25     3707   15109   14180           1         1144          116   \n",
       "1   32.25     3707   15109   14180           2         1144          122   \n",
       "2   33.27     3619   19181   18130           1         1129          116   \n",
       "3   33.27     3619   19181   18130           2         1152          125   \n",
       "4   38.33     3098   13334   12430           1         1140          134   \n",
       "\n",
       "   FUR_SZ_TEMP  FUR_SZ_TIME  FUR_TIME  ...  STEEL_KIND_T8  FUR_NO_1호기  \\\n",
       "0         1133           59       282  ...              0           1   \n",
       "1         1135           53       283  ...              0           1   \n",
       "2         1121           55       282  ...              1           0   \n",
       "3         1127           68       316  ...              1           0   \n",
       "4         1128           48       314  ...              1           0   \n",
       "\n",
       "   FUR_NO_2호기  FUR_NO_3호기  HSB_미적용  HSB_적용  WORK_GR_1조  WORK_GR_2조  \\\n",
       "0           0           0        0       1           0           1   \n",
       "1           0           0        0       1           0           1   \n",
       "2           1           0        0       1           0           0   \n",
       "3           1           0        0       1           0           0   \n",
       "4           0           1        0       1           1           0   \n",
       "\n",
       "   WORK_GR_3조  WORK_GR_4조  \n",
       "0           0           0  \n",
       "1           0           0  \n",
       "2           1           0  \n",
       "3           1           0  \n",
       "4           0           0  \n",
       "\n",
       "[5 rows x 1506 columns]"
      ]
     },
     "execution_count": 93,
     "metadata": {},
     "output_type": "execute_result"
    }
   ],
   "source": [
    "df_raw_x=df_raw_dummy\n",
    "\n",
    "df_raw_x.head()"
   ]
  },
  {
   "cell_type": "code",
   "execution_count": 94,
   "metadata": {
    "colab": {
     "base_uri": "https://localhost:8080/"
    },
    "executionInfo": {
     "elapsed": 54403,
     "status": "ok",
     "timestamp": 1605980300882,
     "user": {
      "displayName": "성유기",
      "photoUrl": "",
      "userId": "01978674342265104944"
     },
     "user_tz": -540
    },
    "id": "sqzz2E52y2TL",
    "outputId": "334530e7-3fbf-4b19-bab2-a108f4f2534f"
   },
   "outputs": [
    {
     "name": "stdout",
     "output_type": "stream",
     "text": [
      "양품    481\n",
      "불량    231\n",
      "Name: SCALE, dtype: int64\n",
      "0    481\n",
      "1    231\n",
      "Name: SCALE, dtype: int64\n"
     ]
    }
   ],
   "source": [
    "#scale을 0과 1의 값을 가진 int형으로 변환\n",
    "print(df_raw_y.value_counts())\n",
    "df_raw_y = (df_raw_y == \"불량\").astype(int)\n",
    "print(df_raw_y.value_counts())"
   ]
  },
  {
   "cell_type": "code",
   "execution_count": 95,
   "metadata": {
    "colab": {
     "base_uri": "https://localhost:8080/"
    },
    "executionInfo": {
     "elapsed": 54391,
     "status": "ok",
     "timestamp": 1605980300883,
     "user": {
      "displayName": "성유기",
      "photoUrl": "",
      "userId": "01978674342265104944"
     },
     "user_tz": -540
    },
    "id": "MgFxdKlbyc9_",
    "outputId": "0f8a2353-a3c1-450d-e0de-207aec313d77"
   },
   "outputs": [
    {
     "name": "stdout",
     "output_type": "stream",
     "text": [
      "train data X size : (284, 1506)\n",
      "train data Y size : (284,)\n",
      "validation data X size : (214, 1506)\n",
      "validation data Y size : (214,)\n",
      "test data X size : (214, 1506)\n",
      "test data Y size : (214,)\n"
     ]
    }
   ],
   "source": [
    "#train_test_split(X: 설명변수 데이터, Y: 목표변수 데이터, test_size = test 데이터 비율)\n",
    "df_train_x, df_test_x, df_train_y, df_test_y=train_test_split(df_raw_x,df_raw_y \\\n",
    "                                                             ,test_size=0.3,random_state=1234)\n",
    "df_train_x, df_val_x, df_train_y, df_val_y=train_test_split(df_train_x,df_train_y \\\n",
    "                                                             ,test_size=3/7,random_state=1234)\n",
    "\n",
    "print(\"train data X size : {}\".format(df_train_x.shape))\n",
    "print(\"train data Y size : {}\".format(df_train_y.shape))\n",
    "\n",
    "print(\"validation data X size : {}\".format(df_val_x.shape))\n",
    "print(\"validation data Y size : {}\".format(df_val_y.shape))\n",
    "\n",
    "print(\"test data X size : {}\".format(df_test_x.shape))\n",
    "print(\"test data Y size : {}\".format(df_test_y.shape))"
   ]
  },
  {
   "cell_type": "code",
   "execution_count": 96,
   "metadata": {
    "colab": {
     "base_uri": "https://localhost:8080/"
    },
    "executionInfo": {
     "elapsed": 54765,
     "status": "ok",
     "timestamp": 1605980301269,
     "user": {
      "displayName": "성유기",
      "photoUrl": "",
      "userId": "01978674342265104944"
     },
     "user_tz": -540
    },
    "id": "SdVSFcR22Nq4",
    "outputId": "dba01b3d-1c91-4326-8909-e8f3fa90e9ed"
   },
   "outputs": [
    {
     "name": "stdout",
     "output_type": "stream",
     "text": [
      "Accuracy on training set : 1.000\n",
      "Accuracy on test set : 0.953\n"
     ]
    }
   ],
   "source": [
    "#모델생성\n",
    "gb_uncustomized=GBC(random_state=1234)\n",
    "gb_uncustomized.fit(df_train_x,df_train_y)\n",
    "\n",
    "print(\"Accuracy on training set : {:.3f}\".format(gb_uncustomized.score(df_train_x,df_train_y)))\n",
    "\n",
    "print(\"Accuracy on test set : {:.3f}\".format(gb_uncustomized.score(df_test_x,df_test_y)))"
   ]
  },
  {
   "cell_type": "code",
   "execution_count": 97,
   "metadata": {
    "colab": {
     "base_uri": "https://localhost:8080/",
     "height": 328
    },
    "executionInfo": {
     "elapsed": 57964,
     "status": "ok",
     "timestamp": 1605980304480,
     "user": {
      "displayName": "성유기",
      "photoUrl": "",
      "userId": "01978674342265104944"
     },
     "user_tz": -540
    },
    "id": "Bh0cHMiR2NuL",
    "outputId": "b1217bb6-8644-4734-db81-c6015d4382a6"
   },
   "outputs": [
    {
     "data": {
      "text/html": [
       "<div>\n",
       "<style scoped>\n",
       "    .dataframe tbody tr th:only-of-type {\n",
       "        vertical-align: middle;\n",
       "    }\n",
       "\n",
       "    .dataframe tbody tr th {\n",
       "        vertical-align: top;\n",
       "    }\n",
       "\n",
       "    .dataframe thead th {\n",
       "        text-align: right;\n",
       "    }\n",
       "</style>\n",
       "<table border=\"1\" class=\"dataframe\">\n",
       "  <thead>\n",
       "    <tr style=\"text-align: right;\">\n",
       "      <th></th>\n",
       "      <th>LearningRate</th>\n",
       "      <th>TrainAccuracy</th>\n",
       "      <th>valAccuracy</th>\n",
       "    </tr>\n",
       "  </thead>\n",
       "  <tbody>\n",
       "    <tr>\n",
       "      <th>0</th>\n",
       "      <td>0.1</td>\n",
       "      <td>1.0</td>\n",
       "      <td>0.967</td>\n",
       "    </tr>\n",
       "    <tr>\n",
       "      <th>1</th>\n",
       "      <td>0.2</td>\n",
       "      <td>1.0</td>\n",
       "      <td>0.967</td>\n",
       "    </tr>\n",
       "    <tr>\n",
       "      <th>2</th>\n",
       "      <td>0.3</td>\n",
       "      <td>1.0</td>\n",
       "      <td>0.967</td>\n",
       "    </tr>\n",
       "    <tr>\n",
       "      <th>3</th>\n",
       "      <td>0.4</td>\n",
       "      <td>1.0</td>\n",
       "      <td>0.967</td>\n",
       "    </tr>\n",
       "    <tr>\n",
       "      <th>4</th>\n",
       "      <td>0.5</td>\n",
       "      <td>1.0</td>\n",
       "      <td>0.967</td>\n",
       "    </tr>\n",
       "    <tr>\n",
       "      <th>5</th>\n",
       "      <td>0.6</td>\n",
       "      <td>1.0</td>\n",
       "      <td>0.967</td>\n",
       "    </tr>\n",
       "    <tr>\n",
       "      <th>6</th>\n",
       "      <td>0.7</td>\n",
       "      <td>1.0</td>\n",
       "      <td>0.967</td>\n",
       "    </tr>\n",
       "    <tr>\n",
       "      <th>7</th>\n",
       "      <td>0.8</td>\n",
       "      <td>1.0</td>\n",
       "      <td>0.967</td>\n",
       "    </tr>\n",
       "    <tr>\n",
       "      <th>8</th>\n",
       "      <td>0.9</td>\n",
       "      <td>1.0</td>\n",
       "      <td>0.967</td>\n",
       "    </tr>\n",
       "  </tbody>\n",
       "</table>\n",
       "</div>"
      ],
      "text/plain": [
       "   LearningRate  TrainAccuracy  valAccuracy\n",
       "0           0.1            1.0        0.967\n",
       "1           0.2            1.0        0.967\n",
       "2           0.3            1.0        0.967\n",
       "3           0.4            1.0        0.967\n",
       "4           0.5            1.0        0.967\n",
       "5           0.6            1.0        0.967\n",
       "6           0.7            1.0        0.967\n",
       "7           0.8            1.0        0.967\n",
       "8           0.9            1.0        0.967"
      ]
     },
     "execution_count": 97,
     "metadata": {},
     "output_type": "execute_result"
    }
   ],
   "source": [
    "train_accuracy=[]\n",
    "val_accuracy=[]\n",
    "\n",
    "\n",
    "para_lr=[lr*0.1 for lr in range(1,10)]\n",
    "\n",
    "\n",
    "for v_learning_rate in para_lr:\n",
    "    \n",
    "    gb=GBC(learning_rate=v_learning_rate, random_state=1234)\n",
    "    \n",
    "    gb.fit(df_train_x,df_train_y)\n",
    "    \n",
    "    train_accuracy.append(gb.score(df_train_x,df_train_y))\n",
    "    val_accuracy.append(gb.score(df_val_x,df_val_y))\n",
    "    \n",
    "df_accuracy_lr=pd.DataFrame()\n",
    "df_accuracy_lr[\"LearningRate\"]=para_lr\n",
    "df_accuracy_lr[\"TrainAccuracy\"]=train_accuracy\n",
    "df_accuracy_lr[\"valAccuracy\"]=val_accuracy\n",
    "df_accuracy_lr.round(3)"
   ]
  },
  {
   "cell_type": "code",
   "execution_count": 98,
   "metadata": {
    "colab": {
     "base_uri": "https://localhost:8080/",
     "height": 296
    },
    "executionInfo": {
     "elapsed": 57952,
     "status": "ok",
     "timestamp": 1605980304481,
     "user": {
      "displayName": "성유기",
      "photoUrl": "",
      "userId": "01978674342265104944"
     },
     "user_tz": -540
    },
    "id": "FnqM1QPZ2NxL",
    "outputId": "3d96503c-228a-4546-f759-77360d6947e6"
   },
   "outputs": [
    {
     "data": {
      "text/plain": [
       "<matplotlib.legend.Legend at 0x1c16ee929c8>"
      ]
     },
     "execution_count": 98,
     "metadata": {},
     "output_type": "execute_result"
    },
    {
     "data": {
      "image/png": "[encoded data removed]",
      "text/plain": [
       "<Figure size 432x288 with 1 Axes>"
      ]
     },
     "metadata": {
      "needs_background": "light"
     },
     "output_type": "display_data"
    }
   ],
   "source": [
    "plt.plot(para_lr,train_accuracy,linestyle=\"-\",label=\"Train Accuracy\")\n",
    "plt.plot(para_lr,val_accuracy,linestyle=\"--\",label=\"Test Accuracy\")\n",
    "plt.ylabel(\"accuracy\")\n",
    "plt.xlabel(\"learning rate\")\n",
    "plt.legend()"
   ]
  },
  {
   "cell_type": "code",
   "execution_count": 99,
   "metadata": {
    "colab": {
     "base_uri": "https://localhost:8080/",
     "height": 514
    },
    "executionInfo": {
     "elapsed": 64185,
     "status": "ok",
     "timestamp": 1605980310727,
     "user": {
      "displayName": "성유기",
      "photoUrl": "",
      "userId": "01978674342265104944"
     },
     "user_tz": -540
    },
    "id": "PZ72oAnv2N3D",
    "outputId": "a0e05e2d-fa06-4383-9161-47ae6ed2d3ab"
   },
   "outputs": [
    {
     "data": {
      "text/html": [
       "<div>\n",
       "<style scoped>\n",
       "    .dataframe tbody tr th:only-of-type {\n",
       "        vertical-align: middle;\n",
       "    }\n",
       "\n",
       "    .dataframe tbody tr th {\n",
       "        vertical-align: top;\n",
       "    }\n",
       "\n",
       "    .dataframe thead th {\n",
       "        text-align: right;\n",
       "    }\n",
       "</style>\n",
       "<table border=\"1\" class=\"dataframe\">\n",
       "  <thead>\n",
       "    <tr style=\"text-align: right;\">\n",
       "      <th></th>\n",
       "      <th>Estimators</th>\n",
       "      <th>TrainAccuracy</th>\n",
       "      <th>valAccuracy</th>\n",
       "    </tr>\n",
       "  </thead>\n",
       "  <tbody>\n",
       "    <tr>\n",
       "      <th>0</th>\n",
       "      <td>10</td>\n",
       "      <td>0.972</td>\n",
       "      <td>0.593</td>\n",
       "    </tr>\n",
       "    <tr>\n",
       "      <th>1</th>\n",
       "      <td>20</td>\n",
       "      <td>0.982</td>\n",
       "      <td>0.593</td>\n",
       "    </tr>\n",
       "    <tr>\n",
       "      <th>2</th>\n",
       "      <td>30</td>\n",
       "      <td>0.982</td>\n",
       "      <td>0.593</td>\n",
       "    </tr>\n",
       "    <tr>\n",
       "      <th>3</th>\n",
       "      <td>40</td>\n",
       "      <td>1.000</td>\n",
       "      <td>0.593</td>\n",
       "    </tr>\n",
       "    <tr>\n",
       "      <th>4</th>\n",
       "      <td>50</td>\n",
       "      <td>1.000</td>\n",
       "      <td>0.593</td>\n",
       "    </tr>\n",
       "    <tr>\n",
       "      <th>5</th>\n",
       "      <td>60</td>\n",
       "      <td>1.000</td>\n",
       "      <td>0.593</td>\n",
       "    </tr>\n",
       "    <tr>\n",
       "      <th>6</th>\n",
       "      <td>70</td>\n",
       "      <td>1.000</td>\n",
       "      <td>0.593</td>\n",
       "    </tr>\n",
       "    <tr>\n",
       "      <th>7</th>\n",
       "      <td>80</td>\n",
       "      <td>1.000</td>\n",
       "      <td>0.593</td>\n",
       "    </tr>\n",
       "    <tr>\n",
       "      <th>8</th>\n",
       "      <td>90</td>\n",
       "      <td>1.000</td>\n",
       "      <td>0.593</td>\n",
       "    </tr>\n",
       "    <tr>\n",
       "      <th>9</th>\n",
       "      <td>100</td>\n",
       "      <td>1.000</td>\n",
       "      <td>0.593</td>\n",
       "    </tr>\n",
       "    <tr>\n",
       "      <th>10</th>\n",
       "      <td>110</td>\n",
       "      <td>1.000</td>\n",
       "      <td>0.593</td>\n",
       "    </tr>\n",
       "    <tr>\n",
       "      <th>11</th>\n",
       "      <td>120</td>\n",
       "      <td>1.000</td>\n",
       "      <td>0.593</td>\n",
       "    </tr>\n",
       "    <tr>\n",
       "      <th>12</th>\n",
       "      <td>130</td>\n",
       "      <td>1.000</td>\n",
       "      <td>0.593</td>\n",
       "    </tr>\n",
       "    <tr>\n",
       "      <th>13</th>\n",
       "      <td>140</td>\n",
       "      <td>1.000</td>\n",
       "      <td>0.593</td>\n",
       "    </tr>\n",
       "    <tr>\n",
       "      <th>14</th>\n",
       "      <td>150</td>\n",
       "      <td>1.000</td>\n",
       "      <td>0.593</td>\n",
       "    </tr>\n",
       "  </tbody>\n",
       "</table>\n",
       "</div>"
      ],
      "text/plain": [
       "    Estimators  TrainAccuracy  valAccuracy\n",
       "0           10          0.972        0.593\n",
       "1           20          0.982        0.593\n",
       "2           30          0.982        0.593\n",
       "3           40          1.000        0.593\n",
       "4           50          1.000        0.593\n",
       "5           60          1.000        0.593\n",
       "6           70          1.000        0.593\n",
       "7           80          1.000        0.593\n",
       "8           90          1.000        0.593\n",
       "9          100          1.000        0.593\n",
       "10         110          1.000        0.593\n",
       "11         120          1.000        0.593\n",
       "12         130          1.000        0.593\n",
       "13         140          1.000        0.593\n",
       "14         150          1.000        0.593"
      ]
     },
     "execution_count": 99,
     "metadata": {},
     "output_type": "execute_result"
    }
   ],
   "source": [
    "train_accuracy=[]\n",
    "val_accuracy=[]\n",
    "\n",
    "\n",
    "para_n_tree=[n_tree*10 for n_tree in range(1,16)]\n",
    "\n",
    "\n",
    "for v_n_estimators in para_n_tree:\n",
    "    \n",
    "    gb=GBC(n_estimators=v_n_estimators, learning_rate=0.1, random_state=1234)\n",
    "    \n",
    "    gb.fit(df_train_x,df_train_y)\n",
    "    \n",
    "    train_accuracy.append(gb.score(df_train_x,df_train_y))\n",
    "    val_accuracy.append(gb.score(df_val_x,df_test_y))\n",
    "    \n",
    "df_accuracy_n=pd.DataFrame()\n",
    "df_accuracy_n[\"Estimators\"]=para_n_tree\n",
    "df_accuracy_n[\"TrainAccuracy\"]=train_accuracy\n",
    "df_accuracy_n[\"valAccuracy\"]=val_accuracy\n",
    "df_accuracy_n.round(3)"
   ]
  },
  {
   "cell_type": "code",
   "execution_count": 100,
   "metadata": {
    "colab": {
     "base_uri": "https://localhost:8080/",
     "height": 297
    },
    "executionInfo": {
     "elapsed": 64170,
     "status": "ok",
     "timestamp": 1605980310728,
     "user": {
      "displayName": "성유기",
      "photoUrl": "",
      "userId": "01978674342265104944"
     },
     "user_tz": -540
    },
    "id": "h7JwGoPk2N8Z",
    "outputId": "18ace5c5-208d-45c5-c857-5351c82663a6"
   },
   "outputs": [
    {
     "data": {
      "text/plain": [
       "<matplotlib.legend.Legend at 0x1c16ef0cd88>"
      ]
     },
     "execution_count": 100,
     "metadata": {},
     "output_type": "execute_result"
    },
    {
     "data": {
      "image/png": "[encoded data removed]",
      "text/plain": [
       "<Figure size 432x288 with 1 Axes>"
      ]
     },
     "metadata": {
      "needs_background": "light"
     },
     "output_type": "display_data"
    }
   ],
   "source": [
    "plt.plot(para_n_tree, train_accuracy,linestyle=\"-\",label=\"Train Accuracy\")\n",
    "plt.plot(para_n_tree, val_accuracy,linestyle=\"--\",label=\"val Accuracy\")\n",
    "plt.ylabel(\"accuracy\")\n",
    "plt.xlabel(\"n_estimators\")\n",
    "plt.legend()"
   ]
  },
  {
   "cell_type": "code",
   "execution_count": 101,
   "metadata": {
    "colab": {
     "base_uri": "https://localhost:8080/",
     "height": 359
    },
    "executionInfo": {
     "elapsed": 66939,
     "status": "ok",
     "timestamp": 1605980313510,
     "user": {
      "displayName": "성유기",
      "photoUrl": "",
      "userId": "01978674342265104944"
     },
     "user_tz": -540
    },
    "id": "tA1br4oS2OCG",
    "outputId": "76308e02-f988-43b4-ac7f-887d2cff2d82"
   },
   "outputs": [
    {
     "data": {
      "text/html": [
       "<div>\n",
       "<style scoped>\n",
       "    .dataframe tbody tr th:only-of-type {\n",
       "        vertical-align: middle;\n",
       "    }\n",
       "\n",
       "    .dataframe tbody tr th {\n",
       "        vertical-align: top;\n",
       "    }\n",
       "\n",
       "    .dataframe thead th {\n",
       "        text-align: right;\n",
       "    }\n",
       "</style>\n",
       "<table border=\"1\" class=\"dataframe\">\n",
       "  <thead>\n",
       "    <tr style=\"text-align: right;\">\n",
       "      <th></th>\n",
       "      <th>Depth</th>\n",
       "      <th>TrainAccuracy</th>\n",
       "      <th>valAccuracy</th>\n",
       "    </tr>\n",
       "  </thead>\n",
       "  <tbody>\n",
       "    <tr>\n",
       "      <th>0</th>\n",
       "      <td>1</td>\n",
       "      <td>0.972</td>\n",
       "      <td>0.958</td>\n",
       "    </tr>\n",
       "    <tr>\n",
       "      <th>1</th>\n",
       "      <td>2</td>\n",
       "      <td>0.982</td>\n",
       "      <td>0.967</td>\n",
       "    </tr>\n",
       "    <tr>\n",
       "      <th>2</th>\n",
       "      <td>3</td>\n",
       "      <td>1.000</td>\n",
       "      <td>0.967</td>\n",
       "    </tr>\n",
       "    <tr>\n",
       "      <th>3</th>\n",
       "      <td>4</td>\n",
       "      <td>1.000</td>\n",
       "      <td>0.967</td>\n",
       "    </tr>\n",
       "    <tr>\n",
       "      <th>4</th>\n",
       "      <td>5</td>\n",
       "      <td>1.000</td>\n",
       "      <td>0.967</td>\n",
       "    </tr>\n",
       "    <tr>\n",
       "      <th>5</th>\n",
       "      <td>6</td>\n",
       "      <td>1.000</td>\n",
       "      <td>0.967</td>\n",
       "    </tr>\n",
       "    <tr>\n",
       "      <th>6</th>\n",
       "      <td>7</td>\n",
       "      <td>1.000</td>\n",
       "      <td>0.967</td>\n",
       "    </tr>\n",
       "    <tr>\n",
       "      <th>7</th>\n",
       "      <td>8</td>\n",
       "      <td>1.000</td>\n",
       "      <td>0.967</td>\n",
       "    </tr>\n",
       "    <tr>\n",
       "      <th>8</th>\n",
       "      <td>9</td>\n",
       "      <td>1.000</td>\n",
       "      <td>0.967</td>\n",
       "    </tr>\n",
       "    <tr>\n",
       "      <th>9</th>\n",
       "      <td>10</td>\n",
       "      <td>1.000</td>\n",
       "      <td>0.967</td>\n",
       "    </tr>\n",
       "  </tbody>\n",
       "</table>\n",
       "</div>"
      ],
      "text/plain": [
       "   Depth  TrainAccuracy  valAccuracy\n",
       "0      1          0.972        0.958\n",
       "1      2          0.982        0.967\n",
       "2      3          1.000        0.967\n",
       "3      4          1.000        0.967\n",
       "4      5          1.000        0.967\n",
       "5      6          1.000        0.967\n",
       "6      7          1.000        0.967\n",
       "7      8          1.000        0.967\n",
       "8      9          1.000        0.967\n",
       "9     10          1.000        0.967"
      ]
     },
     "execution_count": 101,
     "metadata": {},
     "output_type": "execute_result"
    }
   ],
   "source": [
    "train_accuracy=[]\n",
    "val_accuracy=[]\n",
    "\n",
    "\n",
    "para_depth=[depth for depth in range(1,11)]\n",
    "\n",
    "\n",
    "for v_max_depth in para_depth:\n",
    "    \n",
    "    gb=GBC(max_depth=v_max_depth, n_estimators=40, learning_rate=0.1, random_state=1234)\n",
    "    \n",
    "    gb.fit(df_train_x,df_train_y)\n",
    "    \n",
    "    train_accuracy.append(gb.score(df_train_x,df_train_y))\n",
    "    val_accuracy.append(gb.score(df_val_x,df_val_y))\n",
    "    \n",
    "df_accuracy_depth=pd.DataFrame()\n",
    "df_accuracy_depth[\"Depth\"]=para_depth\n",
    "df_accuracy_depth[\"TrainAccuracy\"]=train_accuracy\n",
    "df_accuracy_depth[\"valAccuracy\"]=val_accuracy\n",
    "df_accuracy_depth.round(3)"
   ]
  },
  {
   "cell_type": "code",
   "execution_count": 102,
   "metadata": {
    "colab": {
     "base_uri": "https://localhost:8080/",
     "height": 296
    },
    "executionInfo": {
     "elapsed": 66926,
     "status": "ok",
     "timestamp": 1605980313511,
     "user": {
      "displayName": "성유기",
      "photoUrl": "",
      "userId": "01978674342265104944"
     },
     "user_tz": -540
    },
    "id": "8SUN8qWi2OFf",
    "outputId": "1a798a40-1979-4de1-ee47-9ac688359052"
   },
   "outputs": [
    {
     "data": {
      "text/plain": [
       "<matplotlib.legend.Legend at 0x1c16eec6888>"
      ]
     },
     "execution_count": 102,
     "metadata": {},
     "output_type": "execute_result"
    },
    {
     "data": {
      "image/png": "[encoded data removed]",
      "text/plain": [
       "<Figure size 432x288 with 1 Axes>"
      ]
     },
     "metadata": {
      "needs_background": "light"
     },
     "output_type": "display_data"
    }
   ],
   "source": [
    "plt.plot(para_depth, train_accuracy,linestyle=\"-\",label=\"Train Accuracy\")\n",
    "plt.plot(para_depth, val_accuracy,linestyle=\"--\",label=\"val Accuracy\")\n",
    "plt.ylabel(\"accuracy\")\n",
    "plt.xlabel(\"depth\")\n",
    "plt.legend()"
   ]
  },
  {
   "cell_type": "code",
   "execution_count": 103,
   "metadata": {
    "colab": {
     "base_uri": "https://localhost:8080/",
     "height": 328
    },
    "executionInfo": {
     "elapsed": 68671,
     "status": "ok",
     "timestamp": 1605980315269,
     "user": {
      "displayName": "성유기",
      "photoUrl": "",
      "userId": "01978674342265104944"
     },
     "user_tz": -540
    },
    "id": "BvtFBoGV2OKe",
    "outputId": "c651eeb1-c7c0-41a1-dc53-570f68e50265"
   },
   "outputs": [
    {
     "data": {
      "text/html": [
       "<div>\n",
       "<style scoped>\n",
       "    .dataframe tbody tr th:only-of-type {\n",
       "        vertical-align: middle;\n",
       "    }\n",
       "\n",
       "    .dataframe tbody tr th {\n",
       "        vertical-align: top;\n",
       "    }\n",
       "\n",
       "    .dataframe thead th {\n",
       "        text-align: right;\n",
       "    }\n",
       "</style>\n",
       "<table border=\"1\" class=\"dataframe\">\n",
       "  <thead>\n",
       "    <tr style=\"text-align: right;\">\n",
       "      <th></th>\n",
       "      <th>MinSamplesSplit</th>\n",
       "      <th>TrainAccuracy</th>\n",
       "      <th>valAccuracy</th>\n",
       "    </tr>\n",
       "  </thead>\n",
       "  <tbody>\n",
       "    <tr>\n",
       "      <th>0</th>\n",
       "      <td>20</td>\n",
       "      <td>0.982</td>\n",
       "      <td>0.967</td>\n",
       "    </tr>\n",
       "    <tr>\n",
       "      <th>1</th>\n",
       "      <td>30</td>\n",
       "      <td>0.982</td>\n",
       "      <td>0.967</td>\n",
       "    </tr>\n",
       "    <tr>\n",
       "      <th>2</th>\n",
       "      <td>40</td>\n",
       "      <td>0.982</td>\n",
       "      <td>0.967</td>\n",
       "    </tr>\n",
       "    <tr>\n",
       "      <th>3</th>\n",
       "      <td>50</td>\n",
       "      <td>0.982</td>\n",
       "      <td>0.967</td>\n",
       "    </tr>\n",
       "    <tr>\n",
       "      <th>4</th>\n",
       "      <td>60</td>\n",
       "      <td>0.982</td>\n",
       "      <td>0.967</td>\n",
       "    </tr>\n",
       "    <tr>\n",
       "      <th>5</th>\n",
       "      <td>70</td>\n",
       "      <td>0.982</td>\n",
       "      <td>0.967</td>\n",
       "    </tr>\n",
       "    <tr>\n",
       "      <th>6</th>\n",
       "      <td>80</td>\n",
       "      <td>0.982</td>\n",
       "      <td>0.967</td>\n",
       "    </tr>\n",
       "    <tr>\n",
       "      <th>7</th>\n",
       "      <td>90</td>\n",
       "      <td>0.982</td>\n",
       "      <td>0.967</td>\n",
       "    </tr>\n",
       "    <tr>\n",
       "      <th>8</th>\n",
       "      <td>100</td>\n",
       "      <td>0.982</td>\n",
       "      <td>0.967</td>\n",
       "    </tr>\n",
       "  </tbody>\n",
       "</table>\n",
       "</div>"
      ],
      "text/plain": [
       "   MinSamplesSplit  TrainAccuracy  valAccuracy\n",
       "0               20          0.982        0.967\n",
       "1               30          0.982        0.967\n",
       "2               40          0.982        0.967\n",
       "3               50          0.982        0.967\n",
       "4               60          0.982        0.967\n",
       "5               70          0.982        0.967\n",
       "6               80          0.982        0.967\n",
       "7               90          0.982        0.967\n",
       "8              100          0.982        0.967"
      ]
     },
     "execution_count": 103,
     "metadata": {},
     "output_type": "execute_result"
    }
   ],
   "source": [
    "train_accuracy=[]\n",
    "val_accuracy=[]\n",
    "\n",
    "\n",
    "para_split=[n_split*10 for n_split in range(2,11)]\n",
    "\n",
    "\n",
    "for v_min_samples_split in para_split:\n",
    "    \n",
    "    gb=GBC(min_samples_split=v_min_samples_split, max_depth=2, n_estimators=40, learning_rate=0.1, random_state=1234)\n",
    "    \n",
    "    gb.fit(df_train_x,df_train_y)\n",
    "    \n",
    "    train_accuracy.append(gb.score(df_train_x,df_train_y))\n",
    "    val_accuracy.append(gb.score(df_val_x,df_val_y))\n",
    "    \n",
    "df_accuracy_split=pd.DataFrame()\n",
    "df_accuracy_split[\"MinSamplesSplit\"]=para_split\n",
    "df_accuracy_split[\"TrainAccuracy\"]=train_accuracy\n",
    "df_accuracy_split[\"valAccuracy\"]=val_accuracy\n",
    "df_accuracy_split.round(3)"
   ]
  },
  {
   "cell_type": "code",
   "execution_count": 104,
   "metadata": {
    "colab": {
     "base_uri": "https://localhost:8080/",
     "height": 296
    },
    "executionInfo": {
     "elapsed": 68659,
     "status": "ok",
     "timestamp": 1605980315270,
     "user": {
      "displayName": "성유기",
      "photoUrl": "",
      "userId": "01978674342265104944"
     },
     "user_tz": -540
    },
    "id": "Je9tlyIq2ONk",
    "outputId": "17eb0979-740c-4926-b3b2-990af75ef57d"
   },
   "outputs": [
    {
     "data": {
      "text/plain": [
       "<matplotlib.legend.Legend at 0x1c16eab3208>"
      ]
     },
     "execution_count": 104,
     "metadata": {},
     "output_type": "execute_result"
    },
    {
     "data": {
      "image/png": "[encoded data removed]",
      "text/plain": [
       "<Figure size 432x288 with 1 Axes>"
      ]
     },
     "metadata": {
      "needs_background": "light"
     },
     "output_type": "display_data"
    }
   ],
   "source": [
    "plt.plot(para_split, train_accuracy,linestyle=\"-\",label=\"Train Accuracy\")\n",
    "plt.plot(para_split, val_accuracy,linestyle=\"--\",label=\"val Accuracy\")\n",
    "plt.ylabel(\"accuracy\")\n",
    "plt.xlabel(\"min samples split\")\n",
    "plt.legend()"
   ]
  },
  {
   "cell_type": "code",
   "execution_count": 105,
   "metadata": {
    "colab": {
     "base_uri": "https://localhost:8080/",
     "height": 359
    },
    "executionInfo": {
     "elapsed": 70588,
     "status": "ok",
     "timestamp": 1605980317212,
     "user": {
      "displayName": "성유기",
      "photoUrl": "",
      "userId": "01978674342265104944"
     },
     "user_tz": -540
    },
    "id": "1MQMKXIU2OV3",
    "outputId": "a3a2accf-3348-472d-997d-60e9b6226f71"
   },
   "outputs": [
    {
     "data": {
      "text/html": [
       "<div>\n",
       "<style scoped>\n",
       "    .dataframe tbody tr th:only-of-type {\n",
       "        vertical-align: middle;\n",
       "    }\n",
       "\n",
       "    .dataframe tbody tr th {\n",
       "        vertical-align: top;\n",
       "    }\n",
       "\n",
       "    .dataframe thead th {\n",
       "        text-align: right;\n",
       "    }\n",
       "</style>\n",
       "<table border=\"1\" class=\"dataframe\">\n",
       "  <thead>\n",
       "    <tr style=\"text-align: right;\">\n",
       "      <th></th>\n",
       "      <th>MinSamplesSplit</th>\n",
       "      <th>TrainAccuracy</th>\n",
       "      <th>valAccuracy</th>\n",
       "    </tr>\n",
       "  </thead>\n",
       "  <tbody>\n",
       "    <tr>\n",
       "      <th>0</th>\n",
       "      <td>1</td>\n",
       "      <td>0.982</td>\n",
       "      <td>0.967</td>\n",
       "    </tr>\n",
       "    <tr>\n",
       "      <th>1</th>\n",
       "      <td>2</td>\n",
       "      <td>0.982</td>\n",
       "      <td>0.967</td>\n",
       "    </tr>\n",
       "    <tr>\n",
       "      <th>2</th>\n",
       "      <td>3</td>\n",
       "      <td>0.982</td>\n",
       "      <td>0.967</td>\n",
       "    </tr>\n",
       "    <tr>\n",
       "      <th>3</th>\n",
       "      <td>4</td>\n",
       "      <td>0.972</td>\n",
       "      <td>0.958</td>\n",
       "    </tr>\n",
       "    <tr>\n",
       "      <th>4</th>\n",
       "      <td>5</td>\n",
       "      <td>0.972</td>\n",
       "      <td>0.958</td>\n",
       "    </tr>\n",
       "    <tr>\n",
       "      <th>5</th>\n",
       "      <td>6</td>\n",
       "      <td>0.972</td>\n",
       "      <td>0.958</td>\n",
       "    </tr>\n",
       "    <tr>\n",
       "      <th>6</th>\n",
       "      <td>7</td>\n",
       "      <td>0.972</td>\n",
       "      <td>0.958</td>\n",
       "    </tr>\n",
       "    <tr>\n",
       "      <th>7</th>\n",
       "      <td>8</td>\n",
       "      <td>0.972</td>\n",
       "      <td>0.958</td>\n",
       "    </tr>\n",
       "    <tr>\n",
       "      <th>8</th>\n",
       "      <td>9</td>\n",
       "      <td>0.972</td>\n",
       "      <td>0.958</td>\n",
       "    </tr>\n",
       "    <tr>\n",
       "      <th>9</th>\n",
       "      <td>10</td>\n",
       "      <td>0.972</td>\n",
       "      <td>0.958</td>\n",
       "    </tr>\n",
       "  </tbody>\n",
       "</table>\n",
       "</div>"
      ],
      "text/plain": [
       "   MinSamplesSplit  TrainAccuracy  valAccuracy\n",
       "0                1          0.982        0.967\n",
       "1                2          0.982        0.967\n",
       "2                3          0.982        0.967\n",
       "3                4          0.972        0.958\n",
       "4                5          0.972        0.958\n",
       "5                6          0.972        0.958\n",
       "6                7          0.972        0.958\n",
       "7                8          0.972        0.958\n",
       "8                9          0.972        0.958\n",
       "9               10          0.972        0.958"
      ]
     },
     "execution_count": 105,
     "metadata": {},
     "output_type": "execute_result"
    }
   ],
   "source": [
    "train_accuracy=[]\n",
    "val_accuracy=[]\n",
    "\n",
    "\n",
    "para_leaf=[n_leaf for n_leaf in range(1,11)]\n",
    "\n",
    "\n",
    "for v_min_samples_leaf in para_leaf:\n",
    "    \n",
    "    gb=GBC(min_samples_leaf=v_min_samples_leaf, max_depth=2, n_estimators=40, min_samples_split=30, learning_rate=0.1, random_state=1234)\n",
    "    \n",
    "    gb.fit(df_train_x,df_train_y)\n",
    "    \n",
    "    train_accuracy.append(gb.score(df_train_x,df_train_y))\n",
    "    val_accuracy.append(gb.score(df_val_x,df_val_y))\n",
    "    \n",
    "df_accuracy_leaf=pd.DataFrame()\n",
    "df_accuracy_leaf[\"MinSamplesSplit\"]=para_leaf\n",
    "df_accuracy_leaf[\"TrainAccuracy\"]=train_accuracy\n",
    "df_accuracy_leaf[\"valAccuracy\"]=val_accuracy\n",
    "df_accuracy_leaf.round(3)"
   ]
  },
  {
   "cell_type": "code",
   "execution_count": 106,
   "metadata": {
    "colab": {
     "base_uri": "https://localhost:8080/",
     "height": 296
    },
    "executionInfo": {
     "elapsed": 70577,
     "status": "ok",
     "timestamp": 1605980317213,
     "user": {
      "displayName": "성유기",
      "photoUrl": "",
      "userId": "01978674342265104944"
     },
     "user_tz": -540
    },
    "id": "pOC4Kpmr2ObH",
    "outputId": "9cda6b03-fdbc-490e-a281-7a9ea3738c6b"
   },
   "outputs": [
    {
     "data": {
      "text/plain": [
       "<matplotlib.legend.Legend at 0x1c16e7bab08>"
      ]
     },
     "execution_count": 106,
     "metadata": {},
     "output_type": "execute_result"
    },
    {
     "data": {
      "image/png": "[encoded data removed]",
      "text/plain": [
       "<Figure size 432x288 with 1 Axes>"
      ]
     },
     "metadata": {
      "needs_background": "light"
     },
     "output_type": "display_data"
    }
   ],
   "source": [
    "plt.plot(para_leaf, train_accuracy,linestyle=\"-\",label=\"Train Accuracy\")\n",
    "plt.plot(para_leaf, val_accuracy,linestyle=\"--\",label=\"val Accuracy\")\n",
    "plt.ylabel(\"accuracy\")\n",
    "plt.xlabel(\"min samples leaf\")\n",
    "plt.legend()"
   ]
  },
  {
   "cell_type": "code",
   "execution_count": 107,
   "metadata": {
    "colab": {
     "base_uri": "https://localhost:8080/"
    },
    "executionInfo": {
     "elapsed": 70568,
     "status": "ok",
     "timestamp": 1605980317216,
     "user": {
      "displayName": "성유기",
      "photoUrl": "",
      "userId": "01978674342265104944"
     },
     "user_tz": -540
    },
    "id": "qeAi8Y7Y2OY7",
    "outputId": "70ad2c17-00ea-40c0-facd-7bc2b9ca6110"
   },
   "outputs": [
    {
     "name": "stdout",
     "output_type": "stream",
     "text": [
      "Accuracy on training set:1.000\n",
      "Accuracy on test set:0.963\n",
      "Confusion matrix:\n",
      "[[144   0]\n",
      " [  8  62]]\n"
     ]
    }
   ],
   "source": [
    "gb_final=GBC(min_samples_leaf= 2,max_depth=6,n_estimators=100,min_samples_split=20,\n",
    "                                   learning_rate=0.1,random_state=1234)\n",
    "gb_final.fit(df_train_x,df_train_y)\n",
    "\n",
    "y_pred=gb_final.predict(df_test_x)\n",
    "\n",
    "#train 데이터 셋 정확도\n",
    "print(\"Accuracy on training set:{:.3f}\".format(gb_final.score(df_train_x,df_train_y)))\n",
    "#test 데이터 셋 정확도\n",
    "print(\"Accuracy on test set:{:.3f}\".format(gb_final.score(df_test_x,df_test_y)))\n",
    "#confusion matrix\n",
    "print(\"Confusion matrix:\\n{}\".format(confusion_matrix(df_test_y,y_pred)))"
   ]
  },
  {
   "cell_type": "code",
   "execution_count": 108,
   "metadata": {
    "colab": {
     "base_uri": "https://localhost:8080/",
     "height": 266
    },
    "executionInfo": {
     "elapsed": 70556,
     "status": "ok",
     "timestamp": 1605980317217,
     "user": {
      "displayName": "성유기",
      "photoUrl": "",
      "userId": "01978674342265104944"
     },
     "user_tz": -540
    },
    "id": "fb5ayOGE2OUN",
    "outputId": "da2f225f-8ffe-4392-d153-e697e3b9faee"
   },
   "outputs": [
    {
     "data": {
      "text/html": [
       "<div>\n",
       "<style scoped>\n",
       "    .dataframe tbody tr th:only-of-type {\n",
       "        vertical-align: middle;\n",
       "    }\n",
       "\n",
       "    .dataframe tbody tr th {\n",
       "        vertical-align: top;\n",
       "    }\n",
       "\n",
       "    .dataframe thead th {\n",
       "        text-align: right;\n",
       "    }\n",
       "</style>\n",
       "<table border=\"1\" class=\"dataframe\">\n",
       "  <thead>\n",
       "    <tr style=\"text-align: right;\">\n",
       "      <th></th>\n",
       "      <th>Feature</th>\n",
       "      <th>Importance</th>\n",
       "    </tr>\n",
       "  </thead>\n",
       "  <tbody>\n",
       "    <tr>\n",
       "      <th>11</th>\n",
       "      <td>ROLLING_TEMP_T5</td>\n",
       "      <td>0.603</td>\n",
       "    </tr>\n",
       "    <tr>\n",
       "      <th>1501</th>\n",
       "      <td>HSB_적용</td>\n",
       "      <td>0.110</td>\n",
       "    </tr>\n",
       "    <tr>\n",
       "      <th>12</th>\n",
       "      <td>ROLLING_DESCALING</td>\n",
       "      <td>0.071</td>\n",
       "    </tr>\n",
       "    <tr>\n",
       "      <th>10</th>\n",
       "      <td>FUR_EXTEMP</td>\n",
       "      <td>0.071</td>\n",
       "    </tr>\n",
       "    <tr>\n",
       "      <th>1500</th>\n",
       "      <td>HSB_미적용</td>\n",
       "      <td>0.049</td>\n",
       "    </tr>\n",
       "    <tr>\n",
       "      <th>7</th>\n",
       "      <td>FUR_SZ_TEMP</td>\n",
       "      <td>0.047</td>\n",
       "    </tr>\n",
       "    <tr>\n",
       "      <th>0</th>\n",
       "      <td>PT_THK</td>\n",
       "      <td>0.017</td>\n",
       "    </tr>\n",
       "  </tbody>\n",
       "</table>\n",
       "</div>"
      ],
      "text/plain": [
       "                Feature  Importance\n",
       "11      ROLLING_TEMP_T5       0.603\n",
       "1501             HSB_적용       0.110\n",
       "12    ROLLING_DESCALING       0.071\n",
       "10           FUR_EXTEMP       0.071\n",
       "1500            HSB_미적용       0.049\n",
       "7           FUR_SZ_TEMP       0.047\n",
       "0                PT_THK       0.017"
      ]
     },
     "execution_count": 108,
     "metadata": {},
     "output_type": "execute_result"
    }
   ],
   "source": [
    "v_feature_name=df_train_x.columns\n",
    "\n",
    "df_importance=pd.DataFrame()\n",
    "df_importance[\"Feature\"]=v_feature_name\n",
    "df_importance[\"Importance\"]=gb_final.feature_importances_\n",
    "\n",
    "df_importance.sort_values(\"Importance\",ascending=False,inplace=True)\n",
    "df_importance7 = df_importance[:7]\n",
    "df_importance7.round(3)[:10]"
   ]
  },
  {
   "cell_type": "code",
   "execution_count": 109,
   "metadata": {
    "colab": {
     "base_uri": "https://localhost:8080/",
     "height": 928
    },
    "executionInfo": {
     "elapsed": 70994,
     "status": "ok",
     "timestamp": 1605980317670,
     "user": {
      "displayName": "성유기",
      "photoUrl": "",
      "userId": "01978674342265104944"
     },
     "user_tz": -540
    },
    "id": "roTeGFWf2OQi",
    "outputId": "1aa9612c-b8e4-4d0f-b954-beac527a4333",
    "scrolled": false
   },
   "outputs": [
    {
     "name": "stderr",
     "output_type": "stream",
     "text": [
      "C:\\Users\\USER\\anaconda3\\lib\\site-packages\\ipykernel_launcher.py:1: SettingWithCopyWarning: \n",
      "A value is trying to be set on a copy of a slice from a DataFrame\n",
      "\n",
      "See the caveats in the documentation: https://pandas.pydata.org/pandas-docs/stable/user_guide/indexing.html#returning-a-view-versus-a-copy\n",
      "  \"\"\"Entry point for launching an IPython kernel.\n"
     ]
    },
    {
     "data": {
      "text/plain": [
       "Text(0, 0.5, '변수')"
      ]
     },
     "execution_count": 109,
     "metadata": {},
     "output_type": "execute_result"
    },
    {
     "name": "stderr",
     "output_type": "stream",
     "text": [
      "C:\\Users\\USER\\anaconda3\\lib\\site-packages\\matplotlib\\backends\\backend_agg.py:211: RuntimeWarning: Glyph 48320 missing from current font.\n",
      "  font.set_text(s, 0.0, flags=flags)\n",
      "C:\\Users\\USER\\anaconda3\\lib\\site-packages\\matplotlib\\backends\\backend_agg.py:211: RuntimeWarning: Glyph 49688 missing from current font.\n",
      "  font.set_text(s, 0.0, flags=flags)\n",
      "C:\\Users\\USER\\anaconda3\\lib\\site-packages\\matplotlib\\backends\\backend_agg.py:211: RuntimeWarning: Glyph 51473 missing from current font.\n",
      "  font.set_text(s, 0.0, flags=flags)\n",
      "C:\\Users\\USER\\anaconda3\\lib\\site-packages\\matplotlib\\backends\\backend_agg.py:211: RuntimeWarning: Glyph 50836 missing from current font.\n",
      "  font.set_text(s, 0.0, flags=flags)\n",
      "C:\\Users\\USER\\anaconda3\\lib\\site-packages\\matplotlib\\backends\\backend_agg.py:211: RuntimeWarning: Glyph 46020 missing from current font.\n",
      "  font.set_text(s, 0.0, flags=flags)\n",
      "C:\\Users\\USER\\anaconda3\\lib\\site-packages\\matplotlib\\backends\\backend_agg.py:180: RuntimeWarning: Glyph 48320 missing from current font.\n",
      "  font.set_text(s, 0, flags=flags)\n",
      "C:\\Users\\USER\\anaconda3\\lib\\site-packages\\matplotlib\\backends\\backend_agg.py:180: RuntimeWarning: Glyph 49688 missing from current font.\n",
      "  font.set_text(s, 0, flags=flags)\n",
      "C:\\Users\\USER\\anaconda3\\lib\\site-packages\\matplotlib\\backends\\backend_agg.py:180: RuntimeWarning: Glyph 51473 missing from current font.\n",
      "  font.set_text(s, 0, flags=flags)\n",
      "C:\\Users\\USER\\anaconda3\\lib\\site-packages\\matplotlib\\backends\\backend_agg.py:180: RuntimeWarning: Glyph 50836 missing from current font.\n",
      "  font.set_text(s, 0, flags=flags)\n",
      "C:\\Users\\USER\\anaconda3\\lib\\site-packages\\matplotlib\\backends\\backend_agg.py:180: RuntimeWarning: Glyph 46020 missing from current font.\n",
      "  font.set_text(s, 0, flags=flags)\n",
      "C:\\Users\\USER\\anaconda3\\lib\\site-packages\\matplotlib\\backends\\backend_agg.py:211: RuntimeWarning: Glyph 48120 missing from current font.\n",
      "  font.set_text(s, 0.0, flags=flags)\n",
      "C:\\Users\\USER\\anaconda3\\lib\\site-packages\\matplotlib\\backends\\backend_agg.py:211: RuntimeWarning: Glyph 51201 missing from current font.\n",
      "  font.set_text(s, 0.0, flags=flags)\n",
      "C:\\Users\\USER\\anaconda3\\lib\\site-packages\\matplotlib\\backends\\backend_agg.py:211: RuntimeWarning: Glyph 50857 missing from current font.\n",
      "  font.set_text(s, 0.0, flags=flags)\n",
      "C:\\Users\\USER\\anaconda3\\lib\\site-packages\\matplotlib\\backends\\backend_agg.py:180: RuntimeWarning: Glyph 48120 missing from current font.\n",
      "  font.set_text(s, 0, flags=flags)\n",
      "C:\\Users\\USER\\anaconda3\\lib\\site-packages\\matplotlib\\backends\\backend_agg.py:180: RuntimeWarning: Glyph 51201 missing from current font.\n",
      "  font.set_text(s, 0, flags=flags)\n",
      "C:\\Users\\USER\\anaconda3\\lib\\site-packages\\matplotlib\\backends\\backend_agg.py:180: RuntimeWarning: Glyph 50857 missing from current font.\n",
      "  font.set_text(s, 0, flags=flags)\n"
     ]
    },
    {
     "data": {
      "image/png": "[encoded data removed]",
      "text/plain": [
       "<Figure size 432x288 with 1 Axes>"
      ]
     },
     "metadata": {
      "needs_background": "light"
     },
     "output_type": "display_data"
    }
   ],
   "source": [
    "df_importance7.sort_values(\"Importance\",ascending=True,inplace=True)\n",
    "coordinates=range(len(df_importance7))\n",
    "plt.barh(y=coordinates,width=df_importance7[\"Importance\"])\n",
    "plt.yticks(coordinates,df_importance7[\"Feature\"])\n",
    "plt.xlabel(\"변수중요도\")\n",
    "plt.ylabel(\"변수\")"
   ]
  },
  {
   "cell_type": "code",
   "execution_count": null,
   "metadata": {
    "id": "m6rSdOcO2OI7"
   },
   "outputs": [],
   "source": []
  },
  {
   "cell_type": "markdown",
   "metadata": {
    "id": "G-mgYCW-3oJl"
   },
   "source": [
    "# 서포트 벡터 머신"
   ]
  },
  {
   "cell_type": "code",
   "execution_count": 111,
   "metadata": {
    "colab": {
     "base_uri": "https://localhost:8080/",
     "height": 309
    },
    "executionInfo": {
     "elapsed": 937,
     "status": "ok",
     "timestamp": 1605982075641,
     "user": {
      "displayName": "성유기",
      "photoUrl": "",
      "userId": "01978674342265104944"
     },
     "user_tz": -540
    },
    "id": "vqWjtTfL9oT2",
    "outputId": "fa949de1-5368-4903-e39e-a1ac2a61cb22"
   },
   "outputs": [
    {
     "data": {
      "text/html": [
       "<div>\n",
       "<style scoped>\n",
       "    .dataframe tbody tr th:only-of-type {\n",
       "        vertical-align: middle;\n",
       "    }\n",
       "\n",
       "    .dataframe tbody tr th {\n",
       "        vertical-align: top;\n",
       "    }\n",
       "\n",
       "    .dataframe thead th {\n",
       "        text-align: right;\n",
       "    }\n",
       "</style>\n",
       "<table border=\"1\" class=\"dataframe\">\n",
       "  <thead>\n",
       "    <tr style=\"text-align: right;\">\n",
       "      <th></th>\n",
       "      <th>PLATE_NO</th>\n",
       "      <th>ROLLING_DATE</th>\n",
       "      <th>SCALE</th>\n",
       "      <th>SPEC</th>\n",
       "      <th>STEEL_KIND</th>\n",
       "      <th>PT_THK</th>\n",
       "      <th>PT_WDTH</th>\n",
       "      <th>PT_LTH</th>\n",
       "      <th>PT_WGT</th>\n",
       "      <th>FUR_NO</th>\n",
       "      <th>...</th>\n",
       "      <th>FUR_HZ_TEMP</th>\n",
       "      <th>FUR_HZ_TIME</th>\n",
       "      <th>FUR_SZ_TEMP</th>\n",
       "      <th>FUR_SZ_TIME</th>\n",
       "      <th>FUR_TIME</th>\n",
       "      <th>FUR_EXTEMP</th>\n",
       "      <th>ROLLING_TEMP_T5</th>\n",
       "      <th>HSB</th>\n",
       "      <th>ROLLING_DESCALING</th>\n",
       "      <th>WORK_GR</th>\n",
       "    </tr>\n",
       "  </thead>\n",
       "  <tbody>\n",
       "    <tr>\n",
       "      <th>0</th>\n",
       "      <td>PB562774</td>\n",
       "      <td>2008-08-01:00:00:15</td>\n",
       "      <td>양품</td>\n",
       "      <td>AB/EH32-TM</td>\n",
       "      <td>T1</td>\n",
       "      <td>32.25</td>\n",
       "      <td>3707</td>\n",
       "      <td>15109</td>\n",
       "      <td>14180</td>\n",
       "      <td>1호기</td>\n",
       "      <td>...</td>\n",
       "      <td>1144</td>\n",
       "      <td>116</td>\n",
       "      <td>1133</td>\n",
       "      <td>59</td>\n",
       "      <td>282</td>\n",
       "      <td>1133</td>\n",
       "      <td>934</td>\n",
       "      <td>적용</td>\n",
       "      <td>8</td>\n",
       "      <td>2조</td>\n",
       "    </tr>\n",
       "    <tr>\n",
       "      <th>1</th>\n",
       "      <td>PB562775</td>\n",
       "      <td>2008-08-01:00:00:16</td>\n",
       "      <td>양품</td>\n",
       "      <td>AB/EH32-TM</td>\n",
       "      <td>T1</td>\n",
       "      <td>32.25</td>\n",
       "      <td>3707</td>\n",
       "      <td>15109</td>\n",
       "      <td>14180</td>\n",
       "      <td>1호기</td>\n",
       "      <td>...</td>\n",
       "      <td>1144</td>\n",
       "      <td>122</td>\n",
       "      <td>1135</td>\n",
       "      <td>53</td>\n",
       "      <td>283</td>\n",
       "      <td>1135</td>\n",
       "      <td>937</td>\n",
       "      <td>적용</td>\n",
       "      <td>8</td>\n",
       "      <td>2조</td>\n",
       "    </tr>\n",
       "    <tr>\n",
       "      <th>2</th>\n",
       "      <td>PB562776</td>\n",
       "      <td>2008-08-01:00:00:59</td>\n",
       "      <td>양품</td>\n",
       "      <td>NV-E36-TM</td>\n",
       "      <td>T8</td>\n",
       "      <td>33.27</td>\n",
       "      <td>3619</td>\n",
       "      <td>19181</td>\n",
       "      <td>18130</td>\n",
       "      <td>2호기</td>\n",
       "      <td>...</td>\n",
       "      <td>1129</td>\n",
       "      <td>116</td>\n",
       "      <td>1121</td>\n",
       "      <td>55</td>\n",
       "      <td>282</td>\n",
       "      <td>1121</td>\n",
       "      <td>889</td>\n",
       "      <td>적용</td>\n",
       "      <td>8</td>\n",
       "      <td>3조</td>\n",
       "    </tr>\n",
       "    <tr>\n",
       "      <th>3</th>\n",
       "      <td>PB562777</td>\n",
       "      <td>2008-08-01:00:01:24</td>\n",
       "      <td>양품</td>\n",
       "      <td>NV-E36-TM</td>\n",
       "      <td>T8</td>\n",
       "      <td>33.27</td>\n",
       "      <td>3619</td>\n",
       "      <td>19181</td>\n",
       "      <td>18130</td>\n",
       "      <td>2호기</td>\n",
       "      <td>...</td>\n",
       "      <td>1152</td>\n",
       "      <td>125</td>\n",
       "      <td>1127</td>\n",
       "      <td>68</td>\n",
       "      <td>316</td>\n",
       "      <td>1127</td>\n",
       "      <td>885</td>\n",
       "      <td>적용</td>\n",
       "      <td>8</td>\n",
       "      <td>3조</td>\n",
       "    </tr>\n",
       "    <tr>\n",
       "      <th>4</th>\n",
       "      <td>PB562778</td>\n",
       "      <td>2008-08-01:00:01:44</td>\n",
       "      <td>양품</td>\n",
       "      <td>BV-EH36-TM</td>\n",
       "      <td>T8</td>\n",
       "      <td>38.33</td>\n",
       "      <td>3098</td>\n",
       "      <td>13334</td>\n",
       "      <td>12430</td>\n",
       "      <td>3호기</td>\n",
       "      <td>...</td>\n",
       "      <td>1140</td>\n",
       "      <td>134</td>\n",
       "      <td>1128</td>\n",
       "      <td>48</td>\n",
       "      <td>314</td>\n",
       "      <td>1128</td>\n",
       "      <td>873</td>\n",
       "      <td>적용</td>\n",
       "      <td>8</td>\n",
       "      <td>1조</td>\n",
       "    </tr>\n",
       "  </tbody>\n",
       "</table>\n",
       "<p>5 rows × 21 columns</p>\n",
       "</div>"
      ],
      "text/plain": [
       "   PLATE_NO         ROLLING_DATE SCALE        SPEC STEEL_KIND  PT_THK  \\\n",
       "0  PB562774  2008-08-01:00:00:15    양품  AB/EH32-TM         T1   32.25   \n",
       "1  PB562775  2008-08-01:00:00:16    양품  AB/EH32-TM         T1   32.25   \n",
       "2  PB562776  2008-08-01:00:00:59    양품   NV-E36-TM         T8   33.27   \n",
       "3  PB562777  2008-08-01:00:01:24    양품   NV-E36-TM         T8   33.27   \n",
       "4  PB562778  2008-08-01:00:01:44    양품  BV-EH36-TM         T8   38.33   \n",
       "\n",
       "   PT_WDTH  PT_LTH  PT_WGT FUR_NO  ...  FUR_HZ_TEMP  FUR_HZ_TIME  FUR_SZ_TEMP  \\\n",
       "0     3707   15109   14180    1호기  ...         1144          116         1133   \n",
       "1     3707   15109   14180    1호기  ...         1144          122         1135   \n",
       "2     3619   19181   18130    2호기  ...         1129          116         1121   \n",
       "3     3619   19181   18130    2호기  ...         1152          125         1127   \n",
       "4     3098   13334   12430    3호기  ...         1140          134         1128   \n",
       "\n",
       "   FUR_SZ_TIME  FUR_TIME  FUR_EXTEMP  ROLLING_TEMP_T5  HSB ROLLING_DESCALING  \\\n",
       "0           59       282        1133              934   적용                 8   \n",
       "1           53       283        1135              937   적용                 8   \n",
       "2           55       282        1121              889   적용                 8   \n",
       "3           68       316        1127              885   적용                 8   \n",
       "4           48       314        1128              873   적용                 8   \n",
       "\n",
       "   WORK_GR  \n",
       "0       2조  \n",
       "1       2조  \n",
       "2       3조  \n",
       "3       3조  \n",
       "4       1조  \n",
       "\n",
       "[5 rows x 21 columns]"
      ]
     },
     "execution_count": 111,
     "metadata": {},
     "output_type": "execute_result"
    }
   ],
   "source": [
    "df_raw = pd.read_csv(\"SCALE불량.csv\", engine = 'python',encoding = 'cp949')\n",
    "df_raw.head()"
   ]
  },
  {
   "cell_type": "code",
   "execution_count": 112,
   "metadata": {
    "id": "n59zp9DZ9oad"
   },
   "outputs": [],
   "source": [
    "df_raw = df_raw.drop(['PLATE_NO'], axis =1)\n",
    "df_raw = df_raw.drop(['ROLLING_DATE'], axis =1)"
   ]
  },
  {
   "cell_type": "code",
   "execution_count": 113,
   "metadata": {
    "id": "cA3S9_Mh9ofk"
   },
   "outputs": [],
   "source": [
    "df_raw = df_raw[df_raw[\"FUR_HZ_TIME\"] < 300]"
   ]
  },
  {
   "cell_type": "code",
   "execution_count": 114,
   "metadata": {
    "id": "JMpMsgiL5Uvr"
   },
   "outputs": [],
   "source": [
    "df_raw = df_raw[df_raw.ROLLING_TEMP_T5 > 600]"
   ]
  },
  {
   "cell_type": "code",
   "execution_count": 115,
   "metadata": {
    "id": "42V7_sfs3sco"
   },
   "outputs": [],
   "source": [
    "df_raw_y = df_raw[\"SCALE\"]\n",
    "df_raw_x = df_raw.drop([\"SCALE\"], axis = 1, inplace = False)\n",
    "\n",
    "df_char = df_raw_x.select_dtypes(include = \"object\")\n",
    "df_numeric = df_raw_x.select_dtypes(exclude = \"object\")\n",
    "\n",
    "df_char.reset_index(drop=True, inplace=True)"
   ]
  },
  {
   "cell_type": "code",
   "execution_count": 116,
   "metadata": {
    "colab": {
     "base_uri": "https://localhost:8080/",
     "height": 204
    },
    "executionInfo": {
     "elapsed": 941,
     "status": "ok",
     "timestamp": 1605982089874,
     "user": {
      "displayName": "성유기",
      "photoUrl": "",
      "userId": "01978674342265104944"
     },
     "user_tz": -540
    },
    "id": "QiB3ddk13sfk",
    "outputId": "9e28e579-4c9f-4045-c2c7-565e676dbaf0"
   },
   "outputs": [
    {
     "data": {
      "text/html": [
       "<div>\n",
       "<style scoped>\n",
       "    .dataframe tbody tr th:only-of-type {\n",
       "        vertical-align: middle;\n",
       "    }\n",
       "\n",
       "    .dataframe tbody tr th {\n",
       "        vertical-align: top;\n",
       "    }\n",
       "\n",
       "    .dataframe thead th {\n",
       "        text-align: right;\n",
       "    }\n",
       "</style>\n",
       "<table border=\"1\" class=\"dataframe\">\n",
       "  <thead>\n",
       "    <tr style=\"text-align: right;\">\n",
       "      <th></th>\n",
       "      <th>SPEC</th>\n",
       "      <th>STEEL_KIND</th>\n",
       "      <th>FUR_NO</th>\n",
       "      <th>HSB</th>\n",
       "      <th>WORK_GR</th>\n",
       "    </tr>\n",
       "  </thead>\n",
       "  <tbody>\n",
       "    <tr>\n",
       "      <th>0</th>\n",
       "      <td>AB/EH32-TM</td>\n",
       "      <td>T1</td>\n",
       "      <td>1호기</td>\n",
       "      <td>적용</td>\n",
       "      <td>2조</td>\n",
       "    </tr>\n",
       "    <tr>\n",
       "      <th>1</th>\n",
       "      <td>AB/EH32-TM</td>\n",
       "      <td>T1</td>\n",
       "      <td>1호기</td>\n",
       "      <td>적용</td>\n",
       "      <td>2조</td>\n",
       "    </tr>\n",
       "    <tr>\n",
       "      <th>2</th>\n",
       "      <td>NV-E36-TM</td>\n",
       "      <td>T8</td>\n",
       "      <td>2호기</td>\n",
       "      <td>적용</td>\n",
       "      <td>3조</td>\n",
       "    </tr>\n",
       "    <tr>\n",
       "      <th>3</th>\n",
       "      <td>NV-E36-TM</td>\n",
       "      <td>T8</td>\n",
       "      <td>2호기</td>\n",
       "      <td>적용</td>\n",
       "      <td>3조</td>\n",
       "    </tr>\n",
       "    <tr>\n",
       "      <th>4</th>\n",
       "      <td>BV-EH36-TM</td>\n",
       "      <td>T8</td>\n",
       "      <td>3호기</td>\n",
       "      <td>적용</td>\n",
       "      <td>1조</td>\n",
       "    </tr>\n",
       "  </tbody>\n",
       "</table>\n",
       "</div>"
      ],
      "text/plain": [
       "         SPEC STEEL_KIND FUR_NO HSB WORK_GR\n",
       "0  AB/EH32-TM         T1    1호기  적용      2조\n",
       "1  AB/EH32-TM         T1    1호기  적용      2조\n",
       "2   NV-E36-TM         T8    2호기  적용      3조\n",
       "3   NV-E36-TM         T8    2호기  적용      3조\n",
       "4  BV-EH36-TM         T8    3호기  적용      1조"
      ]
     },
     "execution_count": 116,
     "metadata": {},
     "output_type": "execute_result"
    }
   ],
   "source": [
    "df_char.head()"
   ]
  },
  {
   "cell_type": "code",
   "execution_count": 117,
   "metadata": {
    "colab": {
     "base_uri": "https://localhost:8080/",
     "height": 287
    },
    "executionInfo": {
     "elapsed": 990,
     "status": "ok",
     "timestamp": 1605982093683,
     "user": {
      "displayName": "성유기",
      "photoUrl": "",
      "userId": "01978674342265104944"
     },
     "user_tz": -540
    },
    "id": "jZWCmN0a3sic",
    "outputId": "ff9608a5-aae8-4d99-895e-5b91d962d98b"
   },
   "outputs": [
    {
     "data": {
      "text/html": [
       "<div>\n",
       "<style scoped>\n",
       "    .dataframe tbody tr th:only-of-type {\n",
       "        vertical-align: middle;\n",
       "    }\n",
       "\n",
       "    .dataframe tbody tr th {\n",
       "        vertical-align: top;\n",
       "    }\n",
       "\n",
       "    .dataframe thead th {\n",
       "        text-align: right;\n",
       "    }\n",
       "</style>\n",
       "<table border=\"1\" class=\"dataframe\">\n",
       "  <thead>\n",
       "    <tr style=\"text-align: right;\">\n",
       "      <th></th>\n",
       "      <th>SPEC_A131-DH36TM</th>\n",
       "      <th>SPEC_A283-C</th>\n",
       "      <th>SPEC_A516-60</th>\n",
       "      <th>SPEC_A709-36</th>\n",
       "      <th>SPEC_AB/A</th>\n",
       "      <th>SPEC_AB/AH32</th>\n",
       "      <th>SPEC_AB/B</th>\n",
       "      <th>SPEC_AB/EH32-TM</th>\n",
       "      <th>SPEC_AB/EH36-TM</th>\n",
       "      <th>SPEC_API-2W-50T</th>\n",
       "      <th>...</th>\n",
       "      <th>STEEL_KIND_T8</th>\n",
       "      <th>FUR_NO_1호기</th>\n",
       "      <th>FUR_NO_2호기</th>\n",
       "      <th>FUR_NO_3호기</th>\n",
       "      <th>HSB_미적용</th>\n",
       "      <th>HSB_적용</th>\n",
       "      <th>WORK_GR_1조</th>\n",
       "      <th>WORK_GR_2조</th>\n",
       "      <th>WORK_GR_3조</th>\n",
       "      <th>WORK_GR_4조</th>\n",
       "    </tr>\n",
       "  </thead>\n",
       "  <tbody>\n",
       "    <tr>\n",
       "      <th>0</th>\n",
       "      <td>0</td>\n",
       "      <td>0</td>\n",
       "      <td>0</td>\n",
       "      <td>0</td>\n",
       "      <td>0</td>\n",
       "      <td>0</td>\n",
       "      <td>0</td>\n",
       "      <td>1</td>\n",
       "      <td>0</td>\n",
       "      <td>0</td>\n",
       "      <td>...</td>\n",
       "      <td>0</td>\n",
       "      <td>1</td>\n",
       "      <td>0</td>\n",
       "      <td>0</td>\n",
       "      <td>0</td>\n",
       "      <td>1</td>\n",
       "      <td>0</td>\n",
       "      <td>1</td>\n",
       "      <td>0</td>\n",
       "      <td>0</td>\n",
       "    </tr>\n",
       "    <tr>\n",
       "      <th>1</th>\n",
       "      <td>0</td>\n",
       "      <td>0</td>\n",
       "      <td>0</td>\n",
       "      <td>0</td>\n",
       "      <td>0</td>\n",
       "      <td>0</td>\n",
       "      <td>0</td>\n",
       "      <td>1</td>\n",
       "      <td>0</td>\n",
       "      <td>0</td>\n",
       "      <td>...</td>\n",
       "      <td>0</td>\n",
       "      <td>1</td>\n",
       "      <td>0</td>\n",
       "      <td>0</td>\n",
       "      <td>0</td>\n",
       "      <td>1</td>\n",
       "      <td>0</td>\n",
       "      <td>1</td>\n",
       "      <td>0</td>\n",
       "      <td>0</td>\n",
       "    </tr>\n",
       "    <tr>\n",
       "      <th>2</th>\n",
       "      <td>0</td>\n",
       "      <td>0</td>\n",
       "      <td>0</td>\n",
       "      <td>0</td>\n",
       "      <td>0</td>\n",
       "      <td>0</td>\n",
       "      <td>0</td>\n",
       "      <td>0</td>\n",
       "      <td>0</td>\n",
       "      <td>0</td>\n",
       "      <td>...</td>\n",
       "      <td>1</td>\n",
       "      <td>0</td>\n",
       "      <td>1</td>\n",
       "      <td>0</td>\n",
       "      <td>0</td>\n",
       "      <td>1</td>\n",
       "      <td>0</td>\n",
       "      <td>0</td>\n",
       "      <td>1</td>\n",
       "      <td>0</td>\n",
       "    </tr>\n",
       "    <tr>\n",
       "      <th>3</th>\n",
       "      <td>0</td>\n",
       "      <td>0</td>\n",
       "      <td>0</td>\n",
       "      <td>0</td>\n",
       "      <td>0</td>\n",
       "      <td>0</td>\n",
       "      <td>0</td>\n",
       "      <td>0</td>\n",
       "      <td>0</td>\n",
       "      <td>0</td>\n",
       "      <td>...</td>\n",
       "      <td>1</td>\n",
       "      <td>0</td>\n",
       "      <td>1</td>\n",
       "      <td>0</td>\n",
       "      <td>0</td>\n",
       "      <td>1</td>\n",
       "      <td>0</td>\n",
       "      <td>0</td>\n",
       "      <td>1</td>\n",
       "      <td>0</td>\n",
       "    </tr>\n",
       "    <tr>\n",
       "      <th>4</th>\n",
       "      <td>0</td>\n",
       "      <td>0</td>\n",
       "      <td>0</td>\n",
       "      <td>0</td>\n",
       "      <td>0</td>\n",
       "      <td>0</td>\n",
       "      <td>0</td>\n",
       "      <td>0</td>\n",
       "      <td>0</td>\n",
       "      <td>0</td>\n",
       "      <td>...</td>\n",
       "      <td>1</td>\n",
       "      <td>0</td>\n",
       "      <td>0</td>\n",
       "      <td>1</td>\n",
       "      <td>0</td>\n",
       "      <td>1</td>\n",
       "      <td>1</td>\n",
       "      <td>0</td>\n",
       "      <td>0</td>\n",
       "      <td>0</td>\n",
       "    </tr>\n",
       "  </tbody>\n",
       "</table>\n",
       "<p>5 rows × 84 columns</p>\n",
       "</div>"
      ],
      "text/plain": [
       "   SPEC_A131-DH36TM  SPEC_A283-C  SPEC_A516-60  SPEC_A709-36  SPEC_AB/A  \\\n",
       "0                 0            0             0             0          0   \n",
       "1                 0            0             0             0          0   \n",
       "2                 0            0             0             0          0   \n",
       "3                 0            0             0             0          0   \n",
       "4                 0            0             0             0          0   \n",
       "\n",
       "   SPEC_AB/AH32  SPEC_AB/B  SPEC_AB/EH32-TM  SPEC_AB/EH36-TM  SPEC_API-2W-50T  \\\n",
       "0             0          0                1                0                0   \n",
       "1             0          0                1                0                0   \n",
       "2             0          0                0                0                0   \n",
       "3             0          0                0                0                0   \n",
       "4             0          0                0                0                0   \n",
       "\n",
       "   ...  STEEL_KIND_T8  FUR_NO_1호기  FUR_NO_2호기  FUR_NO_3호기  HSB_미적용  HSB_적용  \\\n",
       "0  ...              0           1           0           0        0       1   \n",
       "1  ...              0           1           0           0        0       1   \n",
       "2  ...              1           0           1           0        0       1   \n",
       "3  ...              1           0           1           0        0       1   \n",
       "4  ...              1           0           0           1        0       1   \n",
       "\n",
       "   WORK_GR_1조  WORK_GR_2조  WORK_GR_3조  WORK_GR_4조  \n",
       "0           0           1           0           0  \n",
       "1           0           1           0           0  \n",
       "2           0           0           1           0  \n",
       "3           0           0           1           0  \n",
       "4           1           0           0           0  \n",
       "\n",
       "[5 rows x 84 columns]"
      ]
     },
     "execution_count": 117,
     "metadata": {},
     "output_type": "execute_result"
    }
   ],
   "source": [
    "df_char = pd.get_dummies(df_char)\n",
    "df_char.head()"
   ]
  },
  {
   "cell_type": "code",
   "execution_count": 118,
   "metadata": {
    "colab": {
     "base_uri": "https://localhost:8080/",
     "height": 224
    },
    "executionInfo": {
     "elapsed": 962,
     "status": "ok",
     "timestamp": 1605982096965,
     "user": {
      "displayName": "성유기",
      "photoUrl": "",
      "userId": "01978674342265104944"
     },
     "user_tz": -540
    },
    "id": "0mPPAnjW3slR",
    "outputId": "b9591191-2c28-4a90-e9d3-5e5bbc853b90",
    "scrolled": false
   },
   "outputs": [
    {
     "data": {
      "text/html": [
       "<div>\n",
       "<style scoped>\n",
       "    .dataframe tbody tr th:only-of-type {\n",
       "        vertical-align: middle;\n",
       "    }\n",
       "\n",
       "    .dataframe tbody tr th {\n",
       "        vertical-align: top;\n",
       "    }\n",
       "\n",
       "    .dataframe thead th {\n",
       "        text-align: right;\n",
       "    }\n",
       "</style>\n",
       "<table border=\"1\" class=\"dataframe\">\n",
       "  <thead>\n",
       "    <tr style=\"text-align: right;\">\n",
       "      <th></th>\n",
       "      <th>PT_THK</th>\n",
       "      <th>PT_WDTH</th>\n",
       "      <th>PT_LTH</th>\n",
       "      <th>PT_WGT</th>\n",
       "      <th>FUR_NO_ROW</th>\n",
       "      <th>FUR_HZ_TEMP</th>\n",
       "      <th>FUR_HZ_TIME</th>\n",
       "      <th>FUR_SZ_TEMP</th>\n",
       "      <th>FUR_SZ_TIME</th>\n",
       "      <th>FUR_TIME</th>\n",
       "      <th>FUR_EXTEMP</th>\n",
       "      <th>ROLLING_TEMP_T5</th>\n",
       "      <th>ROLLING_DESCALING</th>\n",
       "    </tr>\n",
       "  </thead>\n",
       "  <tbody>\n",
       "    <tr>\n",
       "      <th>0</th>\n",
       "      <td>32.25</td>\n",
       "      <td>3707</td>\n",
       "      <td>15109</td>\n",
       "      <td>14180</td>\n",
       "      <td>1</td>\n",
       "      <td>1144</td>\n",
       "      <td>116</td>\n",
       "      <td>1133</td>\n",
       "      <td>59</td>\n",
       "      <td>282</td>\n",
       "      <td>1133</td>\n",
       "      <td>934</td>\n",
       "      <td>8</td>\n",
       "    </tr>\n",
       "    <tr>\n",
       "      <th>1</th>\n",
       "      <td>32.25</td>\n",
       "      <td>3707</td>\n",
       "      <td>15109</td>\n",
       "      <td>14180</td>\n",
       "      <td>2</td>\n",
       "      <td>1144</td>\n",
       "      <td>122</td>\n",
       "      <td>1135</td>\n",
       "      <td>53</td>\n",
       "      <td>283</td>\n",
       "      <td>1135</td>\n",
       "      <td>937</td>\n",
       "      <td>8</td>\n",
       "    </tr>\n",
       "    <tr>\n",
       "      <th>2</th>\n",
       "      <td>33.27</td>\n",
       "      <td>3619</td>\n",
       "      <td>19181</td>\n",
       "      <td>18130</td>\n",
       "      <td>1</td>\n",
       "      <td>1129</td>\n",
       "      <td>116</td>\n",
       "      <td>1121</td>\n",
       "      <td>55</td>\n",
       "      <td>282</td>\n",
       "      <td>1121</td>\n",
       "      <td>889</td>\n",
       "      <td>8</td>\n",
       "    </tr>\n",
       "    <tr>\n",
       "      <th>3</th>\n",
       "      <td>33.27</td>\n",
       "      <td>3619</td>\n",
       "      <td>19181</td>\n",
       "      <td>18130</td>\n",
       "      <td>2</td>\n",
       "      <td>1152</td>\n",
       "      <td>125</td>\n",
       "      <td>1127</td>\n",
       "      <td>68</td>\n",
       "      <td>316</td>\n",
       "      <td>1127</td>\n",
       "      <td>885</td>\n",
       "      <td>8</td>\n",
       "    </tr>\n",
       "    <tr>\n",
       "      <th>4</th>\n",
       "      <td>38.33</td>\n",
       "      <td>3098</td>\n",
       "      <td>13334</td>\n",
       "      <td>12430</td>\n",
       "      <td>1</td>\n",
       "      <td>1140</td>\n",
       "      <td>134</td>\n",
       "      <td>1128</td>\n",
       "      <td>48</td>\n",
       "      <td>314</td>\n",
       "      <td>1128</td>\n",
       "      <td>873</td>\n",
       "      <td>8</td>\n",
       "    </tr>\n",
       "  </tbody>\n",
       "</table>\n",
       "</div>"
      ],
      "text/plain": [
       "   PT_THK  PT_WDTH  PT_LTH  PT_WGT  FUR_NO_ROW  FUR_HZ_TEMP  FUR_HZ_TIME  \\\n",
       "0   32.25     3707   15109   14180           1         1144          116   \n",
       "1   32.25     3707   15109   14180           2         1144          122   \n",
       "2   33.27     3619   19181   18130           1         1129          116   \n",
       "3   33.27     3619   19181   18130           2         1152          125   \n",
       "4   38.33     3098   13334   12430           1         1140          134   \n",
       "\n",
       "   FUR_SZ_TEMP  FUR_SZ_TIME  FUR_TIME  FUR_EXTEMP  ROLLING_TEMP_T5  \\\n",
       "0         1133           59       282        1133              934   \n",
       "1         1135           53       283        1135              937   \n",
       "2         1121           55       282        1121              889   \n",
       "3         1127           68       316        1127              885   \n",
       "4         1128           48       314        1128              873   \n",
       "\n",
       "   ROLLING_DESCALING  \n",
       "0                  8  \n",
       "1                  8  \n",
       "2                  8  \n",
       "3                  8  \n",
       "4                  8  "
      ]
     },
     "execution_count": 118,
     "metadata": {},
     "output_type": "execute_result"
    }
   ],
   "source": [
    "df_numeric.head()"
   ]
  },
  {
   "cell_type": "code",
   "execution_count": 119,
   "metadata": {},
   "outputs": [
    {
     "data": {
      "text/html": [
       "<div>\n",
       "<style scoped>\n",
       "    .dataframe tbody tr th:only-of-type {\n",
       "        vertical-align: middle;\n",
       "    }\n",
       "\n",
       "    .dataframe tbody tr th {\n",
       "        vertical-align: top;\n",
       "    }\n",
       "\n",
       "    .dataframe thead th {\n",
       "        text-align: right;\n",
       "    }\n",
       "</style>\n",
       "<table border=\"1\" class=\"dataframe\">\n",
       "  <thead>\n",
       "    <tr style=\"text-align: right;\">\n",
       "      <th></th>\n",
       "      <th>SPEC</th>\n",
       "      <th>STEEL_KIND</th>\n",
       "      <th>PT_THK</th>\n",
       "      <th>PT_WDTH</th>\n",
       "      <th>PT_LTH</th>\n",
       "      <th>PT_WGT</th>\n",
       "      <th>FUR_NO</th>\n",
       "      <th>FUR_NO_ROW</th>\n",
       "      <th>FUR_HZ_TEMP</th>\n",
       "      <th>FUR_HZ_TIME</th>\n",
       "      <th>FUR_SZ_TEMP</th>\n",
       "      <th>FUR_SZ_TIME</th>\n",
       "      <th>FUR_TIME</th>\n",
       "      <th>FUR_EXTEMP</th>\n",
       "      <th>ROLLING_TEMP_T5</th>\n",
       "      <th>HSB</th>\n",
       "      <th>ROLLING_DESCALING</th>\n",
       "      <th>WORK_GR</th>\n",
       "    </tr>\n",
       "  </thead>\n",
       "  <tbody>\n",
       "    <tr>\n",
       "      <th>0</th>\n",
       "      <td>AB/EH32-TM</td>\n",
       "      <td>T1</td>\n",
       "      <td>32.25</td>\n",
       "      <td>3707</td>\n",
       "      <td>15109</td>\n",
       "      <td>14180</td>\n",
       "      <td>1호기</td>\n",
       "      <td>1</td>\n",
       "      <td>1144</td>\n",
       "      <td>116</td>\n",
       "      <td>1133</td>\n",
       "      <td>59</td>\n",
       "      <td>282</td>\n",
       "      <td>1133</td>\n",
       "      <td>934</td>\n",
       "      <td>적용</td>\n",
       "      <td>8</td>\n",
       "      <td>2조</td>\n",
       "    </tr>\n",
       "    <tr>\n",
       "      <th>1</th>\n",
       "      <td>AB/EH32-TM</td>\n",
       "      <td>T1</td>\n",
       "      <td>32.25</td>\n",
       "      <td>3707</td>\n",
       "      <td>15109</td>\n",
       "      <td>14180</td>\n",
       "      <td>1호기</td>\n",
       "      <td>2</td>\n",
       "      <td>1144</td>\n",
       "      <td>122</td>\n",
       "      <td>1135</td>\n",
       "      <td>53</td>\n",
       "      <td>283</td>\n",
       "      <td>1135</td>\n",
       "      <td>937</td>\n",
       "      <td>적용</td>\n",
       "      <td>8</td>\n",
       "      <td>2조</td>\n",
       "    </tr>\n",
       "    <tr>\n",
       "      <th>2</th>\n",
       "      <td>NV-E36-TM</td>\n",
       "      <td>T8</td>\n",
       "      <td>33.27</td>\n",
       "      <td>3619</td>\n",
       "      <td>19181</td>\n",
       "      <td>18130</td>\n",
       "      <td>2호기</td>\n",
       "      <td>1</td>\n",
       "      <td>1129</td>\n",
       "      <td>116</td>\n",
       "      <td>1121</td>\n",
       "      <td>55</td>\n",
       "      <td>282</td>\n",
       "      <td>1121</td>\n",
       "      <td>889</td>\n",
       "      <td>적용</td>\n",
       "      <td>8</td>\n",
       "      <td>3조</td>\n",
       "    </tr>\n",
       "    <tr>\n",
       "      <th>3</th>\n",
       "      <td>NV-E36-TM</td>\n",
       "      <td>T8</td>\n",
       "      <td>33.27</td>\n",
       "      <td>3619</td>\n",
       "      <td>19181</td>\n",
       "      <td>18130</td>\n",
       "      <td>2호기</td>\n",
       "      <td>2</td>\n",
       "      <td>1152</td>\n",
       "      <td>125</td>\n",
       "      <td>1127</td>\n",
       "      <td>68</td>\n",
       "      <td>316</td>\n",
       "      <td>1127</td>\n",
       "      <td>885</td>\n",
       "      <td>적용</td>\n",
       "      <td>8</td>\n",
       "      <td>3조</td>\n",
       "    </tr>\n",
       "    <tr>\n",
       "      <th>4</th>\n",
       "      <td>BV-EH36-TM</td>\n",
       "      <td>T8</td>\n",
       "      <td>38.33</td>\n",
       "      <td>3098</td>\n",
       "      <td>13334</td>\n",
       "      <td>12430</td>\n",
       "      <td>3호기</td>\n",
       "      <td>1</td>\n",
       "      <td>1140</td>\n",
       "      <td>134</td>\n",
       "      <td>1128</td>\n",
       "      <td>48</td>\n",
       "      <td>314</td>\n",
       "      <td>1128</td>\n",
       "      <td>873</td>\n",
       "      <td>적용</td>\n",
       "      <td>8</td>\n",
       "      <td>1조</td>\n",
       "    </tr>\n",
       "    <tr>\n",
       "      <th>...</th>\n",
       "      <td>...</td>\n",
       "      <td>...</td>\n",
       "      <td>...</td>\n",
       "      <td>...</td>\n",
       "      <td>...</td>\n",
       "      <td>...</td>\n",
       "      <td>...</td>\n",
       "      <td>...</td>\n",
       "      <td>...</td>\n",
       "      <td>...</td>\n",
       "      <td>...</td>\n",
       "      <td>...</td>\n",
       "      <td>...</td>\n",
       "      <td>...</td>\n",
       "      <td>...</td>\n",
       "      <td>...</td>\n",
       "      <td>...</td>\n",
       "      <td>...</td>\n",
       "    </tr>\n",
       "    <tr>\n",
       "      <th>715</th>\n",
       "      <td>NK-KA</td>\n",
       "      <td>C0</td>\n",
       "      <td>20.14</td>\n",
       "      <td>3580</td>\n",
       "      <td>38639</td>\n",
       "      <td>21870</td>\n",
       "      <td>3호기</td>\n",
       "      <td>1</td>\n",
       "      <td>1172</td>\n",
       "      <td>72</td>\n",
       "      <td>1164</td>\n",
       "      <td>62</td>\n",
       "      <td>245</td>\n",
       "      <td>1164</td>\n",
       "      <td>1005</td>\n",
       "      <td>적용</td>\n",
       "      <td>8</td>\n",
       "      <td>2조</td>\n",
       "    </tr>\n",
       "    <tr>\n",
       "      <th>716</th>\n",
       "      <td>NV-A32</td>\n",
       "      <td>C0</td>\n",
       "      <td>15.08</td>\n",
       "      <td>3212</td>\n",
       "      <td>48233</td>\n",
       "      <td>18340</td>\n",
       "      <td>2호기</td>\n",
       "      <td>1</td>\n",
       "      <td>1150</td>\n",
       "      <td>61</td>\n",
       "      <td>1169</td>\n",
       "      <td>61</td>\n",
       "      <td>238</td>\n",
       "      <td>1169</td>\n",
       "      <td>947</td>\n",
       "      <td>적용</td>\n",
       "      <td>10</td>\n",
       "      <td>1조</td>\n",
       "    </tr>\n",
       "    <tr>\n",
       "      <th>717</th>\n",
       "      <td>NV-A32</td>\n",
       "      <td>C0</td>\n",
       "      <td>16.60</td>\n",
       "      <td>3441</td>\n",
       "      <td>43688</td>\n",
       "      <td>19590</td>\n",
       "      <td>2호기</td>\n",
       "      <td>2</td>\n",
       "      <td>1169</td>\n",
       "      <td>65</td>\n",
       "      <td>1163</td>\n",
       "      <td>77</td>\n",
       "      <td>247</td>\n",
       "      <td>1163</td>\n",
       "      <td>948</td>\n",
       "      <td>적용</td>\n",
       "      <td>10</td>\n",
       "      <td>4조</td>\n",
       "    </tr>\n",
       "    <tr>\n",
       "      <th>718</th>\n",
       "      <td>LR-A</td>\n",
       "      <td>C0</td>\n",
       "      <td>15.59</td>\n",
       "      <td>3363</td>\n",
       "      <td>48740</td>\n",
       "      <td>80240</td>\n",
       "      <td>3호기</td>\n",
       "      <td>2</td>\n",
       "      <td>1179</td>\n",
       "      <td>86</td>\n",
       "      <td>1163</td>\n",
       "      <td>45</td>\n",
       "      <td>243</td>\n",
       "      <td>1163</td>\n",
       "      <td>940</td>\n",
       "      <td>적용</td>\n",
       "      <td>10</td>\n",
       "      <td>2조</td>\n",
       "    </tr>\n",
       "    <tr>\n",
       "      <th>719</th>\n",
       "      <td>GL-A32</td>\n",
       "      <td>C0</td>\n",
       "      <td>16.09</td>\n",
       "      <td>3400</td>\n",
       "      <td>54209</td>\n",
       "      <td>69840</td>\n",
       "      <td>3호기</td>\n",
       "      <td>1</td>\n",
       "      <td>1186</td>\n",
       "      <td>82</td>\n",
       "      <td>1169</td>\n",
       "      <td>45</td>\n",
       "      <td>239</td>\n",
       "      <td>1169</td>\n",
       "      <td>957</td>\n",
       "      <td>적용</td>\n",
       "      <td>10</td>\n",
       "      <td>2조</td>\n",
       "    </tr>\n",
       "  </tbody>\n",
       "</table>\n",
       "<p>712 rows × 18 columns</p>\n",
       "</div>"
      ],
      "text/plain": [
       "           SPEC STEEL_KIND  PT_THK  PT_WDTH  PT_LTH  PT_WGT FUR_NO  \\\n",
       "0    AB/EH32-TM         T1   32.25     3707   15109   14180    1호기   \n",
       "1    AB/EH32-TM         T1   32.25     3707   15109   14180    1호기   \n",
       "2     NV-E36-TM         T8   33.27     3619   19181   18130    2호기   \n",
       "3     NV-E36-TM         T8   33.27     3619   19181   18130    2호기   \n",
       "4    BV-EH36-TM         T8   38.33     3098   13334   12430    3호기   \n",
       "..          ...        ...     ...      ...     ...     ...    ...   \n",
       "715       NK-KA         C0   20.14     3580   38639   21870    3호기   \n",
       "716      NV-A32         C0   15.08     3212   48233   18340    2호기   \n",
       "717      NV-A32         C0   16.60     3441   43688   19590    2호기   \n",
       "718        LR-A         C0   15.59     3363   48740   80240    3호기   \n",
       "719      GL-A32         C0   16.09     3400   54209   69840    3호기   \n",
       "\n",
       "     FUR_NO_ROW  FUR_HZ_TEMP  FUR_HZ_TIME  FUR_SZ_TEMP  FUR_SZ_TIME  FUR_TIME  \\\n",
       "0             1         1144          116         1133           59       282   \n",
       "1             2         1144          122         1135           53       283   \n",
       "2             1         1129          116         1121           55       282   \n",
       "3             2         1152          125         1127           68       316   \n",
       "4             1         1140          134         1128           48       314   \n",
       "..          ...          ...          ...          ...          ...       ...   \n",
       "715           1         1172           72         1164           62       245   \n",
       "716           1         1150           61         1169           61       238   \n",
       "717           2         1169           65         1163           77       247   \n",
       "718           2         1179           86         1163           45       243   \n",
       "719           1         1186           82         1169           45       239   \n",
       "\n",
       "     FUR_EXTEMP  ROLLING_TEMP_T5 HSB  ROLLING_DESCALING WORK_GR  \n",
       "0          1133              934  적용                  8      2조  \n",
       "1          1135              937  적용                  8      2조  \n",
       "2          1121              889  적용                  8      3조  \n",
       "3          1127              885  적용                  8      3조  \n",
       "4          1128              873  적용                  8      1조  \n",
       "..          ...              ...  ..                ...     ...  \n",
       "715        1164             1005  적용                  8      2조  \n",
       "716        1169              947  적용                 10      1조  \n",
       "717        1163              948  적용                 10      4조  \n",
       "718        1163              940  적용                 10      2조  \n",
       "719        1169              957  적용                 10      2조  \n",
       "\n",
       "[712 rows x 18 columns]"
      ]
     },
     "execution_count": 119,
     "metadata": {},
     "output_type": "execute_result"
    }
   ],
   "source": [
    "df_raw_x"
   ]
  },
  {
   "cell_type": "code",
   "execution_count": null,
   "metadata": {},
   "outputs": [],
   "source": []
  },
  {
   "cell_type": "code",
   "execution_count": 120,
   "metadata": {
    "colab": {
     "base_uri": "https://localhost:8080/",
     "height": 473
    },
    "executionInfo": {
     "elapsed": 924,
     "status": "ok",
     "timestamp": 1605982099820,
     "user": {
      "displayName": "성유기",
      "photoUrl": "",
      "userId": "01978674342265104944"
     },
     "user_tz": -540
    },
    "id": "2P3pVDoF3soQ",
    "outputId": "d4ba19e3-98db-457f-8681-ced3f6f4a897",
    "scrolled": true
   },
   "outputs": [
    {
     "data": {
      "text/html": [
       "<div>\n",
       "<style scoped>\n",
       "    .dataframe tbody tr th:only-of-type {\n",
       "        vertical-align: middle;\n",
       "    }\n",
       "\n",
       "    .dataframe tbody tr th {\n",
       "        vertical-align: top;\n",
       "    }\n",
       "\n",
       "    .dataframe thead th {\n",
       "        text-align: right;\n",
       "    }\n",
       "</style>\n",
       "<table border=\"1\" class=\"dataframe\">\n",
       "  <thead>\n",
       "    <tr style=\"text-align: right;\">\n",
       "      <th></th>\n",
       "      <th>PT_THK</th>\n",
       "      <th>PT_WDTH</th>\n",
       "      <th>PT_LTH</th>\n",
       "      <th>PT_WGT</th>\n",
       "      <th>FUR_NO_ROW</th>\n",
       "      <th>FUR_HZ_TEMP</th>\n",
       "      <th>FUR_HZ_TIME</th>\n",
       "      <th>FUR_SZ_TEMP</th>\n",
       "      <th>FUR_SZ_TIME</th>\n",
       "      <th>FUR_TIME</th>\n",
       "      <th>...</th>\n",
       "      <th>STEEL_KIND_T8</th>\n",
       "      <th>FUR_NO_1호기</th>\n",
       "      <th>FUR_NO_2호기</th>\n",
       "      <th>FUR_NO_3호기</th>\n",
       "      <th>HSB_미적용</th>\n",
       "      <th>HSB_적용</th>\n",
       "      <th>WORK_GR_1조</th>\n",
       "      <th>WORK_GR_2조</th>\n",
       "      <th>WORK_GR_3조</th>\n",
       "      <th>WORK_GR_4조</th>\n",
       "    </tr>\n",
       "  </thead>\n",
       "  <tbody>\n",
       "    <tr>\n",
       "      <th>0</th>\n",
       "      <td>0.163677</td>\n",
       "      <td>1.737667</td>\n",
       "      <td>-1.396597</td>\n",
       "      <td>-1.100508</td>\n",
       "      <td>-0.997195</td>\n",
       "      <td>-0.551885</td>\n",
       "      <td>0.780852</td>\n",
       "      <td>-0.957807</td>\n",
       "      <td>-0.545175</td>\n",
       "      <td>-0.399029</td>\n",
       "      <td>...</td>\n",
       "      <td>0</td>\n",
       "      <td>1</td>\n",
       "      <td>0</td>\n",
       "      <td>0</td>\n",
       "      <td>0</td>\n",
       "      <td>1</td>\n",
       "      <td>0</td>\n",
       "      <td>1</td>\n",
       "      <td>0</td>\n",
       "      <td>0</td>\n",
       "    </tr>\n",
       "    <tr>\n",
       "      <th>1</th>\n",
       "      <td>0.163677</td>\n",
       "      <td>1.737667</td>\n",
       "      <td>-1.396597</td>\n",
       "      <td>-1.100508</td>\n",
       "      <td>1.002813</td>\n",
       "      <td>-0.551885</td>\n",
       "      <td>0.947826</td>\n",
       "      <td>-0.843653</td>\n",
       "      <td>-0.709246</td>\n",
       "      <td>-0.376942</td>\n",
       "      <td>...</td>\n",
       "      <td>0</td>\n",
       "      <td>1</td>\n",
       "      <td>0</td>\n",
       "      <td>0</td>\n",
       "      <td>0</td>\n",
       "      <td>1</td>\n",
       "      <td>0</td>\n",
       "      <td>1</td>\n",
       "      <td>0</td>\n",
       "      <td>0</td>\n",
       "    </tr>\n",
       "    <tr>\n",
       "      <th>2</th>\n",
       "      <td>0.217366</td>\n",
       "      <td>1.567297</td>\n",
       "      <td>-1.101221</td>\n",
       "      <td>-0.941291</td>\n",
       "      <td>-0.997195</td>\n",
       "      <td>-1.271558</td>\n",
       "      <td>0.780852</td>\n",
       "      <td>-1.642734</td>\n",
       "      <td>-0.654556</td>\n",
       "      <td>-0.399029</td>\n",
       "      <td>...</td>\n",
       "      <td>1</td>\n",
       "      <td>0</td>\n",
       "      <td>1</td>\n",
       "      <td>0</td>\n",
       "      <td>0</td>\n",
       "      <td>1</td>\n",
       "      <td>0</td>\n",
       "      <td>0</td>\n",
       "      <td>1</td>\n",
       "      <td>0</td>\n",
       "    </tr>\n",
       "    <tr>\n",
       "      <th>3</th>\n",
       "      <td>0.217366</td>\n",
       "      <td>1.567297</td>\n",
       "      <td>-1.101221</td>\n",
       "      <td>-0.941291</td>\n",
       "      <td>1.002813</td>\n",
       "      <td>-0.168059</td>\n",
       "      <td>1.031313</td>\n",
       "      <td>-1.300270</td>\n",
       "      <td>-0.299068</td>\n",
       "      <td>0.351939</td>\n",
       "      <td>...</td>\n",
       "      <td>1</td>\n",
       "      <td>0</td>\n",
       "      <td>1</td>\n",
       "      <td>0</td>\n",
       "      <td>0</td>\n",
       "      <td>1</td>\n",
       "      <td>0</td>\n",
       "      <td>0</td>\n",
       "      <td>1</td>\n",
       "      <td>0</td>\n",
       "    </tr>\n",
       "    <tr>\n",
       "      <th>4</th>\n",
       "      <td>0.483704</td>\n",
       "      <td>0.558629</td>\n",
       "      <td>-1.525352</td>\n",
       "      <td>-1.171047</td>\n",
       "      <td>-0.997195</td>\n",
       "      <td>-0.743798</td>\n",
       "      <td>1.281773</td>\n",
       "      <td>-1.243193</td>\n",
       "      <td>-0.845972</td>\n",
       "      <td>0.307764</td>\n",
       "      <td>...</td>\n",
       "      <td>1</td>\n",
       "      <td>0</td>\n",
       "      <td>0</td>\n",
       "      <td>1</td>\n",
       "      <td>0</td>\n",
       "      <td>1</td>\n",
       "      <td>1</td>\n",
       "      <td>0</td>\n",
       "      <td>0</td>\n",
       "      <td>0</td>\n",
       "    </tr>\n",
       "    <tr>\n",
       "      <th>...</th>\n",
       "      <td>...</td>\n",
       "      <td>...</td>\n",
       "      <td>...</td>\n",
       "      <td>...</td>\n",
       "      <td>...</td>\n",
       "      <td>...</td>\n",
       "      <td>...</td>\n",
       "      <td>...</td>\n",
       "      <td>...</td>\n",
       "      <td>...</td>\n",
       "      <td>...</td>\n",
       "      <td>...</td>\n",
       "      <td>...</td>\n",
       "      <td>...</td>\n",
       "      <td>...</td>\n",
       "      <td>...</td>\n",
       "      <td>...</td>\n",
       "      <td>...</td>\n",
       "      <td>...</td>\n",
       "      <td>...</td>\n",
       "      <td>...</td>\n",
       "    </tr>\n",
       "    <tr>\n",
       "      <th>707</th>\n",
       "      <td>-0.473746</td>\n",
       "      <td>1.491792</td>\n",
       "      <td>0.310228</td>\n",
       "      <td>-0.790538</td>\n",
       "      <td>-0.997195</td>\n",
       "      <td>0.791506</td>\n",
       "      <td>-0.443622</td>\n",
       "      <td>0.811587</td>\n",
       "      <td>-0.463139</td>\n",
       "      <td>-1.216260</td>\n",
       "      <td>...</td>\n",
       "      <td>0</td>\n",
       "      <td>0</td>\n",
       "      <td>0</td>\n",
       "      <td>1</td>\n",
       "      <td>0</td>\n",
       "      <td>1</td>\n",
       "      <td>0</td>\n",
       "      <td>1</td>\n",
       "      <td>0</td>\n",
       "      <td>0</td>\n",
       "    </tr>\n",
       "    <tr>\n",
       "      <th>708</th>\n",
       "      <td>-0.740084</td>\n",
       "      <td>0.779336</td>\n",
       "      <td>1.006160</td>\n",
       "      <td>-0.932826</td>\n",
       "      <td>-0.997195</td>\n",
       "      <td>-0.264015</td>\n",
       "      <td>-0.749740</td>\n",
       "      <td>1.096973</td>\n",
       "      <td>-0.490485</td>\n",
       "      <td>-1.370871</td>\n",
       "      <td>...</td>\n",
       "      <td>0</td>\n",
       "      <td>0</td>\n",
       "      <td>1</td>\n",
       "      <td>0</td>\n",
       "      <td>0</td>\n",
       "      <td>1</td>\n",
       "      <td>1</td>\n",
       "      <td>0</td>\n",
       "      <td>0</td>\n",
       "      <td>0</td>\n",
       "    </tr>\n",
       "    <tr>\n",
       "      <th>709</th>\n",
       "      <td>-0.660077</td>\n",
       "      <td>1.222685</td>\n",
       "      <td>0.676473</td>\n",
       "      <td>-0.882441</td>\n",
       "      <td>1.002813</td>\n",
       "      <td>0.647572</td>\n",
       "      <td>-0.638424</td>\n",
       "      <td>0.754509</td>\n",
       "      <td>-0.052962</td>\n",
       "      <td>-1.172085</td>\n",
       "      <td>...</td>\n",
       "      <td>0</td>\n",
       "      <td>0</td>\n",
       "      <td>1</td>\n",
       "      <td>0</td>\n",
       "      <td>0</td>\n",
       "      <td>1</td>\n",
       "      <td>0</td>\n",
       "      <td>0</td>\n",
       "      <td>0</td>\n",
       "      <td>1</td>\n",
       "    </tr>\n",
       "    <tr>\n",
       "      <th>710</th>\n",
       "      <td>-0.713240</td>\n",
       "      <td>1.071675</td>\n",
       "      <td>1.042936</td>\n",
       "      <td>1.562252</td>\n",
       "      <td>1.002813</td>\n",
       "      <td>1.127354</td>\n",
       "      <td>-0.054016</td>\n",
       "      <td>0.754509</td>\n",
       "      <td>-0.928007</td>\n",
       "      <td>-1.260434</td>\n",
       "      <td>...</td>\n",
       "      <td>0</td>\n",
       "      <td>0</td>\n",
       "      <td>0</td>\n",
       "      <td>1</td>\n",
       "      <td>0</td>\n",
       "      <td>1</td>\n",
       "      <td>0</td>\n",
       "      <td>1</td>\n",
       "      <td>0</td>\n",
       "      <td>0</td>\n",
       "    </tr>\n",
       "    <tr>\n",
       "      <th>711</th>\n",
       "      <td>-0.686922</td>\n",
       "      <td>1.143308</td>\n",
       "      <td>1.439648</td>\n",
       "      <td>1.143047</td>\n",
       "      <td>-0.997195</td>\n",
       "      <td>1.463202</td>\n",
       "      <td>-0.165332</td>\n",
       "      <td>1.096973</td>\n",
       "      <td>-0.928007</td>\n",
       "      <td>-1.348784</td>\n",
       "      <td>...</td>\n",
       "      <td>0</td>\n",
       "      <td>0</td>\n",
       "      <td>0</td>\n",
       "      <td>1</td>\n",
       "      <td>0</td>\n",
       "      <td>1</td>\n",
       "      <td>0</td>\n",
       "      <td>1</td>\n",
       "      <td>0</td>\n",
       "      <td>0</td>\n",
       "    </tr>\n",
       "  </tbody>\n",
       "</table>\n",
       "<p>712 rows × 97 columns</p>\n",
       "</div>"
      ],
      "text/plain": [
       "       PT_THK   PT_WDTH    PT_LTH    PT_WGT  FUR_NO_ROW  FUR_HZ_TEMP  \\\n",
       "0    0.163677  1.737667 -1.396597 -1.100508   -0.997195    -0.551885   \n",
       "1    0.163677  1.737667 -1.396597 -1.100508    1.002813    -0.551885   \n",
       "2    0.217366  1.567297 -1.101221 -0.941291   -0.997195    -1.271558   \n",
       "3    0.217366  1.567297 -1.101221 -0.941291    1.002813    -0.168059   \n",
       "4    0.483704  0.558629 -1.525352 -1.171047   -0.997195    -0.743798   \n",
       "..        ...       ...       ...       ...         ...          ...   \n",
       "707 -0.473746  1.491792  0.310228 -0.790538   -0.997195     0.791506   \n",
       "708 -0.740084  0.779336  1.006160 -0.932826   -0.997195    -0.264015   \n",
       "709 -0.660077  1.222685  0.676473 -0.882441    1.002813     0.647572   \n",
       "710 -0.713240  1.071675  1.042936  1.562252    1.002813     1.127354   \n",
       "711 -0.686922  1.143308  1.439648  1.143047   -0.997195     1.463202   \n",
       "\n",
       "     FUR_HZ_TIME  FUR_SZ_TEMP  FUR_SZ_TIME  FUR_TIME  ...  STEEL_KIND_T8  \\\n",
       "0       0.780852    -0.957807    -0.545175 -0.399029  ...              0   \n",
       "1       0.947826    -0.843653    -0.709246 -0.376942  ...              0   \n",
       "2       0.780852    -1.642734    -0.654556 -0.399029  ...              1   \n",
       "3       1.031313    -1.300270    -0.299068  0.351939  ...              1   \n",
       "4       1.281773    -1.243193    -0.845972  0.307764  ...              1   \n",
       "..           ...          ...          ...       ...  ...            ...   \n",
       "707    -0.443622     0.811587    -0.463139 -1.216260  ...              0   \n",
       "708    -0.749740     1.096973    -0.490485 -1.370871  ...              0   \n",
       "709    -0.638424     0.754509    -0.052962 -1.172085  ...              0   \n",
       "710    -0.054016     0.754509    -0.928007 -1.260434  ...              0   \n",
       "711    -0.165332     1.096973    -0.928007 -1.348784  ...              0   \n",
       "\n",
       "     FUR_NO_1호기  FUR_NO_2호기  FUR_NO_3호기  HSB_미적용  HSB_적용  WORK_GR_1조  \\\n",
       "0             1           0           0        0       1           0   \n",
       "1             1           0           0        0       1           0   \n",
       "2             0           1           0        0       1           0   \n",
       "3             0           1           0        0       1           0   \n",
       "4             0           0           1        0       1           1   \n",
       "..          ...         ...         ...      ...     ...         ...   \n",
       "707           0           0           1        0       1           0   \n",
       "708           0           1           0        0       1           1   \n",
       "709           0           1           0        0       1           0   \n",
       "710           0           0           1        0       1           0   \n",
       "711           0           0           1        0       1           0   \n",
       "\n",
       "     WORK_GR_2조  WORK_GR_3조  WORK_GR_4조  \n",
       "0             1           0           0  \n",
       "1             1           0           0  \n",
       "2             0           1           0  \n",
       "3             0           1           0  \n",
       "4             0           0           0  \n",
       "..          ...         ...         ...  \n",
       "707           1           0           0  \n",
       "708           0           0           0  \n",
       "709           0           0           1  \n",
       "710           1           0           0  \n",
       "711           1           0           0  \n",
       "\n",
       "[712 rows x 97 columns]"
      ]
     },
     "execution_count": 120,
     "metadata": {},
     "output_type": "execute_result"
    }
   ],
   "source": [
    "scaler = StandardScaler()\n",
    "np_numeric_scaled = scaler.fit_transform(df_numeric)\n",
    "df_numeric_scaled = pd.DataFrame(np_numeric_scaled, columns = df_numeric.columns)\n",
    "df_scaled = pd.concat([df_numeric_scaled, df_char], axis = 1)\n",
    "df_scaled.head()\n",
    "df_scaled"
   ]
  },
  {
   "cell_type": "code",
   "execution_count": 121,
   "metadata": {
    "colab": {
     "base_uri": "https://localhost:8080/"
    },
    "executionInfo": {
     "elapsed": 928,
     "status": "ok",
     "timestamp": 1605982103584,
     "user": {
      "displayName": "성유기",
      "photoUrl": "",
      "userId": "01978674342265104944"
     },
     "user_tz": -540
    },
    "id": "psrKllq43sq3",
    "outputId": "9d2f1d31-62f7-446f-c366-55f46fb741af"
   },
   "outputs": [
    {
     "data": {
      "text/plain": [
       "0    0\n",
       "1    0\n",
       "2    0\n",
       "3    0\n",
       "4    0\n",
       "Name: SCALE, dtype: int32"
      ]
     },
     "execution_count": 121,
     "metadata": {},
     "output_type": "execute_result"
    }
   ],
   "source": [
    "#scale을 0과 1의 값을 가진 int형으로 변환\n",
    "df_raw_y = (df_raw_y == \"불량\").astype(int)\n",
    "df_raw_y.head()"
   ]
  },
  {
   "cell_type": "code",
   "execution_count": 122,
   "metadata": {
    "colab": {
     "base_uri": "https://localhost:8080/"
    },
    "executionInfo": {
     "elapsed": 610,
     "status": "ok",
     "timestamp": 1605982105124,
     "user": {
      "displayName": "성유기",
      "photoUrl": "",
      "userId": "01978674342265104944"
     },
     "user_tz": -540
    },
    "id": "E2kDW4Nu3swZ",
    "outputId": "7acb7e48-4736-4f2a-a52b-c5e4e1ee6662"
   },
   "outputs": [
    {
     "data": {
      "text/plain": [
       "0      0\n",
       "1      0\n",
       "2      0\n",
       "3      0\n",
       "4      0\n",
       "      ..\n",
       "715    1\n",
       "716    0\n",
       "717    0\n",
       "718    0\n",
       "719    0\n",
       "Name: SCALE, Length: 712, dtype: int32"
      ]
     },
     "execution_count": 122,
     "metadata": {},
     "output_type": "execute_result"
    }
   ],
   "source": [
    "df_raw_y"
   ]
  },
  {
   "cell_type": "code",
   "execution_count": 123,
   "metadata": {
    "colab": {
     "base_uri": "https://localhost:8080/"
    },
    "executionInfo": {
     "elapsed": 858,
     "status": "ok",
     "timestamp": 1605982110546,
     "user": {
      "displayName": "성유기",
      "photoUrl": "",
      "userId": "01978674342265104944"
     },
     "user_tz": -540
    },
    "id": "h7szixZ03s12",
    "outputId": "b59afb1d-b522-4fec-bec3-e1b856c2ff85"
   },
   "outputs": [
    {
     "name": "stdout",
     "output_type": "stream",
     "text": [
      "train data X size : (284, 97)\n",
      "train data Y size : (284,)\n",
      "val data X size : (214, 97)\n",
      "val data Y size : (214,)\n",
      "test data X size : (214, 97)\n",
      "test data Y size : (214,)\n"
     ]
    }
   ],
   "source": [
    "df_train_x, df_test_x, df_train_y, df_test_y =train_test_split(df_scaled, df_raw_y, test_size=0.3, random_state=1234)\n",
    "df_train_x, df_val_x, df_train_y, df_val_y = train_test_split(df_train_x,df_train_y,test_size = 3/7,random_state =1234)\n",
    "\n",
    "print(\"train data X size : {}\".format(df_train_x.shape))\n",
    "print(\"train data Y size : {}\".format(df_train_y.shape))\n",
    "print(\"val data X size : {}\".format(df_val_x.shape))\n",
    "print(\"val data Y size : {}\".format(df_val_y.shape))\n",
    "print(\"test data X size : {}\".format(df_test_x.shape))\n",
    "print(\"test data Y size : {}\".format(df_test_y.shape))"
   ]
  },
  {
   "cell_type": "code",
   "execution_count": 124,
   "metadata": {
    "colab": {
     "base_uri": "https://localhost:8080/"
    },
    "executionInfo": {
     "elapsed": 893,
     "status": "ok",
     "timestamp": 1605982114130,
     "user": {
      "displayName": "성유기",
      "photoUrl": "",
      "userId": "01978674342265104944"
     },
     "user_tz": -540
    },
    "id": "_vQc7FJV3s4n",
    "outputId": "a5de7517-f553-4bb3-93b2-c13fe894e075"
   },
   "outputs": [
    {
     "name": "stdout",
     "output_type": "stream",
     "text": [
      "Accuracy on training set:0.912\n",
      "Accuracy on test set:0.869\n"
     ]
    }
   ],
   "source": [
    "#SCV모델 생성\n",
    "svm_uncustomized=SVC(random_state=1234)\n",
    "svm_uncustomized.fit(df_train_x,df_train_y)\n",
    "#train 데이터 셋 정확도\n",
    "print(\"Accuracy on training set:{:.3f}\".format(svm_uncustomized.score(df_train_x, df_train_y)))\n",
    "#test 데이터 셋 정확도\n",
    "print(\"Accuracy on test set:{:.3f}\".format(svm_uncustomized.score(df_test_x,df_test_y)))"
   ]
  },
  {
   "cell_type": "code",
   "execution_count": 125,
   "metadata": {
    "colab": {
     "base_uri": "https://localhost:8080/"
    },
    "executionInfo": {
     "elapsed": 994,
     "status": "ok",
     "timestamp": 1605982124951,
     "user": {
      "displayName": "성유기",
      "photoUrl": "",
      "userId": "01978674342265104944"
     },
     "user_tz": -540
    },
    "id": "wLdYE5183tSG",
    "outputId": "e6fca5bc-c6c7-45ba-c9f1-f47224dfbc70"
   },
   "outputs": [
    {
     "data": {
      "text/plain": [
       "SVC(C=1.0, break_ties=False, cache_size=200, class_weight=None, coef0=0.0,\n",
       "    decision_function_shape='ovr', degree=3, gamma='scale', kernel='rbf',\n",
       "    max_iter=-1, probability=False, random_state=1234, shrinking=True,\n",
       "    tol=0.001, verbose=False)"
      ]
     },
     "execution_count": 125,
     "metadata": {},
     "output_type": "execute_result"
    }
   ],
   "source": [
    "svm_uncustomized"
   ]
  },
  {
   "cell_type": "code",
   "execution_count": 126,
   "metadata": {
    "colab": {
     "base_uri": "https://localhost:8080/",
     "height": 173
    },
    "executionInfo": {
     "elapsed": 1057,
     "status": "ok",
     "timestamp": 1605982125968,
     "user": {
      "displayName": "성유기",
      "photoUrl": "",
      "userId": "01978674342265104944"
     },
     "user_tz": -540
    },
    "id": "SWnJEbOP3tVQ",
    "outputId": "f3e0c810-924c-43fd-f6a8-d876eef83674"
   },
   "outputs": [
    {
     "data": {
      "text/html": [
       "<div>\n",
       "<style scoped>\n",
       "    .dataframe tbody tr th:only-of-type {\n",
       "        vertical-align: middle;\n",
       "    }\n",
       "\n",
       "    .dataframe tbody tr th {\n",
       "        vertical-align: top;\n",
       "    }\n",
       "\n",
       "    .dataframe thead th {\n",
       "        text-align: right;\n",
       "    }\n",
       "</style>\n",
       "<table border=\"1\" class=\"dataframe\">\n",
       "  <thead>\n",
       "    <tr style=\"text-align: right;\">\n",
       "      <th></th>\n",
       "      <th>C</th>\n",
       "      <th>TrainAccuracy</th>\n",
       "      <th>ValAccuracy</th>\n",
       "    </tr>\n",
       "  </thead>\n",
       "  <tbody>\n",
       "    <tr>\n",
       "      <th>0</th>\n",
       "      <td>0.01</td>\n",
       "      <td>0.687</td>\n",
       "      <td>0.664</td>\n",
       "    </tr>\n",
       "    <tr>\n",
       "      <th>1</th>\n",
       "      <td>0.10</td>\n",
       "      <td>0.697</td>\n",
       "      <td>0.678</td>\n",
       "    </tr>\n",
       "    <tr>\n",
       "      <th>2</th>\n",
       "      <td>1.00</td>\n",
       "      <td>0.912</td>\n",
       "      <td>0.836</td>\n",
       "    </tr>\n",
       "    <tr>\n",
       "      <th>3</th>\n",
       "      <td>10.00</td>\n",
       "      <td>1.000</td>\n",
       "      <td>0.860</td>\n",
       "    </tr>\n",
       "  </tbody>\n",
       "</table>\n",
       "</div>"
      ],
      "text/plain": [
       "       C  TrainAccuracy  ValAccuracy\n",
       "0   0.01          0.687        0.664\n",
       "1   0.10          0.697        0.678\n",
       "2   1.00          0.912        0.836\n",
       "3  10.00          1.000        0.860"
      ]
     },
     "execution_count": 126,
     "metadata": {},
     "output_type": "execute_result"
    }
   ],
   "source": [
    "#C; 규제에 대한 강도 변경\n",
    "train_accuracy =[]; val_accuracy=[]\n",
    "#lc; 규제 (0.01,0.1,1,10)\n",
    "# para_c=[0.1 * c for c in range(1,10)]\n",
    "para_c=[10**c for c in range(-2,2)]\n",
    "for v_C in para_c:\n",
    "    svm=SVC(C=v_C,random_state=1234)\n",
    "    svm.fit(df_train_x,df_train_y)\n",
    "    train_accuracy.append(svm.score(df_train_x,df_train_y))\n",
    "    val_accuracy.append(svm.score(df_val_x,df_val_y))\n",
    "#데이터 테이블로 저장 \n",
    "df_accuracy_c=pd.DataFrame()\n",
    "df_accuracy_c[\"C\"]=para_c\n",
    "df_accuracy_c[\"TrainAccuracy\"]=train_accuracy\n",
    "df_accuracy_c[\"ValAccuracy\"]=val_accuracy\n",
    "\n",
    "#C별 정확도\n",
    "df_accuracy_c.round(3)"
   ]
  },
  {
   "cell_type": "code",
   "execution_count": 127,
   "metadata": {
    "colab": {
     "base_uri": "https://localhost:8080/",
     "height": 296
    },
    "executionInfo": {
     "elapsed": 991,
     "status": "ok",
     "timestamp": 1605982129743,
     "user": {
      "displayName": "성유기",
      "photoUrl": "",
      "userId": "01978674342265104944"
     },
     "user_tz": -540
    },
    "id": "3KEk56Oq3tYO",
    "outputId": "bb252b90-41a3-4c86-c43c-691a15e434df"
   },
   "outputs": [
    {
     "data": {
      "text/plain": [
       "<matplotlib.legend.Legend at 0x1c16f183588>"
      ]
     },
     "execution_count": 127,
     "metadata": {},
     "output_type": "execute_result"
    },
    {
     "data": {
      "image/png": "[encoded data removed]",
      "text/plain": [
       "<Figure size 432x288 with 1 Axes>"
      ]
     },
     "metadata": {
      "needs_background": "light"
     },
     "output_type": "display_data"
    }
   ],
   "source": [
    "#C별 정확도 그래프로 확인\n",
    "plt.plot(para_c,train_accuracy,linestyle=\"-\",label=\"Train Accuracy\")\n",
    "plt.plot(para_c,val_accuracy,linestyle=\"--\",label=\"Val Accuracy\")\n",
    "plt.ylabel(\"Accuracy\"); plt.xlabel(\"C\")\n",
    "plt.legend()"
   ]
  },
  {
   "cell_type": "code",
   "execution_count": 128,
   "metadata": {
    "id": "tO177hWT3szS"
   },
   "outputs": [],
   "source": [
    "#Gamma: 훈련 샘플이 미치는 영향의 범위를 변경\n",
    "train_accuracy =[]; val_accuracy=[]\n",
    "#lc; 규제 (0.01,0.1,1,10)\n",
    "para_gamma=[10**gamma for gamma in range(-2,2)]\n",
    "for v_gamma in para_gamma:\n",
    "    svm=SVC(gamma=v_gamma,C=10 ,random_state=1234)\n",
    "    svm.fit(df_train_x,df_train_y)\n",
    "    train_accuracy.append(svm.score(df_train_x,df_train_y))\n",
    "    val_accuracy.append(svm.score(df_val_x,df_val_y))\n",
    "#데이터 테이블로 저장 \n",
    "df_accuracy_gamma=pd.DataFrame()\n",
    "df_accuracy_gamma[\"gamma\"]=para_gamma\n",
    "df_accuracy_gamma[\"TrainAccuracy\"]=train_accuracy\n",
    "df_accuracy_gamma[\"ValAccuracy\"]=val_accuracy"
   ]
  },
  {
   "cell_type": "code",
   "execution_count": 129,
   "metadata": {
    "colab": {
     "base_uri": "https://localhost:8080/",
     "height": 173
    },
    "executionInfo": {
     "elapsed": 993,
     "status": "ok",
     "timestamp": 1605982134812,
     "user": {
      "displayName": "성유기",
      "photoUrl": "",
      "userId": "01978674342265104944"
     },
     "user_tz": -540
    },
    "id": "SDG56APt3suJ",
    "outputId": "d7ec222a-c513-46f3-a5ab-622b41d57643"
   },
   "outputs": [
    {
     "data": {
      "text/html": [
       "<div>\n",
       "<style scoped>\n",
       "    .dataframe tbody tr th:only-of-type {\n",
       "        vertical-align: middle;\n",
       "    }\n",
       "\n",
       "    .dataframe tbody tr th {\n",
       "        vertical-align: top;\n",
       "    }\n",
       "\n",
       "    .dataframe thead th {\n",
       "        text-align: right;\n",
       "    }\n",
       "</style>\n",
       "<table border=\"1\" class=\"dataframe\">\n",
       "  <thead>\n",
       "    <tr style=\"text-align: right;\">\n",
       "      <th></th>\n",
       "      <th>gamma</th>\n",
       "      <th>TrainAccuracy</th>\n",
       "      <th>ValAccuracy</th>\n",
       "    </tr>\n",
       "  </thead>\n",
       "  <tbody>\n",
       "    <tr>\n",
       "      <th>0</th>\n",
       "      <td>0.01</td>\n",
       "      <td>0.905</td>\n",
       "      <td>0.869</td>\n",
       "    </tr>\n",
       "    <tr>\n",
       "      <th>1</th>\n",
       "      <td>0.10</td>\n",
       "      <td>1.000</td>\n",
       "      <td>0.869</td>\n",
       "    </tr>\n",
       "    <tr>\n",
       "      <th>2</th>\n",
       "      <td>1.00</td>\n",
       "      <td>1.000</td>\n",
       "      <td>0.668</td>\n",
       "    </tr>\n",
       "    <tr>\n",
       "      <th>3</th>\n",
       "      <td>10.00</td>\n",
       "      <td>1.000</td>\n",
       "      <td>0.664</td>\n",
       "    </tr>\n",
       "  </tbody>\n",
       "</table>\n",
       "</div>"
      ],
      "text/plain": [
       "   gamma  TrainAccuracy  ValAccuracy\n",
       "0   0.01          0.905        0.869\n",
       "1   0.10          1.000        0.869\n",
       "2   1.00          1.000        0.668\n",
       "3  10.00          1.000        0.664"
      ]
     },
     "execution_count": 129,
     "metadata": {},
     "output_type": "execute_result"
    }
   ],
   "source": [
    "#gamma별 정확도 테이블\n",
    "df_accuracy_gamma.round(3)"
   ]
  },
  {
   "cell_type": "code",
   "execution_count": 130,
   "metadata": {
    "colab": {
     "base_uri": "https://localhost:8080/",
     "height": 296
    },
    "executionInfo": {
     "elapsed": 1109,
     "status": "ok",
     "timestamp": 1605982137872,
     "user": {
      "displayName": "성유기",
      "photoUrl": "",
      "userId": "01978674342265104944"
     },
     "user_tz": -540
    },
    "id": "dH6Z_Igh51P2",
    "outputId": "c5fe477d-54f2-47cc-bfff-d751e8c55c98"
   },
   "outputs": [
    {
     "data": {
      "text/plain": [
       "<matplotlib.legend.Legend at 0x1c16f1a9508>"
      ]
     },
     "execution_count": 130,
     "metadata": {},
     "output_type": "execute_result"
    },
    {
     "data": {
      "image/png": "[encoded data removed]",
      "text/plain": [
       "<Figure size 432x288 with 1 Axes>"
      ]
     },
     "metadata": {
      "needs_background": "light"
     },
     "output_type": "display_data"
    }
   ],
   "source": [
    "#Gamma별 정확도 그래프로 확인\n",
    "plt.plot(para_gamma,train_accuracy,linestyle=\"-\",label=\"Train Accuracy\")\n",
    "plt.plot(para_gamma,val_accuracy,linestyle=\"--\",label=\"Val Accuracy\")\n",
    "plt.xlabel(\"Accuracy\"); plt.ylabel(\"Gamma\")\n",
    "plt.legend()"
   ]
  },
  {
   "cell_type": "code",
   "execution_count": 131,
   "metadata": {
    "colab": {
     "base_uri": "https://localhost:8080/"
    },
    "executionInfo": {
     "elapsed": 1191,
     "status": "ok",
     "timestamp": 1605982387257,
     "user": {
      "displayName": "성유기",
      "photoUrl": "",
      "userId": "01978674342265104944"
     },
     "user_tz": -540
    },
    "id": "d6KLdTfP2N0d",
    "outputId": "eb993c81-b8fc-43c7-ef6e-7bf6765f9147"
   },
   "outputs": [
    {
     "name": "stdout",
     "output_type": "stream",
     "text": [
      "train data X size : (284, 97)\n",
      "val data X size : (214, 97)\n",
      "test data X size:(214, 97)\n"
     ]
    }
   ],
   "source": [
    "df_scaled_train_x, df_scaled_test_x = train_test_split(df_scaled, test_size = 0.3,\n",
    "                                                     random_state = 1234)\n",
    "df_scaled_train_x, df_scaled_val_x = train_test_split(df_scaled_train_x, test_size = 3/7,\n",
    "                                                     random_state = 1234)\n",
    "print(\"train data X size : {}\".format(df_scaled_train_x.shape))\n",
    "print(\"val data X size : {}\".format(df_scaled_val_x.shape))\n",
    "print(\"test data X size:{}\".format(df_scaled_test_x.shape))"
   ]
  },
  {
   "cell_type": "code",
   "execution_count": 132,
   "metadata": {
    "colab": {
     "base_uri": "https://localhost:8080/"
    },
    "executionInfo": {
     "elapsed": 951,
     "status": "ok",
     "timestamp": 1605982391075,
     "user": {
      "displayName": "성유기",
      "photoUrl": "",
      "userId": "01978674342265104944"
     },
     "user_tz": -540
    },
    "id": "xc_XG8DM5-An",
    "outputId": "bcc2ed36-4a8f-4b44-8a25-3e35454758f0"
   },
   "outputs": [
    {
     "name": "stdout",
     "output_type": "stream",
     "text": [
      "Accuracy on training set:0.912\n",
      "Accuracy on val set:0.836\n"
     ]
    }
   ],
   "source": [
    "# scale 조절 후 SVC 모델 재실행\n",
    "\n",
    "svm_scaled = SVC(random_state = 1234)\n",
    "svm_scaled.fit(df_scaled_train_x, df_train_y)\n",
    "print(\"Accuracy on training set:{:.3f}\".format(svm_scaled.score(df_scaled_train_x, df_train_y)))\n",
    "print(\"Accuracy on val set:{:.3f}\".format(svm_scaled.score(df_scaled_val_x, df_val_y)))"
   ]
  },
  {
   "cell_type": "code",
   "execution_count": 133,
   "metadata": {
    "colab": {
     "base_uri": "https://localhost:8080/",
     "height": 979
    },
    "executionInfo": {
     "elapsed": 1810,
     "status": "ok",
     "timestamp": 1605982394590,
     "user": {
      "displayName": "성유기",
      "photoUrl": "",
      "userId": "01978674342265104944"
     },
     "user_tz": -540
    },
    "id": "_PX7VdxK5-C9",
    "outputId": "b5fa0c7a-d4c9-425e-f142-7271713bfccc"
   },
   "outputs": [
    {
     "data": {
      "text/html": [
       "<div>\n",
       "<style scoped>\n",
       "    .dataframe tbody tr th:only-of-type {\n",
       "        vertical-align: middle;\n",
       "    }\n",
       "\n",
       "    .dataframe tbody tr th {\n",
       "        vertical-align: top;\n",
       "    }\n",
       "\n",
       "    .dataframe thead th {\n",
       "        text-align: right;\n",
       "    }\n",
       "</style>\n",
       "<table border=\"1\" class=\"dataframe\">\n",
       "  <thead>\n",
       "    <tr style=\"text-align: right;\">\n",
       "      <th></th>\n",
       "      <th>C</th>\n",
       "      <th>TrainAccuracy</th>\n",
       "      <th>ValAccuracy</th>\n",
       "    </tr>\n",
       "  </thead>\n",
       "  <tbody>\n",
       "    <tr>\n",
       "      <th>0</th>\n",
       "      <td>0.1</td>\n",
       "      <td>0.697</td>\n",
       "      <td>0.678</td>\n",
       "    </tr>\n",
       "    <tr>\n",
       "      <th>1</th>\n",
       "      <td>0.2</td>\n",
       "      <td>0.852</td>\n",
       "      <td>0.822</td>\n",
       "    </tr>\n",
       "    <tr>\n",
       "      <th>2</th>\n",
       "      <td>0.3</td>\n",
       "      <td>0.849</td>\n",
       "      <td>0.822</td>\n",
       "    </tr>\n",
       "    <tr>\n",
       "      <th>3</th>\n",
       "      <td>0.4</td>\n",
       "      <td>0.856</td>\n",
       "      <td>0.827</td>\n",
       "    </tr>\n",
       "    <tr>\n",
       "      <th>4</th>\n",
       "      <td>0.5</td>\n",
       "      <td>0.866</td>\n",
       "      <td>0.822</td>\n",
       "    </tr>\n",
       "    <tr>\n",
       "      <th>5</th>\n",
       "      <td>0.6</td>\n",
       "      <td>0.884</td>\n",
       "      <td>0.827</td>\n",
       "    </tr>\n",
       "    <tr>\n",
       "      <th>6</th>\n",
       "      <td>0.7</td>\n",
       "      <td>0.887</td>\n",
       "      <td>0.836</td>\n",
       "    </tr>\n",
       "    <tr>\n",
       "      <th>7</th>\n",
       "      <td>0.8</td>\n",
       "      <td>0.894</td>\n",
       "      <td>0.836</td>\n",
       "    </tr>\n",
       "    <tr>\n",
       "      <th>8</th>\n",
       "      <td>0.9</td>\n",
       "      <td>0.905</td>\n",
       "      <td>0.836</td>\n",
       "    </tr>\n",
       "    <tr>\n",
       "      <th>9</th>\n",
       "      <td>1.0</td>\n",
       "      <td>0.912</td>\n",
       "      <td>0.836</td>\n",
       "    </tr>\n",
       "    <tr>\n",
       "      <th>10</th>\n",
       "      <td>1.1</td>\n",
       "      <td>0.915</td>\n",
       "      <td>0.836</td>\n",
       "    </tr>\n",
       "    <tr>\n",
       "      <th>11</th>\n",
       "      <td>1.2</td>\n",
       "      <td>0.919</td>\n",
       "      <td>0.836</td>\n",
       "    </tr>\n",
       "    <tr>\n",
       "      <th>12</th>\n",
       "      <td>1.3</td>\n",
       "      <td>0.926</td>\n",
       "      <td>0.846</td>\n",
       "    </tr>\n",
       "    <tr>\n",
       "      <th>13</th>\n",
       "      <td>1.4</td>\n",
       "      <td>0.930</td>\n",
       "      <td>0.850</td>\n",
       "    </tr>\n",
       "    <tr>\n",
       "      <th>14</th>\n",
       "      <td>1.5</td>\n",
       "      <td>0.933</td>\n",
       "      <td>0.850</td>\n",
       "    </tr>\n",
       "    <tr>\n",
       "      <th>15</th>\n",
       "      <td>1.6</td>\n",
       "      <td>0.933</td>\n",
       "      <td>0.850</td>\n",
       "    </tr>\n",
       "    <tr>\n",
       "      <th>16</th>\n",
       "      <td>1.7</td>\n",
       "      <td>0.937</td>\n",
       "      <td>0.850</td>\n",
       "    </tr>\n",
       "    <tr>\n",
       "      <th>17</th>\n",
       "      <td>1.8</td>\n",
       "      <td>0.947</td>\n",
       "      <td>0.850</td>\n",
       "    </tr>\n",
       "    <tr>\n",
       "      <th>18</th>\n",
       "      <td>1.9</td>\n",
       "      <td>0.947</td>\n",
       "      <td>0.860</td>\n",
       "    </tr>\n",
       "    <tr>\n",
       "      <th>19</th>\n",
       "      <td>2.0</td>\n",
       "      <td>0.947</td>\n",
       "      <td>0.864</td>\n",
       "    </tr>\n",
       "    <tr>\n",
       "      <th>20</th>\n",
       "      <td>2.1</td>\n",
       "      <td>0.947</td>\n",
       "      <td>0.874</td>\n",
       "    </tr>\n",
       "    <tr>\n",
       "      <th>21</th>\n",
       "      <td>2.2</td>\n",
       "      <td>0.947</td>\n",
       "      <td>0.874</td>\n",
       "    </tr>\n",
       "    <tr>\n",
       "      <th>22</th>\n",
       "      <td>2.3</td>\n",
       "      <td>0.951</td>\n",
       "      <td>0.879</td>\n",
       "    </tr>\n",
       "    <tr>\n",
       "      <th>23</th>\n",
       "      <td>2.4</td>\n",
       "      <td>0.951</td>\n",
       "      <td>0.883</td>\n",
       "    </tr>\n",
       "    <tr>\n",
       "      <th>24</th>\n",
       "      <td>2.5</td>\n",
       "      <td>0.958</td>\n",
       "      <td>0.879</td>\n",
       "    </tr>\n",
       "    <tr>\n",
       "      <th>25</th>\n",
       "      <td>2.6</td>\n",
       "      <td>0.961</td>\n",
       "      <td>0.879</td>\n",
       "    </tr>\n",
       "    <tr>\n",
       "      <th>26</th>\n",
       "      <td>2.7</td>\n",
       "      <td>0.961</td>\n",
       "      <td>0.879</td>\n",
       "    </tr>\n",
       "    <tr>\n",
       "      <th>27</th>\n",
       "      <td>2.8</td>\n",
       "      <td>0.961</td>\n",
       "      <td>0.874</td>\n",
       "    </tr>\n",
       "    <tr>\n",
       "      <th>28</th>\n",
       "      <td>2.9</td>\n",
       "      <td>0.965</td>\n",
       "      <td>0.869</td>\n",
       "    </tr>\n",
       "    <tr>\n",
       "      <th>29</th>\n",
       "      <td>3.0</td>\n",
       "      <td>0.965</td>\n",
       "      <td>0.869</td>\n",
       "    </tr>\n",
       "  </tbody>\n",
       "</table>\n",
       "</div>"
      ],
      "text/plain": [
       "      C  TrainAccuracy  ValAccuracy\n",
       "0   0.1          0.697        0.678\n",
       "1   0.2          0.852        0.822\n",
       "2   0.3          0.849        0.822\n",
       "3   0.4          0.856        0.827\n",
       "4   0.5          0.866        0.822\n",
       "5   0.6          0.884        0.827\n",
       "6   0.7          0.887        0.836\n",
       "7   0.8          0.894        0.836\n",
       "8   0.9          0.905        0.836\n",
       "9   1.0          0.912        0.836\n",
       "10  1.1          0.915        0.836\n",
       "11  1.2          0.919        0.836\n",
       "12  1.3          0.926        0.846\n",
       "13  1.4          0.930        0.850\n",
       "14  1.5          0.933        0.850\n",
       "15  1.6          0.933        0.850\n",
       "16  1.7          0.937        0.850\n",
       "17  1.8          0.947        0.850\n",
       "18  1.9          0.947        0.860\n",
       "19  2.0          0.947        0.864\n",
       "20  2.1          0.947        0.874\n",
       "21  2.2          0.947        0.874\n",
       "22  2.3          0.951        0.879\n",
       "23  2.4          0.951        0.883\n",
       "24  2.5          0.958        0.879\n",
       "25  2.6          0.961        0.879\n",
       "26  2.7          0.961        0.879\n",
       "27  2.8          0.961        0.874\n",
       "28  2.9          0.965        0.869\n",
       "29  3.0          0.965        0.869"
      ]
     },
     "execution_count": 133,
     "metadata": {},
     "output_type": "execute_result"
    }
   ],
   "source": [
    "# train 및 test 정확도 결과 저장용\n",
    "train_accuracy = []; val_accuracy = []\n",
    "# c: 규제(0.01, 0..1, 1, 10)\n",
    "para_c = [0.1 * c for c in range(1, 31)]\n",
    "# para_c = [10 ** c for c in range(-2, 2)]\n",
    "for v_C in para_c:\n",
    "    svm = SVC(C=v_C, random_state=1234)\n",
    "    svm.fit(df_scaled_train_x, df_train_y)\n",
    "    train_accuracy.append(svm.score(df_scaled_train_x, df_train_y))\n",
    "    val_accuracy.append(svm.score(df_scaled_val_x, df_val_y))\n",
    "# 데이터 테이블로 저장\n",
    "df_accuracy_c = pd.DataFrame()\n",
    "df_accuracy_c[\"C\"] = para_c\n",
    "df_accuracy_c[\"TrainAccuracy\"] = train_accuracy\n",
    "df_accuracy_c[\"ValAccuracy\"] = val_accuracy\n",
    "\n",
    "# C별 정확도 테이블\n",
    "df_accuracy_c.round(3)"
   ]
  },
  {
   "cell_type": "code",
   "execution_count": 134,
   "metadata": {
    "colab": {
     "base_uri": "https://localhost:8080/",
     "height": 296
    },
    "executionInfo": {
     "elapsed": 1010,
     "status": "ok",
     "timestamp": 1605982399250,
     "user": {
      "displayName": "성유기",
      "photoUrl": "",
      "userId": "01978674342265104944"
     },
     "user_tz": -540
    },
    "id": "WrSGnYb75-IC",
    "outputId": "fe4c5696-f635-4ace-e8b2-9db118cb95c0"
   },
   "outputs": [
    {
     "data": {
      "text/plain": [
       "<matplotlib.legend.Legend at 0x1c16f1d68c8>"
      ]
     },
     "execution_count": 134,
     "metadata": {},
     "output_type": "execute_result"
    },
    {
     "data": {
      "image/png": "[encoded data removed]",
      "text/plain": [
       "<Figure size 432x288 with 1 Axes>"
      ]
     },
     "metadata": {
      "needs_background": "light"
     },
     "output_type": "display_data"
    }
   ],
   "source": [
    "# 모델 정확도 그래프 확인\n",
    "plt.plot(para_c, train_accuracy, linestyle=\"-\", label=\"Train Accuracy\")\n",
    "plt.plot(para_c, val_accuracy, linestyle=\"--\", label=\"Val Accuracy\")\n",
    "plt.ylabel(\"accuracy\"); plt.xlabel(\"C\")\n",
    "plt.legend()"
   ]
  },
  {
   "cell_type": "code",
   "execution_count": 135,
   "metadata": {
    "id": "pJpPzVv-5-PX"
   },
   "outputs": [],
   "source": [
    "#새로운 SVC 모델 파라미터 변경\n",
    "#Gamma 훈련 샘플이 미치는 영향의 범위를 변경 결과\n",
    "#train 및 test정확도 결과 저장용\n",
    "train_accuracy=[];val_accuracy=[]\n",
    "#gamma: 규제(0.01 , 0.1 , 1, 10)\n",
    "\n",
    "para_gamma=[0.1 * gamma for gamma in range(1,11)]\n",
    "# para_gamma=[10 **gamma for gamma in range(-2,2)]\n",
    "\n",
    "for v_gamma in para_gamma:\n",
    "    svm=SVC(gamma=v_gamma,C = 0.1,random_state=1234)\n",
    "    svm.fit(df_scaled_train_x,df_train_y)\n",
    "    train_accuracy.append(svm.score(df_scaled_train_x,df_train_y))\n",
    "    val_accuracy.append(svm.score(df_scaled_val_x,df_val_y))\n",
    "#데이터 테이블로 저장\n",
    "df_accuracy_gamma=pd.DataFrame()\n",
    "df_accuracy_gamma['gamma']=para_gamma\n",
    "df_accuracy_gamma['TrainAccuracy']=train_accuracy\n",
    "df_accuracy_gamma['ValAccuracy']=val_accuracy"
   ]
  },
  {
   "cell_type": "code",
   "execution_count": 136,
   "metadata": {
    "colab": {
     "base_uri": "https://localhost:8080/",
     "height": 296
    },
    "executionInfo": {
     "elapsed": 974,
     "status": "ok",
     "timestamp": 1605982406818,
     "user": {
      "displayName": "성유기",
      "photoUrl": "",
      "userId": "01978674342265104944"
     },
     "user_tz": -540
    },
    "id": "xDHHHf2y5-TU",
    "outputId": "124bc5fd-72c1-4570-ece1-78c2ddf9e51f"
   },
   "outputs": [
    {
     "data": {
      "text/plain": [
       "<matplotlib.legend.Legend at 0x1c16f1fc188>"
      ]
     },
     "execution_count": 136,
     "metadata": {},
     "output_type": "execute_result"
    },
    {
     "data": {
      "image/png": "[encoded data removed]",
      "text/plain": [
       "<Figure size 432x288 with 1 Axes>"
      ]
     },
     "metadata": {
      "needs_background": "light"
     },
     "output_type": "display_data"
    }
   ],
   "source": [
    "# 새로운 SVC 모델 평가\n",
    "\n",
    "# Gamma 별 정확도 테이블\n",
    "df_accuracy_gamma.round(3)\n",
    "# Gamma 별 정확도 그래프로 확인\n",
    "plt.plot(para_gamma, train_accuracy, linestyle = \"-\", label = 'Train Accuracy')\n",
    "plt.plot(para_gamma, val_accuracy, linestyle = '--', label = 'Val Accuracy')\n",
    "plt.ylabel('accuracy'); plt.xlabel('gamma')\n",
    "plt.legend()"
   ]
  },
  {
   "cell_type": "code",
   "execution_count": 139,
   "metadata": {
    "colab": {
     "base_uri": "https://localhost:8080/"
    },
    "executionInfo": {
     "elapsed": 1219,
     "status": "ok",
     "timestamp": 1605982412529,
     "user": {
      "displayName": "성유기",
      "photoUrl": "",
      "userId": "01978674342265104944"
     },
     "user_tz": -540
    },
    "id": "vXQC4zNa5-YP",
    "outputId": "9f429e60-768b-498e-982c-d6d446b52479"
   },
   "outputs": [
    {
     "name": "stdout",
     "output_type": "stream",
     "text": [
      "Accuracy on training set: 0.958\n",
      "Accuracy on test set: 0.855 \n",
      "\n",
      "Confusion matrix: \n",
      " [[136   8]\n",
      " [ 23  47]]\n"
     ]
    }
   ],
   "source": [
    "# 최종 모델 \n",
    "svc_final = SVC(gamma = 0.1,C = 1.4, random_state = 1234)\n",
    "svc_final.fit(df_scaled_train_x, df_train_y)\n",
    "# 평가\n",
    "y_pred = svc_final.predict(df_scaled_test_x)\n",
    "# train 데이터 셋 정확도\n",
    "print(\"Accuracy on training set: {:.3f}\" .format(svc_final.score(df_scaled_train_x, df_train_y)))\n",
    "# test 데이터 셋 정확도\n",
    "print(\"Accuracy on test set: {:.3f} \\n\" .format(svc_final.score(df_scaled_test_x, df_test_y)))\n",
    "# confusion matrix\n",
    "print(\"Confusion matrix: \\n {}\" .format(confusion_matrix(df_test_y, y_pred)))"
   ]
  },
  {
   "cell_type": "code",
   "execution_count": 138,
   "metadata": {
    "colab": {
     "base_uri": "https://localhost:8080/"
    },
    "executionInfo": {
     "elapsed": 20056,
     "status": "ok",
     "timestamp": 1605982434076,
     "user": {
      "displayName": "성유기",
      "photoUrl": "",
      "userId": "01978674342265104944"
     },
     "user_tz": -540
    },
    "id": "lFcoINA95-WN",
    "outputId": "d0563733-98bd-4611-d6b1-8c5e0ab49768"
   },
   "outputs": [
    {
     "name": "stdout",
     "output_type": "stream",
     "text": [
      "best estimator model :\n",
      "SVC(C=1.4000000000000001, break_ties=False, cache_size=200, class_weight=None,\n",
      "    coef0=0.0, decision_function_shape='ovr', degree=3, gamma=0.1, kernel='rbf',\n",
      "    max_iter=-1, probability=False, random_state=1234, shrinking=True,\n",
      "    tol=0.001, verbose=False)\n",
      "\n",
      "best paramator model :\n",
      "{'C': 1.4000000000000001, 'gamma': 0.1}\n",
      "\n",
      "best score :\n",
      "0.831\n"
     ]
    }
   ],
   "source": [
    "# GridSearchCV 이용한 최적의 파라미터 찾기\n",
    "estimator = SVC(random_state =1234)\n",
    "\n",
    "param_grid = {\"C\" :para_c, \"gamma\":para_gamma}\n",
    "\n",
    "grid_rf =GridSearchCV(estimator, param_grid,scoring=\"accuracy\", n_jobs=-1)\n",
    "grid_rf.fit(df_scaled_train_x,df_train_y)\n",
    "\n",
    "print(\"best estimator model :\\n{}\".format(grid_rf.best_estimator_))\n",
    "print(\"\\nbest paramator model :\\n{}\".format(grid_rf.best_params_))\n",
    "print(\"\\nbest score :\\n{}\".format(grid_rf.best_score_.round(3)))"
   ]
  },
  {
   "cell_type": "markdown",
   "metadata": {
    "id": "RmrfqyvU5-M6"
   },
   "source": [
    "서포트 벡터머신은 변수 중요도가 나오지 않음 "
   ]
  },
  {
   "cell_type": "code",
   "execution_count": null,
   "metadata": {},
   "outputs": [],
   "source": []
  }
 ],
 "metadata": {
  "colab": {
   "collapsed_sections": [
    "AHktE_b-tkVD",
    "skGhH5cBtGgo",
    "jb0ncgdMtGgq",
    "q1KOqM-FtGgr"
   ],
   "name": "종합실습2.ipynb",
   "provenance": []
  },
  "kernelspec": {
   "display_name": "Python 3",
   "language": "python",
   "name": "python3"
  },
  "language_info": {
   "codemirror_mode": {
    "name": "ipython",
    "version": 3
   },
   "file_extension": ".py",
   "mimetype": "text/x-python",
   "name": "python",
   "nbconvert_exporter": "python",
   "pygments_lexer": "ipython3",
   "version": "3.7.6"
  },
  "varInspector": {
   "cols": {
    "lenName": 16,
    "lenType": 16,
    "lenVar": 40
   },
   "kernels_config": {
    "python": {
     "delete_cmd_postfix": "",
     "delete_cmd_prefix": "del ",
     "library": "var_list.py",
     "varRefreshCmd": "print(var_dic_list())"
    },
    "r": {
     "delete_cmd_postfix": ") ",
     "delete_cmd_prefix": "rm(",
     "library": "var_list.r",
     "varRefreshCmd": "cat(var_dic_list()) "
    }
   },
   "types_to_exclude": [
    "module",
    "function",
    "builtin_function_or_method",
    "instance",
    "_Feature"
   ],
   "window_display": false
  }
 },
 "nbformat": 4,
 "nbformat_minor": 1
}
