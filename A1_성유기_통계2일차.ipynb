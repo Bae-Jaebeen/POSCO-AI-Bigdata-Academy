{
 "cells": [
  {
   "cell_type": "code",
   "execution_count": 1,
   "metadata": {},
   "outputs": [],
   "source": [
    "import pandas as pd\n",
    "import numpy as np\n",
    "import matplotlib\n",
    "import matplotlib.pyplot as plt\n",
    "import seaborn as sns\n",
    "from scipy import stats\n",
    "import scipy.stats\n",
    "\n",
    "%matplotlib inline"
   ]
  },
  {
   "cell_type": "code",
   "execution_count": 2,
   "metadata": {},
   "outputs": [],
   "source": [
    "matplotlib.rc('font', family = 'Malgun Gothic')\n",
    "plt.rc('font', family = 'Malgun Gothic')"
   ]
  },
  {
   "cell_type": "markdown",
   "metadata": {},
   "source": [
    "## Weibull분포"
   ]
  },
  {
   "cell_type": "code",
   "execution_count": 34,
   "metadata": {},
   "outputs": [
    {
     "name": "stdout",
     "output_type": "stream",
     "text": [
      "P(X>=2500):0.143\n"
     ]
    }
   ],
   "source": [
    "x = 2500\n",
    "alpha = 5.2\n",
    "beta = 2200\n",
    "\n",
    "#누적확률 값 계산 \n",
    "prob = stats.weibull_min.cdf(x,alpha,scale = beta)\n",
    "print(\"P(X>={0}):{1:.3f}\".format(x,(1-prob)))"
   ]
  },
  {
   "cell_type": "markdown",
   "metadata": {},
   "source": [
    "전체 넓이 - f(X<=2500) = 1 - prob  \n",
    "\n",
    "※ 결론: 제품이 2500시간 이상 작동할 확률은 0.143이다."
   ]
  },
  {
   "cell_type": "markdown",
   "metadata": {},
   "source": [
    "## 이항분포"
   ]
  },
  {
   "cell_type": "code",
   "execution_count": 4,
   "metadata": {},
   "outputs": [
    {
     "name": "stdout",
     "output_type": "stream",
     "text": [
      "P(X=0)=0.168\n",
      "P(X=1)=0.360\n",
      "P(X=2)=0.309\n",
      "P(X=3)=0.132\n",
      "P(X=4)=0.028\n",
      "P(X=5)=0.002\n"
     ]
    }
   ],
   "source": [
    "n = 5\n",
    "\n",
    "for i in range(n+1):\n",
    "    \n",
    "    prob =stats.binom.pmf(k=i,n=n,p=0.3)\n",
    "    print(\"P(X={0})={1:.3f}\".format(i,prob))"
   ]
  },
  {
   "cell_type": "markdown",
   "metadata": {},
   "source": [
    "※ 결론 : 5대의 차량을 임의로 선택했을때 불량대수가 0,1,2,3,4,5 대가 나올 확률은 위와 같다. "
   ]
  },
  {
   "cell_type": "markdown",
   "metadata": {},
   "source": [
    "## 포아송분포"
   ]
  },
  {
   "cell_type": "code",
   "execution_count": 5,
   "metadata": {},
   "outputs": [
    {
     "name": "stdout",
     "output_type": "stream",
     "text": [
      "2명의 손님이 도착할 확률 : 22.4\n"
     ]
    }
   ],
   "source": [
    "m = 3\n",
    "prob = stats.poisson.pmf(2,m)\n",
    "\n",
    "\n",
    "print(\"{0}명의 손님이 도착할 확률 : {1:.1f}\".format(2,prob*100))"
   ]
  },
  {
   "cell_type": "code",
   "execution_count": 9,
   "metadata": {},
   "outputs": [
    {
     "name": "stdout",
     "output_type": "stream",
     "text": [
      "1명 이하의 손님이 도착할 확률 : 14.9\n"
     ]
    }
   ],
   "source": [
    "m = 3\n",
    "prob = stats.poisson.pmf(1,m)\n",
    "\n",
    "\n",
    "print(\"{0}명 이하의 손님이 도착할 확률 : {1:.1f}\".format(1,(prob)*100))"
   ]
  },
  {
   "cell_type": "code",
   "execution_count": 8,
   "metadata": {},
   "outputs": [
    {
     "name": "stdout",
     "output_type": "stream",
     "text": [
      "3명 이하의 손님이 도착할 확률 : 77.6\n"
     ]
    }
   ],
   "source": [
    "m = 3\n",
    "prob = stats.poisson.pmf(3,m)\n",
    "\n",
    "\n",
    "print(\"{0}명 이하의 손님이 도착할 확률 : {1:.1f}\".format(3,(1-prob)*100))"
   ]
  },
  {
   "cell_type": "markdown",
   "metadata": {},
   "source": [
    "※결론 : 일정시간(10시에서 11시)사이에 각 조건의 손님이 도착할 확률은 위와 같다. "
   ]
  },
  {
   "cell_type": "markdown",
   "metadata": {},
   "source": [
    "## 정규성검정"
   ]
  },
  {
   "cell_type": "code",
   "execution_count": 80,
   "metadata": {},
   "outputs": [
    {
     "data": {
      "text/html": [
       "<div>\n",
       "<style scoped>\n",
       "    .dataframe tbody tr th:only-of-type {\n",
       "        vertical-align: middle;\n",
       "    }\n",
       "\n",
       "    .dataframe tbody tr th {\n",
       "        vertical-align: top;\n",
       "    }\n",
       "\n",
       "    .dataframe thead th {\n",
       "        text-align: right;\n",
       "    }\n",
       "</style>\n",
       "<table border=\"1\" class=\"dataframe\">\n",
       "  <thead>\n",
       "    <tr style=\"text-align: right;\">\n",
       "      <th></th>\n",
       "      <th>Mat_A</th>\n",
       "      <th>Mat_B</th>\n",
       "      <th>Total</th>\n",
       "      <th>Sub</th>\n",
       "    </tr>\n",
       "  </thead>\n",
       "  <tbody>\n",
       "    <tr>\n",
       "      <th>0</th>\n",
       "      <td>73.4</td>\n",
       "      <td>68.7</td>\n",
       "      <td>73.4</td>\n",
       "      <td>1</td>\n",
       "    </tr>\n",
       "    <tr>\n",
       "      <th>1</th>\n",
       "      <td>77.0</td>\n",
       "      <td>71.4</td>\n",
       "      <td>77.0</td>\n",
       "      <td>1</td>\n",
       "    </tr>\n",
       "    <tr>\n",
       "      <th>2</th>\n",
       "      <td>73.7</td>\n",
       "      <td>69.8</td>\n",
       "      <td>73.7</td>\n",
       "      <td>1</td>\n",
       "    </tr>\n",
       "    <tr>\n",
       "      <th>3</th>\n",
       "      <td>73.3</td>\n",
       "      <td>75.3</td>\n",
       "      <td>73.3</td>\n",
       "      <td>1</td>\n",
       "    </tr>\n",
       "    <tr>\n",
       "      <th>4</th>\n",
       "      <td>73.1</td>\n",
       "      <td>71.3</td>\n",
       "      <td>73.1</td>\n",
       "      <td>1</td>\n",
       "    </tr>\n",
       "  </tbody>\n",
       "</table>\n",
       "</div>"
      ],
      "text/plain": [
       "   Mat_A  Mat_B  Total  Sub\n",
       "0   73.4   68.7   73.4    1\n",
       "1   77.0   71.4   77.0    1\n",
       "2   73.7   69.8   73.7    1\n",
       "3   73.3   75.3   73.3    1\n",
       "4   73.1   71.3   73.1    1"
      ]
     },
     "execution_count": 80,
     "metadata": {},
     "output_type": "execute_result"
    }
   ],
   "source": [
    "ds_mat = pd.read_csv(\"data/2sample_t_test.csv\",engine = \"python\")\n",
    "ds_mat.head()"
   ]
  },
  {
   "cell_type": "code",
   "execution_count": 86,
   "metadata": {},
   "outputs": [
    {
     "data": {
      "text/plain": [
       "0    73.4\n",
       "1    77.0\n",
       "2    73.7\n",
       "3    73.3\n",
       "4    73.1\n",
       "5    71.5\n",
       "6    74.5\n",
       "7    77.5\n",
       "8    76.4\n",
       "9    77.7\n",
       "Name: Mat_A, dtype: float64"
      ]
     },
     "execution_count": 86,
     "metadata": {},
     "output_type": "execute_result"
    }
   ],
   "source": [
    "data1 = ds_mat['Mat_A'][0:10]\n",
    "data1 "
   ]
  },
  {
   "cell_type": "code",
   "execution_count": 87,
   "metadata": {},
   "outputs": [
    {
     "name": "stdout",
     "output_type": "stream",
     "text": [
      "Shapiro = Wilk Test : statistic=0.9062636494636536,p-value=0.2562994360923767\n"
     ]
    }
   ],
   "source": [
    "statistic,p = stats.shapiro(data1)\n",
    "print(\"Shapiro = Wilk Test : statistic={},p-value={}\".format(statistic,p))"
   ]
  },
  {
   "cell_type": "markdown",
   "metadata": {},
   "source": [
    "귀무가설 :정규성을 만족한다.   \n",
    "대립가설 :정규성을 만족하지 않는다.  \n",
    "\n",
    "※결론 : p값이 0.256으로 유의수준(alpha=0.05)보다 크므로 귀무가설을 채택한다.(=data1은 정규성을 만족한다.)"
   ]
  },
  {
   "cell_type": "code",
   "execution_count": 83,
   "metadata": {},
   "outputs": [
    {
     "data": {
      "text/plain": [
       "0    68.7\n",
       "1    71.4\n",
       "2    69.8\n",
       "3    75.3\n",
       "4    71.3\n",
       "5    72.7\n",
       "6    66.9\n",
       "7    70.2\n",
       "8    74.4\n",
       "9    70.1\n",
       "Name: Mat_B, dtype: float64"
      ]
     },
     "execution_count": 83,
     "metadata": {},
     "output_type": "execute_result"
    }
   ],
   "source": [
    "data2 = ds_mat['Mat_B'][0:10]\n",
    "data2"
   ]
  },
  {
   "cell_type": "code",
   "execution_count": 79,
   "metadata": {},
   "outputs": [
    {
     "name": "stdout",
     "output_type": "stream",
     "text": [
      "Shapiro = Wilk Test : statistic=0.9729753732681274,p-value=0.9169777035713196\n"
     ]
    }
   ],
   "source": [
    "statistic,p = stats.shapiro(data2)\n",
    "print(\"Shapiro = Wilk Test : statistic={},p-value={}\".format(statistic,p))"
   ]
  },
  {
   "cell_type": "markdown",
   "metadata": {},
   "source": [
    "귀무가설 : 정규성을 만족한다.  \n",
    "대립가설 : 정규성을 만족하지 않는다.   \n",
    "\n",
    "※결론 : p값이 0.917으로 유의수준(alpha=0.05)보다 크므로 귀무가설을 채택한다.(=data2는 정규성을 만족한다.)"
   ]
  },
  {
   "cell_type": "markdown",
   "metadata": {},
   "source": [
    "## 모평균추정(모표준편차 아는 경우)"
   ]
  },
  {
   "cell_type": "code",
   "execution_count": 15,
   "metadata": {},
   "outputs": [
    {
     "data": {
      "text/html": [
       "<div>\n",
       "<style scoped>\n",
       "    .dataframe tbody tr th:only-of-type {\n",
       "        vertical-align: middle;\n",
       "    }\n",
       "\n",
       "    .dataframe tbody tr th {\n",
       "        vertical-align: top;\n",
       "    }\n",
       "\n",
       "    .dataframe thead th {\n",
       "        text-align: right;\n",
       "    }\n",
       "</style>\n",
       "<table border=\"1\" class=\"dataframe\">\n",
       "  <thead>\n",
       "    <tr style=\"text-align: right;\">\n",
       "      <th></th>\n",
       "      <th>sample</th>\n",
       "    </tr>\n",
       "  </thead>\n",
       "  <tbody>\n",
       "    <tr>\n",
       "      <th>0</th>\n",
       "      <td>18</td>\n",
       "    </tr>\n",
       "    <tr>\n",
       "      <th>1</th>\n",
       "      <td>18</td>\n",
       "    </tr>\n",
       "    <tr>\n",
       "      <th>2</th>\n",
       "      <td>20</td>\n",
       "    </tr>\n",
       "    <tr>\n",
       "      <th>3</th>\n",
       "      <td>21</td>\n",
       "    </tr>\n",
       "    <tr>\n",
       "      <th>4</th>\n",
       "      <td>20</td>\n",
       "    </tr>\n",
       "  </tbody>\n",
       "</table>\n",
       "</div>"
      ],
      "text/plain": [
       "   sample\n",
       "0      18\n",
       "1      18\n",
       "2      20\n",
       "3      21\n",
       "4      20"
      ]
     },
     "execution_count": 15,
     "metadata": {},
     "output_type": "execute_result"
    }
   ],
   "source": [
    "df = pd.DataFrame({\"sample\":[18,18,20,21,20,23,19,18,17,21,22,20,20,21,20,19,19,18,17,19]})\n",
    "df.head()"
   ]
  },
  {
   "cell_type": "code",
   "execution_count": 16,
   "metadata": {},
   "outputs": [
    {
     "name": "stdout",
     "output_type": "stream",
     "text": [
      "신뢰구간:[17.83],[21.17]\n"
     ]
    }
   ],
   "source": [
    "lower,upper = stats.norm.interval(0.95, loc = np.mean(df),scale = 3.8/np.sqrt(20))\n",
    "print(\"신뢰구간:{0},{1}\".format(lower.round(2),upper.round(2)))"
   ]
  },
  {
   "cell_type": "markdown",
   "metadata": {},
   "source": [
    "※결론 : 평균무게에 대한 95% 신뢰구간은 17.83 ~ 21.17 이다. "
   ]
  },
  {
   "cell_type": "markdown",
   "metadata": {},
   "source": [
    "## 모평균추정(모표준편차 모르는 경우)"
   ]
  },
  {
   "cell_type": "code",
   "execution_count": 17,
   "metadata": {},
   "outputs": [
    {
     "name": "stdout",
     "output_type": "stream",
     "text": [
      "신뢰구간:[70.6],[72.4]\n"
     ]
    }
   ],
   "source": [
    "df =pd.DataFrame({'sample':[73,71,74,69,70,73,70,68,75,72,70,72,73,70,70,72,71,70,75,72]})\n",
    "lower,upper = stats.t.interval(0.95,len(df)-1, loc =np.mean(df),scale =scipy.stats.sem(df))\n",
    "print(\"신뢰구간:{0},{1}\".format(lower.round(2),upper.round(2)))"
   ]
  },
  {
   "cell_type": "markdown",
   "metadata": {},
   "source": [
    "※결론 : 모평균의 95% 신뢰구간은 70.6 ~ 72.4 이다."
   ]
  },
  {
   "cell_type": "markdown",
   "metadata": {},
   "source": [
    "## 모분산 신뢰구간 추정"
   ]
  },
  {
   "cell_type": "code",
   "execution_count": 45,
   "metadata": {
    "scrolled": true
   },
   "outputs": [
    {
     "data": {
      "text/html": [
       "<div>\n",
       "<style scoped>\n",
       "    .dataframe tbody tr th:only-of-type {\n",
       "        vertical-align: middle;\n",
       "    }\n",
       "\n",
       "    .dataframe tbody tr th {\n",
       "        vertical-align: top;\n",
       "    }\n",
       "\n",
       "    .dataframe thead th {\n",
       "        text-align: right;\n",
       "    }\n",
       "</style>\n",
       "<table border=\"1\" class=\"dataframe\">\n",
       "  <thead>\n",
       "    <tr style=\"text-align: right;\">\n",
       "      <th></th>\n",
       "      <th>sample</th>\n",
       "    </tr>\n",
       "  </thead>\n",
       "  <tbody>\n",
       "    <tr>\n",
       "      <th>count</th>\n",
       "      <td>50.000000</td>\n",
       "    </tr>\n",
       "    <tr>\n",
       "      <th>mean</th>\n",
       "      <td>10.740000</td>\n",
       "    </tr>\n",
       "    <tr>\n",
       "      <th>std</th>\n",
       "      <td>3.983691</td>\n",
       "    </tr>\n",
       "    <tr>\n",
       "      <th>min</th>\n",
       "      <td>4.000000</td>\n",
       "    </tr>\n",
       "    <tr>\n",
       "      <th>25%</th>\n",
       "      <td>8.000000</td>\n",
       "    </tr>\n",
       "    <tr>\n",
       "      <th>50%</th>\n",
       "      <td>10.500000</td>\n",
       "    </tr>\n",
       "    <tr>\n",
       "      <th>75%</th>\n",
       "      <td>13.000000</td>\n",
       "    </tr>\n",
       "    <tr>\n",
       "      <th>max</th>\n",
       "      <td>19.000000</td>\n",
       "    </tr>\n",
       "  </tbody>\n",
       "</table>\n",
       "</div>"
      ],
      "text/plain": [
       "          sample\n",
       "count  50.000000\n",
       "mean   10.740000\n",
       "std     3.983691\n",
       "min     4.000000\n",
       "25%     8.000000\n",
       "50%    10.500000\n",
       "75%    13.000000\n",
       "max    19.000000"
      ]
     },
     "execution_count": 45,
     "metadata": {},
     "output_type": "execute_result"
    }
   ],
   "source": [
    "df = pd.DataFrame({\"sample\":[12,9,10,5,16,13,5,9,8,13,16,12,12,4,14,9,11,14,9,17,5,8,9,6,11,19,6,6,8,9,13,10,8,13,19,8,12,14,16,16,11,17,5,9,12,17,11,8,5,8]})\n",
    "df.describe()"
   ]
  },
  {
   "cell_type": "markdown",
   "metadata": {},
   "source": [
    "=> std의 값은 3.98"
   ]
  },
  {
   "cell_type": "code",
   "execution_count": 92,
   "metadata": {},
   "outputs": [
    {
     "name": "stdout",
     "output_type": "stream",
     "text": [
      "모분산의 95% 신뢰 구간 : (10.87,23.99)\n"
     ]
    }
   ],
   "source": [
    "n = 50\n",
    "std = 3.98\n",
    "\n",
    "# chai1  =>  x^2(0.05/2,49) = x^2(0.025,49) =>카이분포표(alpha = 0.025,df =49)에서 71.42\n",
    "# chai2  =>  x^2((1 - 0.05/2),49) = x^2(0.975,49) =>카이분포표(alpha = 0.975,df =49에서 32.36\n",
    "\n",
    "chai1 = 71.42\n",
    "chai2 = 32.36\n",
    "\n",
    "a = (n - 1) * std**2 / chai1\n",
    "b = (n - 1) * std**2 / chai2\n",
    "\n",
    "print(\"모분산의 95% 신뢰 구간 : ({0:.2f},{1:.2f})\".format(a, b)) "
   ]
  },
  {
   "cell_type": "markdown",
   "metadata": {},
   "source": [
    "## 모비율의 신뢰구간 추정"
   ]
  },
  {
   "cell_type": "code",
   "execution_count": 90,
   "metadata": {},
   "outputs": [
    {
     "name": "stdout",
     "output_type": "stream",
     "text": [
      "통화 관리 성공율에 대한 95% 신뢰 구간 :(0.71, 0.93)\n"
     ]
    }
   ],
   "source": [
    "n = 50 \n",
    "phat = 1 - (9 / 50)\n",
    "\n",
    "# z(0.025) => 정규분포표에서 1.96  \n",
    "z = 1.96 \n",
    "\n",
    "lower = phat - z * np.sqrt(phat * (1 - phat) / n)\n",
    "upper = phat + z * np.sqrt(phat * (1 - phat) / n)\n",
    "\n",
    "print(\"통화 관리 성공율에 대한 95% 신뢰 구간 :({0}, {1})\".format(lower.round(2), upper.round(2)))\n"
   ]
  },
  {
   "cell_type": "markdown",
   "metadata": {},
   "source": [
    "## 평균검정(모집단 표준편차를 모르는 경우)"
   ]
  },
  {
   "cell_type": "code",
   "execution_count": 94,
   "metadata": {},
   "outputs": [
    {
     "name": "stdout",
     "output_type": "stream",
     "text": [
      "1-sample t-test\n",
      "t통계량 :[3.379]\n",
      "p-value:[0.008]\n"
     ]
    }
   ],
   "source": [
    "df = pd.DataFrame({'sample':[85.0,79.0,79.1,79.9,81.6,78.6,85.4,83.4,78.1,79.2]})\n",
    "t_result = stats.ttest_1samp(df,78.0)\n",
    "\n",
    "t,p = t_result.statistic.round(3), t_result.pvalue.round(3)\n",
    "\n",
    "print(\"1-sample t-test\")\n",
    "print(\"t통계량 :{}\".format(t))\n",
    "print(\"p-value:{}\".format(p))"
   ]
  },
  {
   "cell_type": "markdown",
   "metadata": {},
   "source": [
    "귀무가설 : 개선활동이 만족도를 변화시켰다.  \n",
    "대립가설 : 개선활동이 만족도를 변화시키지 않는다.  \n",
    "\n",
    "※ 결론 : p -value 값이 0.008으로 유의수준(alpha = 0.05) 보다 작으므로 귀무가설을 기각한다. (=개선활동이 만족도를 변화시키지 않는다.)"
   ]
  },
  {
   "cell_type": "markdown",
   "metadata": {},
   "source": [
    "## 2 Sample t-test"
   ]
  },
  {
   "cell_type": "code",
   "execution_count": 66,
   "metadata": {},
   "outputs": [
    {
     "name": "stdout",
     "output_type": "stream",
     "text": [
      "2-sample t-test\n",
      "t:[1.7]\n",
      "p:[0.111]\n"
     ]
    }
   ],
   "source": [
    "df1 = pd.DataFrame({'sample':[1.883,1.715,1.799,1.768,1.711,1.832,1.427,1.344]})\n",
    "df2 = pd.DataFrame({'sample':[1.435,1.572,1.486,1.511,1.457,1.548,1.404,1.883]})\n",
    "\n",
    "t_result =stats.ttest_ind(df1,df2)\n",
    "\n",
    "t,p = t_result.statistic.round(3),t_result.pvalue.round(3)\n",
    "\n",
    "print(\"2-sample t-test\")\n",
    "print(\"t:{}\".format(t))\n",
    "print(\"p:{}\".format(p))"
   ]
  },
  {
   "cell_type": "markdown",
   "metadata": {},
   "source": [
    "귀무가설 : 공급자 간에 모평균의 차이가 있다.  \n",
    "대립가설 : 공급자 간에 모평균의 차이가 없다.   \n",
    "\n",
    "\n",
    "※결론 : 유의수준 5% 에서 검정결과 P값이 0.111 으로 alpha(=0.05)보다 크므로 귀무가설을 기각한다.(=공급자간에 모평균에 차이가 없다.)"
   ]
  },
  {
   "cell_type": "markdown",
   "metadata": {},
   "source": [
    "## paired t-test"
   ]
  },
  {
   "cell_type": "code",
   "execution_count": 71,
   "metadata": {},
   "outputs": [
    {
     "name": "stdout",
     "output_type": "stream",
     "text": [
      " Paired t-test\n",
      " t 검정통계량 = -2.266 \n",
      " p-value = 0.050\n"
     ]
    }
   ],
   "source": [
    "df1 = pd.DataFrame({'sample': [720, 589, 780, 648, 720, 589, 780, 648, 780, 648]})\n",
    "df2 = pd.DataFrame({'sample': [710, 580, 787, 712, 750, 600, 782, 670, 790, 680]})\n",
    "\n",
    "t_result = stats.ttest_rel(df1,df2)\n",
    "\n",
    "t,p = t_result.statistic.round(3), t_result.pvalue.round(3)\n",
    "\n",
    "print(\" Paired t-test\")\n",
    "print(\" t 검정통계량 = %.3f \\n p-value = %.3f\" % t_result)"
   ]
  },
  {
   "cell_type": "markdown",
   "metadata": {},
   "source": [
    "귀무가설 : 학원가기 전후에 대해 차이가 없다.   \n",
    "대립가설 : 학원가기 전후에 대해 차이가 있다.  \n",
    "\n",
    "※ 결론 : 유의수준 5%에서 검정결과 P값이 0.05 으로 (alpha=0.05)보다 작지 않으므로 귀무가설을 채택한다.(=학원가기 전후에 대해 차이가 없다.)"
   ]
  },
  {
   "cell_type": "markdown",
   "metadata": {},
   "source": [
    "## 1 Proportion test"
   ]
  },
  {
   "cell_type": "code",
   "execution_count": 29,
   "metadata": {},
   "outputs": [],
   "source": [
    "from statsmodels.stats.proportion import proportions_ztest"
   ]
  },
  {
   "cell_type": "code",
   "execution_count": 30,
   "metadata": {},
   "outputs": [
    {
     "name": "stdout",
     "output_type": "stream",
     "text": [
      "1 Proportion test\n",
      "z :-2.041\n",
      "p:0.041\n"
     ]
    }
   ],
   "source": [
    "count = 40\n",
    "n_obs = 100\n",
    "value = 0.5\n",
    "\n",
    "stat,pval = proportions_ztest(count,n_obs,value)\n",
    "\n",
    "print(\"1 Proportion test\")\n",
    "print(\"z :{0:0.3f}\".format(stat))\n",
    "print('p:{0:0.3f}'.format(pval))"
   ]
  },
  {
   "cell_type": "markdown",
   "metadata": {},
   "source": [
    "귀무가설 : p(동전의 앞면이 나올 확률) = 0.5 이다.(해당 동전이 정상적이다.)  \n",
    "대립가설 : p = 0.5가 아니다. (해당 동전은 정상적이지 않다.)  \n",
    "\n",
    "※결론 : P값이 0.041 으로 (alpha = 0.05)보다 작으므로 귀무가설을 기각한다.(=해당동전은 정상 동전이 아니다.) "
   ]
  },
  {
   "cell_type": "markdown",
   "metadata": {},
   "source": [
    "## 2 Proportion test"
   ]
  },
  {
   "cell_type": "code",
   "execution_count": 31,
   "metadata": {},
   "outputs": [
    {
     "name": "stdout",
     "output_type": "stream",
     "text": [
      "2 Proportion test\n",
      "z :2.073\n",
      "p:0.038\n"
     ]
    }
   ],
   "source": [
    "count = np.array([14,5])\n",
    "nobs = np.array([1200,1200])\n",
    "\n",
    "stat, pval = proportions_ztest(count,nobs)\n",
    "\n",
    "print(\"2 Proportion test\")\n",
    "print(\"z :{0:0.3f}\".format(stat))\n",
    "print('p:{0:0.3f}'.format(pval))"
   ]
  },
  {
   "cell_type": "markdown",
   "metadata": {},
   "source": [
    "귀무가설 : 두 공정의 불량률이 같다.   \n",
    "대립가설 : 두 공정의 불량률이 같지 않다.     \n",
    "\n",
    "※결론 : p값이 0.038으로 (alpha=0.05)보다 작으므로 귀무가설을 기각한다.(= 두 공정의 불량룰은 같지 않다.) "
   ]
  }
 ],
 "metadata": {
  "kernelspec": {
   "display_name": "Python 3",
   "language": "python",
   "name": "python3"
  },
  "language_info": {
   "codemirror_mode": {
    "name": "ipython",
    "version": 3
   },
   "file_extension": ".py",
   "mimetype": "text/x-python",
   "name": "python",
   "nbconvert_exporter": "python",
   "pygments_lexer": "ipython3",
   "version": "3.8.3"
  }
 },
 "nbformat": 4,
 "nbformat_minor": 4
}
